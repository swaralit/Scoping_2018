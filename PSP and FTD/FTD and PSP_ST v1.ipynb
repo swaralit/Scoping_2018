{
 "cells": [
  {
   "cell_type": "markdown",
   "metadata": {},
   "source": [
    "# Intialisation Steps\n",
    "Connecting to Snowflake"
   ]
  },
  {
   "cell_type": "markdown",
   "metadata": {},
   "source": [
    "## Importing required modules"
   ]
  },
  {
   "cell_type": "code",
   "execution_count": 2,
   "metadata": {},
   "outputs": [],
   "source": [
    "import pandas as pd\n",
    "from drg_connect import Snowflake\n",
    "import qgrid \n",
    "from datetime import timedelta, datetime\n",
    "import math\n",
    "\n",
    "import warnings\n",
    "warnings.filterwarnings('ignore')"
   ]
  },
  {
   "cell_type": "markdown",
   "metadata": {},
   "source": [
    "## Snowflake connection parameter"
   ]
  },
  {
   "cell_type": "code",
   "execution_count": 3,
   "metadata": {},
   "outputs": [
    {
     "data": {
      "application/javascript": [
       "\n",
       "    require(['notebook/js/codecell'], function(codecell) {\n",
       "      // https://github.com/jupyter/notebook/issues/2453\n",
       "      codecell.CodeCell.options_default.highlight_modes['magic_text/x-sql'] = {'reg':[/^%read_sql/, /.*=\\s*%read_sql/,\n",
       "                                                                                      /^%%read_sql/]};\n",
       "      Jupyter.notebook.events.one('kernel_ready.Kernel', function(){\n",
       "          console.log('BBBBB');\n",
       "          Jupyter.notebook.get_cells().map(function(cell){\n",
       "              if (cell.cell_type == 'code'){ cell.auto_highlight(); } }) ;\n",
       "      });\n",
       "    });\n",
       "    "
      ]
     },
     "metadata": {},
     "output_type": "display_data"
    }
   ],
   "source": [
    "##defining parameters of snowflake\n",
    "snow = Snowflake(role = 'RWD_ANALYTICS_RW',database='SANDBOX_ANALYTICS',schema = 'SANDBOX')\n",
    "engine = snow.engine\n",
    "\n",
    "%reload_ext sql_magic\n",
    "%config SQL.output_result = True  #Enable output to std out\n",
    "%config SQL.notify_result = False #disable browser notifications\n",
    "%config SQL.conn_name = 'engine'  #Set the sql_magic connection engine"
   ]
  },
  {
   "cell_type": "markdown",
   "metadata": {},
   "source": [
    "# Queries from here"
   ]
  },
  {
   "cell_type": "markdown",
   "metadata": {},
   "source": [
    "# FTD and PSP"
   ]
  },
  {
   "cell_type": "markdown",
   "metadata": {},
   "source": [
    "## Relevant ICD codes"
   ]
  },
  {
   "cell_type": "code",
   "execution_count": 4,
   "metadata": {},
   "outputs": [
    {
     "name": "stdout",
     "output_type": "stream",
     "text": [
      "Initiating login request with your identity provider. A browser window should have opened for you to complete the login. If you can't see it, check existing browser windows, or your OS settings. Press CTRL+C to abort and try again...\n"
     ]
    },
    {
     "data": {
      "text/html": [
       "<div>\n",
       "<style scoped>\n",
       "    .dataframe tbody tr th:only-of-type {\n",
       "        vertical-align: middle;\n",
       "    }\n",
       "\n",
       "    .dataframe tbody tr th {\n",
       "        vertical-align: top;\n",
       "    }\n",
       "\n",
       "    .dataframe thead th {\n",
       "        text-align: right;\n",
       "    }\n",
       "</style>\n",
       "<table border=\"1\" class=\"dataframe\">\n",
       "  <thead>\n",
       "    <tr style=\"text-align: right;\">\n",
       "      <th></th>\n",
       "      <th>id</th>\n",
       "      <th>level_1</th>\n",
       "      <th>level_1_description</th>\n",
       "      <th>level_2</th>\n",
       "      <th>level_2_description</th>\n",
       "      <th>level_3</th>\n",
       "      <th>level_3_description</th>\n",
       "      <th>level_4</th>\n",
       "      <th>icd9_mapped_codes</th>\n",
       "      <th>icd9_description</th>\n",
       "      <th>level_4_short_description_icd10</th>\n",
       "      <th>level_4_long_description_icd10</th>\n",
       "      <th>create_ts</th>\n",
       "      <th>update_ts</th>\n",
       "    </tr>\n",
       "  </thead>\n",
       "  <tbody>\n",
       "    <tr>\n",
       "      <th>0</th>\n",
       "      <td>1</td>\n",
       "      <td>A00 - B999</td>\n",
       "      <td>Certain infectious and parasitic diseases</td>\n",
       "      <td>A00-A09</td>\n",
       "      <td>Intestinal infectious diseases</td>\n",
       "      <td>A00-A009</td>\n",
       "      <td>Cholera</td>\n",
       "      <td>A00</td>\n",
       "      <td>No map</td>\n",
       "      <td>No map</td>\n",
       "      <td>Cholera</td>\n",
       "      <td>Cholera</td>\n",
       "      <td>2017-11-02</td>\n",
       "      <td>2017-11-02</td>\n",
       "    </tr>\n",
       "    <tr>\n",
       "      <th>1</th>\n",
       "      <td>2</td>\n",
       "      <td>A00 - B999</td>\n",
       "      <td>Certain infectious and parasitic diseases</td>\n",
       "      <td>A00-A09</td>\n",
       "      <td>Intestinal infectious diseases</td>\n",
       "      <td>A00-A009</td>\n",
       "      <td>Cholera</td>\n",
       "      <td>A000</td>\n",
       "      <td>0010</td>\n",
       "      <td>Cholera due to vibrio cholerae</td>\n",
       "      <td>Cholera due to Vibrio cholerae 01 biovar cholerae</td>\n",
       "      <td>Cholera due to Vibrio cholerae 01 biovar cholerae</td>\n",
       "      <td>2017-11-02</td>\n",
       "      <td>2017-11-02</td>\n",
       "    </tr>\n",
       "    <tr>\n",
       "      <th>2</th>\n",
       "      <td>3</td>\n",
       "      <td>A00 - B999</td>\n",
       "      <td>Certain infectious and parasitic diseases</td>\n",
       "      <td>A00-A09</td>\n",
       "      <td>Intestinal infectious diseases</td>\n",
       "      <td>A00-A009</td>\n",
       "      <td>Cholera</td>\n",
       "      <td>A001</td>\n",
       "      <td>0011</td>\n",
       "      <td>Cholera due to vibrio cholerae el tor</td>\n",
       "      <td>Cholera due to Vibrio cholerae 01 biovar eltor</td>\n",
       "      <td>Cholera due to Vibrio cholerae 01 biovar eltor</td>\n",
       "      <td>2017-11-02</td>\n",
       "      <td>2017-11-02</td>\n",
       "    </tr>\n",
       "  </tbody>\n",
       "</table>\n",
       "</div>"
      ],
      "text/plain": [
       "   id     level_1                        level_1_description  level_2  \\\n",
       "0   1  A00 - B999  Certain infectious and parasitic diseases  A00-A09   \n",
       "1   2  A00 - B999  Certain infectious and parasitic diseases  A00-A09   \n",
       "2   3  A00 - B999  Certain infectious and parasitic diseases  A00-A09   \n",
       "\n",
       "              level_2_description   level_3 level_3_description level_4  \\\n",
       "0  Intestinal infectious diseases  A00-A009             Cholera     A00   \n",
       "1  Intestinal infectious diseases  A00-A009             Cholera    A000   \n",
       "2  Intestinal infectious diseases  A00-A009             Cholera    A001   \n",
       "\n",
       "  icd9_mapped_codes                       icd9_description  \\\n",
       "0            No map                                 No map   \n",
       "1              0010         Cholera due to vibrio cholerae   \n",
       "2              0011  Cholera due to vibrio cholerae el tor   \n",
       "\n",
       "                     level_4_short_description_icd10  \\\n",
       "0                                            Cholera   \n",
       "1  Cholera due to Vibrio cholerae 01 biovar cholerae   \n",
       "2     Cholera due to Vibrio cholerae 01 biovar eltor   \n",
       "\n",
       "                      level_4_long_description_icd10   create_ts   update_ts  \n",
       "0                                            Cholera  2017-11-02  2017-11-02  \n",
       "1  Cholera due to Vibrio cholerae 01 biovar cholerae  2017-11-02  2017-11-02  \n",
       "2     Cholera due to Vibrio cholerae 01 biovar eltor  2017-11-02  2017-11-02  "
      ]
     },
     "execution_count": 4,
     "metadata": {},
     "output_type": "execute_result"
    }
   ],
   "source": [
    "snow.select(\"select * from RWD_DB.RWD.ICD_GROUPER limit 3\")"
   ]
  },
  {
   "cell_type": "code",
   "execution_count": 8,
   "metadata": {},
   "outputs": [
    {
     "name": "stdout",
     "output_type": "stream",
     "text": [
      "Query started at 04:00:17 PM India Standard Time; Query executed in 0.06 m"
     ]
    },
    {
     "data": {
      "text/html": [
       "<div>\n",
       "<style scoped>\n",
       "    .dataframe tbody tr th:only-of-type {\n",
       "        vertical-align: middle;\n",
       "    }\n",
       "\n",
       "    .dataframe tbody tr th {\n",
       "        vertical-align: top;\n",
       "    }\n",
       "\n",
       "    .dataframe thead th {\n",
       "        text-align: right;\n",
       "    }\n",
       "</style>\n",
       "<table border=\"1\" class=\"dataframe\">\n",
       "  <thead>\n",
       "    <tr style=\"text-align: right;\">\n",
       "      <th></th>\n",
       "      <th>id</th>\n",
       "      <th>level_1</th>\n",
       "      <th>level_1_description</th>\n",
       "      <th>level_2</th>\n",
       "      <th>level_2_description</th>\n",
       "      <th>level_3</th>\n",
       "      <th>level_3_description</th>\n",
       "      <th>level_4</th>\n",
       "      <th>icd9_mapped_codes</th>\n",
       "      <th>icd9_description</th>\n",
       "      <th>level_4_short_description_icd10</th>\n",
       "      <th>level_4_long_description_icd10</th>\n",
       "      <th>create_ts</th>\n",
       "      <th>update_ts</th>\n",
       "    </tr>\n",
       "  </thead>\n",
       "  <tbody>\n",
       "    <tr>\n",
       "      <th>0</th>\n",
       "      <td>5862</td>\n",
       "      <td>G00 - G998</td>\n",
       "      <td>Diseases of the nervous system</td>\n",
       "      <td>G20-G26</td>\n",
       "      <td>Extrapyramidal and movement disorders</td>\n",
       "      <td>G23-G239</td>\n",
       "      <td>Other degenerative diseases of basal ganglia</td>\n",
       "      <td>G231</td>\n",
       "      <td>3330</td>\n",
       "      <td>Other degenerative diseases of the basal ganglia</td>\n",
       "      <td>Progressive supranuclear ophthalmoplegia</td>\n",
       "      <td>Progressive supranuclear ophthalmoplegia [Stee...</td>\n",
       "      <td>2017-11-02</td>\n",
       "      <td>2017-11-02</td>\n",
       "    </tr>\n",
       "    <tr>\n",
       "      <th>1</th>\n",
       "      <td>5905</td>\n",
       "      <td>G00 - G998</td>\n",
       "      <td>Diseases of the nervous system</td>\n",
       "      <td>G30-G32</td>\n",
       "      <td>Other degenerative diseases of the nervous system</td>\n",
       "      <td>G31-G319</td>\n",
       "      <td>Oth degenerative diseases of nervous system NEC</td>\n",
       "      <td>G310</td>\n",
       "      <td>No map</td>\n",
       "      <td>No map</td>\n",
       "      <td>Frontotemporal dementia</td>\n",
       "      <td>Frontotemporal dementia</td>\n",
       "      <td>2017-11-02</td>\n",
       "      <td>2017-11-02</td>\n",
       "    </tr>\n",
       "    <tr>\n",
       "      <th>2</th>\n",
       "      <td>5907</td>\n",
       "      <td>G00 - G998</td>\n",
       "      <td>Diseases of the nervous system</td>\n",
       "      <td>G30-G32</td>\n",
       "      <td>Other degenerative diseases of the nervous system</td>\n",
       "      <td>G31-G319</td>\n",
       "      <td>Oth degenerative diseases of nervous system NEC</td>\n",
       "      <td>G3109</td>\n",
       "      <td>33119</td>\n",
       "      <td>Other frontotemporal dementia</td>\n",
       "      <td>Other frontotemporal dementia</td>\n",
       "      <td>Other frontotemporal dementia</td>\n",
       "      <td>2017-11-02</td>\n",
       "      <td>2017-11-02</td>\n",
       "    </tr>\n",
       "  </tbody>\n",
       "</table>\n",
       "</div>"
      ],
      "text/plain": [
       "     id     level_1             level_1_description  level_2  \\\n",
       "0  5862  G00 - G998  Diseases of the nervous system  G20-G26   \n",
       "1  5905  G00 - G998  Diseases of the nervous system  G30-G32   \n",
       "2  5907  G00 - G998  Diseases of the nervous system  G30-G32   \n",
       "\n",
       "                                 level_2_description   level_3  \\\n",
       "0              Extrapyramidal and movement disorders  G23-G239   \n",
       "1  Other degenerative diseases of the nervous system  G31-G319   \n",
       "2  Other degenerative diseases of the nervous system  G31-G319   \n",
       "\n",
       "                               level_3_description level_4 icd9_mapped_codes  \\\n",
       "0     Other degenerative diseases of basal ganglia    G231              3330   \n",
       "1  Oth degenerative diseases of nervous system NEC    G310            No map   \n",
       "2  Oth degenerative diseases of nervous system NEC   G3109             33119   \n",
       "\n",
       "                                   icd9_description  \\\n",
       "0  Other degenerative diseases of the basal ganglia   \n",
       "1                                            No map   \n",
       "2                     Other frontotemporal dementia   \n",
       "\n",
       "            level_4_short_description_icd10  \\\n",
       "0  Progressive supranuclear ophthalmoplegia   \n",
       "1                   Frontotemporal dementia   \n",
       "2             Other frontotemporal dementia   \n",
       "\n",
       "                      level_4_long_description_icd10   create_ts   update_ts  \n",
       "0  Progressive supranuclear ophthalmoplegia [Stee...  2017-11-02  2017-11-02  \n",
       "1                            Frontotemporal dementia  2017-11-02  2017-11-02  \n",
       "2                      Other frontotemporal dementia  2017-11-02  2017-11-02  "
      ]
     },
     "execution_count": 8,
     "metadata": {},
     "output_type": "execute_result"
    }
   ],
   "source": [
    "%%read_sql\n",
    "select \n",
    "  * \n",
    "from\n",
    "    RWD_DB.RWD.ICD_GROUPER\n",
    "\n",
    "where    \n",
    "    ((level_4_long_description_icd10 ilike '%frontotemporal%'\n",
    "    AND level_4_long_description_icd10 \tilike '%dementia%')\n",
    "     OR (level_4_long_description_icd10 ilike '%progressive%'\n",
    "        AND level_4_long_description_icd10 ilike '%supranuclear%'))\n",
    "        --AND level_4_long_description_icd10 ilike '%palsy%'"
   ]
  },
  {
   "cell_type": "markdown",
   "metadata": {},
   "source": [
    "# Patient counts"
   ]
  },
  {
   "cell_type": "markdown",
   "metadata": {},
   "source": [
    "## FTD patients\n",
    "ICD codes: \n",
    "    level_4 - G310\n",
    "    level_4 - G3109\n",
    "    icd9_mapped_codes - 33119"
   ]
  },
  {
   "cell_type": "code",
   "execution_count": 9,
   "metadata": {},
   "outputs": [
    {
     "name": "stdout",
     "output_type": "stream",
     "text": [
      "Query started at 04:25:02 PM India Standard Time; Query executed in 15.58 m"
     ]
    },
    {
     "data": {
      "text/html": [
       "<div>\n",
       "<style scoped>\n",
       "    .dataframe tbody tr th:only-of-type {\n",
       "        vertical-align: middle;\n",
       "    }\n",
       "\n",
       "    .dataframe tbody tr th {\n",
       "        vertical-align: top;\n",
       "    }\n",
       "\n",
       "    .dataframe thead th {\n",
       "        text-align: right;\n",
       "    }\n",
       "</style>\n",
       "<table border=\"1\" class=\"dataframe\">\n",
       "  <thead>\n",
       "    <tr style=\"text-align: right;\">\n",
       "      <th></th>\n",
       "      <th>status</th>\n",
       "    </tr>\n",
       "  </thead>\n",
       "  <tbody>\n",
       "    <tr>\n",
       "      <th>0</th>\n",
       "      <td>Table ST_FTD successfully created.</td>\n",
       "    </tr>\n",
       "  </tbody>\n",
       "</table>\n",
       "</div>"
      ],
      "text/plain": [
       "                               status\n",
       "0  Table ST_FTD successfully created."
      ]
     },
     "execution_count": 9,
     "metadata": {},
     "output_type": "execute_result"
    }
   ],
   "source": [
    "%%read_sql\n",
    "create or replace table st_ftd as\n",
    "select\n",
    "    left(encrypted_key_1, 8)||left(encrypted_key_2, 8) as patient_id,\n",
    "    claim_number,\n",
    "    diagnosis,\n",
    "    diagnosis_sequence,\n",
    "    year_of_service\n",
    "from\n",
    "    RWD_DB.RWD.RAVEN_CLAIMS_SUBMITS_DIAGNOSIS\n",
    "where\n",
    "    diagnosis in ('G310', 'G3109', '33119')"
   ]
  },
  {
   "cell_type": "code",
   "execution_count": 10,
   "metadata": {},
   "outputs": [
    {
     "data": {
      "text/html": [
       "<div>\n",
       "<style scoped>\n",
       "    .dataframe tbody tr th:only-of-type {\n",
       "        vertical-align: middle;\n",
       "    }\n",
       "\n",
       "    .dataframe tbody tr th {\n",
       "        vertical-align: top;\n",
       "    }\n",
       "\n",
       "    .dataframe thead th {\n",
       "        text-align: right;\n",
       "    }\n",
       "</style>\n",
       "<table border=\"1\" class=\"dataframe\">\n",
       "  <thead>\n",
       "    <tr style=\"text-align: right;\">\n",
       "      <th></th>\n",
       "      <th>COUNT (DISTINCT PATIENT_ID)</th>\n",
       "    </tr>\n",
       "  </thead>\n",
       "  <tbody>\n",
       "    <tr>\n",
       "      <th>0</th>\n",
       "      <td>69322</td>\n",
       "    </tr>\n",
       "  </tbody>\n",
       "</table>\n",
       "</div>"
      ],
      "text/plain": [
       "   COUNT (DISTINCT PATIENT_ID)\n",
       "0                        69322"
      ]
     },
     "execution_count": 10,
     "metadata": {},
     "output_type": "execute_result"
    }
   ],
   "source": [
    "snow.select (\"select count (distinct patient_id) from st_ftd where left(patient_id, 5) != 'XXX -'\")"
   ]
  },
  {
   "cell_type": "markdown",
   "metadata": {},
   "source": [
    "## PSP patients\n",
    "ICD codes: G231, 3330"
   ]
  },
  {
   "cell_type": "code",
   "execution_count": 11,
   "metadata": {},
   "outputs": [
    {
     "name": "stdout",
     "output_type": "stream",
     "text": [
      "Query started at 05:17:34 PM India Standard Time; Query executed in 10.13 m"
     ]
    },
    {
     "data": {
      "text/html": [
       "<div>\n",
       "<style scoped>\n",
       "    .dataframe tbody tr th:only-of-type {\n",
       "        vertical-align: middle;\n",
       "    }\n",
       "\n",
       "    .dataframe tbody tr th {\n",
       "        vertical-align: top;\n",
       "    }\n",
       "\n",
       "    .dataframe thead th {\n",
       "        text-align: right;\n",
       "    }\n",
       "</style>\n",
       "<table border=\"1\" class=\"dataframe\">\n",
       "  <thead>\n",
       "    <tr style=\"text-align: right;\">\n",
       "      <th></th>\n",
       "      <th>status</th>\n",
       "    </tr>\n",
       "  </thead>\n",
       "  <tbody>\n",
       "    <tr>\n",
       "      <th>0</th>\n",
       "      <td>Table ST_PSP successfully created.</td>\n",
       "    </tr>\n",
       "  </tbody>\n",
       "</table>\n",
       "</div>"
      ],
      "text/plain": [
       "                               status\n",
       "0  Table ST_PSP successfully created."
      ]
     },
     "execution_count": 11,
     "metadata": {},
     "output_type": "execute_result"
    }
   ],
   "source": [
    "%%read_sql\n",
    "create or replace table st_psp as\n",
    "select\n",
    "    left(encrypted_key_1, 8)||left(encrypted_key_2, 8) as patient_id,\n",
    "    claim_number,\n",
    "    diagnosis,\n",
    "    diagnosis_sequence,\n",
    "    year_of_service\n",
    "from\n",
    "    RWD_DB.RWD.RAVEN_CLAIMS_SUBMITS_DIAGNOSIS\n",
    "where\n",
    "    diagnosis in ('G231', '3330')"
   ]
  },
  {
   "cell_type": "code",
   "execution_count": 12,
   "metadata": {},
   "outputs": [
    {
     "data": {
      "text/html": [
       "<div>\n",
       "<style scoped>\n",
       "    .dataframe tbody tr th:only-of-type {\n",
       "        vertical-align: middle;\n",
       "    }\n",
       "\n",
       "    .dataframe tbody tr th {\n",
       "        vertical-align: top;\n",
       "    }\n",
       "\n",
       "    .dataframe thead th {\n",
       "        text-align: right;\n",
       "    }\n",
       "</style>\n",
       "<table border=\"1\" class=\"dataframe\">\n",
       "  <thead>\n",
       "    <tr style=\"text-align: right;\">\n",
       "      <th></th>\n",
       "      <th>COUNT (DISTINCT PATIENT_ID)</th>\n",
       "    </tr>\n",
       "  </thead>\n",
       "  <tbody>\n",
       "    <tr>\n",
       "      <th>0</th>\n",
       "      <td>61350</td>\n",
       "    </tr>\n",
       "  </tbody>\n",
       "</table>\n",
       "</div>"
      ],
      "text/plain": [
       "   COUNT (DISTINCT PATIENT_ID)\n",
       "0                        61350"
      ]
     },
     "execution_count": 12,
     "metadata": {},
     "output_type": "execute_result"
    }
   ],
   "source": [
    "snow.select (\"select count (distinct patient_id) from st_psp where left(patient_id, 5) != 'XXX -'\")"
   ]
  },
  {
   "cell_type": "markdown",
   "metadata": {},
   "source": [
    "## FTD and PSP patients"
   ]
  },
  {
   "cell_type": "code",
   "execution_count": 22,
   "metadata": {},
   "outputs": [
    {
     "name": "stdout",
     "output_type": "stream",
     "text": [
      "Query started at 06:34:26 PM India Standard Time; Query executed in 0.09 m"
     ]
    },
    {
     "data": {
      "text/html": [
       "<div>\n",
       "<style scoped>\n",
       "    .dataframe tbody tr th:only-of-type {\n",
       "        vertical-align: middle;\n",
       "    }\n",
       "\n",
       "    .dataframe tbody tr th {\n",
       "        vertical-align: top;\n",
       "    }\n",
       "\n",
       "    .dataframe thead th {\n",
       "        text-align: right;\n",
       "    }\n",
       "</style>\n",
       "<table border=\"1\" class=\"dataframe\">\n",
       "  <thead>\n",
       "    <tr style=\"text-align: right;\">\n",
       "      <th></th>\n",
       "      <th>status</th>\n",
       "    </tr>\n",
       "  </thead>\n",
       "  <tbody>\n",
       "    <tr>\n",
       "      <th>0</th>\n",
       "      <td>Table ST_FTD_PSP successfully created.</td>\n",
       "    </tr>\n",
       "  </tbody>\n",
       "</table>\n",
       "</div>"
      ],
      "text/plain": [
       "                                   status\n",
       "0  Table ST_FTD_PSP successfully created."
      ]
     },
     "execution_count": 22,
     "metadata": {},
     "output_type": "execute_result"
    }
   ],
   "source": [
    "%%read_sql\n",
    "create or replace table st_ftd_psp as\n",
    "    select a.*,\n",
    "           b.diagnosis as diag2\n",
    "from \n",
    "    st_ftd a\n",
    "inner join \n",
    "    st_psp b\n",
    "on a.claim_number=b.claim_number"
   ]
  },
  {
   "cell_type": "code",
   "execution_count": 23,
   "metadata": {},
   "outputs": [
    {
     "data": {
      "text/html": [
       "<div>\n",
       "<style scoped>\n",
       "    .dataframe tbody tr th:only-of-type {\n",
       "        vertical-align: middle;\n",
       "    }\n",
       "\n",
       "    .dataframe tbody tr th {\n",
       "        vertical-align: top;\n",
       "    }\n",
       "\n",
       "    .dataframe thead th {\n",
       "        text-align: right;\n",
       "    }\n",
       "</style>\n",
       "<table border=\"1\" class=\"dataframe\">\n",
       "  <thead>\n",
       "    <tr style=\"text-align: right;\">\n",
       "      <th></th>\n",
       "      <th>patient_id</th>\n",
       "      <th>claim_number</th>\n",
       "      <th>diagnosis</th>\n",
       "      <th>diagnosis_sequence</th>\n",
       "      <th>year_of_service</th>\n",
       "      <th>diag2</th>\n",
       "    </tr>\n",
       "  </thead>\n",
       "  <tbody>\n",
       "    <tr>\n",
       "      <th>0</th>\n",
       "      <td>9sCCfYwL8Ri32nFJ</td>\n",
       "      <td>vul_40dfdf5d-e44d-40af-990b-2963cf032bc8</td>\n",
       "      <td>G3109</td>\n",
       "      <td>3</td>\n",
       "      <td>2016-08-09</td>\n",
       "      <td>G231</td>\n",
       "    </tr>\n",
       "    <tr>\n",
       "      <th>1</th>\n",
       "      <td>9sCCfYwL8Ri32nFJ</td>\n",
       "      <td>vul_40dfdf5d-e44d-40af-990b-2963cf032bc8</td>\n",
       "      <td>G3109</td>\n",
       "      <td>3</td>\n",
       "      <td>2016-08-09</td>\n",
       "      <td>G231</td>\n",
       "    </tr>\n",
       "    <tr>\n",
       "      <th>2</th>\n",
       "      <td>822Umhj5X+TTOkAy</td>\n",
       "      <td>vul_2aa303e3-f5fd-4738-883e-91aeff1ba8ba</td>\n",
       "      <td>G3109</td>\n",
       "      <td>2</td>\n",
       "      <td>2016-08-03</td>\n",
       "      <td>G231</td>\n",
       "    </tr>\n",
       "    <tr>\n",
       "      <th>3</th>\n",
       "      <td>9sCCfYwL8Ri32nFJ</td>\n",
       "      <td>vul_110848542</td>\n",
       "      <td>G3109</td>\n",
       "      <td>3</td>\n",
       "      <td>2016-08-09</td>\n",
       "      <td>G231</td>\n",
       "    </tr>\n",
       "    <tr>\n",
       "      <th>4</th>\n",
       "      <td>9sCCfYwL8Ri32nFJ</td>\n",
       "      <td>vul_110848542</td>\n",
       "      <td>G3109</td>\n",
       "      <td>3</td>\n",
       "      <td>2016-08-09</td>\n",
       "      <td>G231</td>\n",
       "    </tr>\n",
       "  </tbody>\n",
       "</table>\n",
       "</div>"
      ],
      "text/plain": [
       "         patient_id                              claim_number diagnosis  \\\n",
       "0  9sCCfYwL8Ri32nFJ  vul_40dfdf5d-e44d-40af-990b-2963cf032bc8     G3109   \n",
       "1  9sCCfYwL8Ri32nFJ  vul_40dfdf5d-e44d-40af-990b-2963cf032bc8     G3109   \n",
       "2  822Umhj5X+TTOkAy  vul_2aa303e3-f5fd-4738-883e-91aeff1ba8ba     G3109   \n",
       "3  9sCCfYwL8Ri32nFJ                             vul_110848542     G3109   \n",
       "4  9sCCfYwL8Ri32nFJ                             vul_110848542     G3109   \n",
       "\n",
       "  diagnosis_sequence year_of_service diag2  \n",
       "0                  3      2016-08-09  G231  \n",
       "1                  3      2016-08-09  G231  \n",
       "2                  2      2016-08-03  G231  \n",
       "3                  3      2016-08-09  G231  \n",
       "4                  3      2016-08-09  G231  "
      ]
     },
     "execution_count": 23,
     "metadata": {},
     "output_type": "execute_result"
    }
   ],
   "source": [
    "snow.select (\"select * from ST_ftd_psp limit 5\")"
   ]
  },
  {
   "cell_type": "code",
   "execution_count": 24,
   "metadata": {},
   "outputs": [
    {
     "data": {
      "text/html": [
       "<div>\n",
       "<style scoped>\n",
       "    .dataframe tbody tr th:only-of-type {\n",
       "        vertical-align: middle;\n",
       "    }\n",
       "\n",
       "    .dataframe tbody tr th {\n",
       "        vertical-align: top;\n",
       "    }\n",
       "\n",
       "    .dataframe thead th {\n",
       "        text-align: right;\n",
       "    }\n",
       "</style>\n",
       "<table border=\"1\" class=\"dataframe\">\n",
       "  <thead>\n",
       "    <tr style=\"text-align: right;\">\n",
       "      <th></th>\n",
       "      <th>COUNT (DISTINCT PATIENT_ID)</th>\n",
       "    </tr>\n",
       "  </thead>\n",
       "  <tbody>\n",
       "    <tr>\n",
       "      <th>0</th>\n",
       "      <td>447</td>\n",
       "    </tr>\n",
       "  </tbody>\n",
       "</table>\n",
       "</div>"
      ],
      "text/plain": [
       "   COUNT (DISTINCT PATIENT_ID)\n",
       "0                          447"
      ]
     },
     "execution_count": 24,
     "metadata": {},
     "output_type": "execute_result"
    }
   ],
   "source": [
    "snow.select (\"select count (distinct patient_id) from st_ftd_psp\")"
   ]
  },
  {
   "cell_type": "markdown",
   "metadata": {},
   "source": [
    "# Nish from here"
   ]
  },
  {
   "cell_type": "code",
   "execution_count": 10,
   "metadata": {},
   "outputs": [
    {
     "name": "stdout",
     "output_type": "stream",
     "text": [
      "Query started at 02:27:34 PM GMT Daylight Time; Query executed in 0.04 m"
     ]
    },
    {
     "data": {
      "text/html": [
       "<div>\n",
       "<style scoped>\n",
       "    .dataframe tbody tr th:only-of-type {\n",
       "        vertical-align: middle;\n",
       "    }\n",
       "\n",
       "    .dataframe tbody tr th {\n",
       "        vertical-align: top;\n",
       "    }\n",
       "\n",
       "    .dataframe thead th {\n",
       "        text-align: right;\n",
       "    }\n",
       "</style>\n",
       "<table border=\"1\" class=\"dataframe\">\n",
       "  <thead>\n",
       "    <tr style=\"text-align: right;\">\n",
       "      <th></th>\n",
       "      <th>COUNT(DISTINCT PATIENT_ID)</th>\n",
       "    </tr>\n",
       "  </thead>\n",
       "  <tbody>\n",
       "    <tr>\n",
       "      <th>0</th>\n",
       "      <td>69322</td>\n",
       "    </tr>\n",
       "  </tbody>\n",
       "</table>\n",
       "</div>"
      ],
      "text/plain": [
       "   COUNT(DISTINCT PATIENT_ID)\n",
       "0                       69322"
      ]
     },
     "execution_count": 10,
     "metadata": {},
     "output_type": "execute_result"
    }
   ],
   "source": [
    "%%read_sql a\n",
    "\n",
    "-- number of FTD patients\n",
    "select\n",
    "    count(distinct patient_id)\n",
    "from\n",
    "    st_ftd\n",
    "where \n",
    "    left(patient_id, 5) != 'XXX -'"
   ]
  },
  {
   "cell_type": "code",
   "execution_count": 11,
   "metadata": {},
   "outputs": [
    {
     "name": "stdout",
     "output_type": "stream",
     "text": [
      "Query started at 02:27:37 PM GMT Daylight Time; Query executed in 0.04 m"
     ]
    },
    {
     "data": {
      "text/html": [
       "<div>\n",
       "<style scoped>\n",
       "    .dataframe tbody tr th:only-of-type {\n",
       "        vertical-align: middle;\n",
       "    }\n",
       "\n",
       "    .dataframe tbody tr th {\n",
       "        vertical-align: top;\n",
       "    }\n",
       "\n",
       "    .dataframe thead th {\n",
       "        text-align: right;\n",
       "    }\n",
       "</style>\n",
       "<table border=\"1\" class=\"dataframe\">\n",
       "  <thead>\n",
       "    <tr style=\"text-align: right;\">\n",
       "      <th></th>\n",
       "      <th>COUNT(DISTINCT PATIENT_ID)</th>\n",
       "    </tr>\n",
       "  </thead>\n",
       "  <tbody>\n",
       "    <tr>\n",
       "      <th>0</th>\n",
       "      <td>61350</td>\n",
       "    </tr>\n",
       "  </tbody>\n",
       "</table>\n",
       "</div>"
      ],
      "text/plain": [
       "   COUNT(DISTINCT PATIENT_ID)\n",
       "0                       61350"
      ]
     },
     "execution_count": 11,
     "metadata": {},
     "output_type": "execute_result"
    }
   ],
   "source": [
    "%%read_sql b\n",
    "\n",
    "-- number of PSP patients\n",
    "select\n",
    "    count(distinct patient_id)\n",
    "from\n",
    "    st_psp\n",
    "where \n",
    "    left(patient_id, 5) != 'XXX -'"
   ]
  },
  {
   "cell_type": "code",
   "execution_count": 12,
   "metadata": {},
   "outputs": [
    {
     "name": "stdout",
     "output_type": "stream",
     "text": [
      "Query started at 02:27:41 PM GMT Daylight Time; Query executed in 0.03 m"
     ]
    },
    {
     "data": {
      "text/html": [
       "<div>\n",
       "<style scoped>\n",
       "    .dataframe tbody tr th:only-of-type {\n",
       "        vertical-align: middle;\n",
       "    }\n",
       "\n",
       "    .dataframe tbody tr th {\n",
       "        vertical-align: top;\n",
       "    }\n",
       "\n",
       "    .dataframe thead th {\n",
       "        text-align: right;\n",
       "    }\n",
       "</style>\n",
       "<table border=\"1\" class=\"dataframe\">\n",
       "  <thead>\n",
       "    <tr style=\"text-align: right;\">\n",
       "      <th></th>\n",
       "      <th>COUNT(DISTINCT PATIENT_ID)</th>\n",
       "    </tr>\n",
       "  </thead>\n",
       "  <tbody>\n",
       "    <tr>\n",
       "      <th>0</th>\n",
       "      <td>1011</td>\n",
       "    </tr>\n",
       "  </tbody>\n",
       "</table>\n",
       "</div>"
      ],
      "text/plain": [
       "   COUNT(DISTINCT PATIENT_ID)\n",
       "0                        1011"
      ]
     },
     "execution_count": 12,
     "metadata": {},
     "output_type": "execute_result"
    }
   ],
   "source": [
    "%%read_sql c\n",
    "\n",
    "-- number of FTD patients who also have PSP codes\n",
    "select\n",
    "    count(distinct patient_id)\n",
    "from\n",
    "    st_ftd\n",
    "where \n",
    "    left(patient_id, 5) != 'XXX -'\n",
    "    and patient_id in (select distinct patient_id\n",
    "                       from st_psp)"
   ]
  },
  {
   "cell_type": "markdown",
   "metadata": {},
   "source": [
    "## Summary calculations"
   ]
  },
  {
   "cell_type": "code",
   "execution_count": 89,
   "metadata": {},
   "outputs": [
    {
     "data": {
      "text/html": [
       "<div>\n",
       "<style scoped>\n",
       "    .dataframe tbody tr th:only-of-type {\n",
       "        vertical-align: middle;\n",
       "    }\n",
       "\n",
       "    .dataframe tbody tr th {\n",
       "        vertical-align: top;\n",
       "    }\n",
       "\n",
       "    .dataframe thead th {\n",
       "        text-align: right;\n",
       "    }\n",
       "</style>\n",
       "<table border=\"1\" class=\"dataframe\">\n",
       "  <thead>\n",
       "    <tr style=\"text-align: right;\">\n",
       "      <th></th>\n",
       "      <th>ftd</th>\n",
       "      <th>psp</th>\n",
       "      <th>ftd_psp</th>\n",
       "      <th>overlap_psp_in_ftd (%)</th>\n",
       "    </tr>\n",
       "  </thead>\n",
       "  <tbody>\n",
       "    <tr>\n",
       "      <th>0</th>\n",
       "      <td>69322</td>\n",
       "      <td>61350</td>\n",
       "      <td>1011</td>\n",
       "      <td>1.46</td>\n",
       "    </tr>\n",
       "  </tbody>\n",
       "</table>\n",
       "</div>"
      ],
      "text/plain": [
       "     ftd    psp  ftd_psp  overlap_psp_in_ftd (%)\n",
       "0  69322  61350     1011                    1.46"
      ]
     },
     "execution_count": 89,
     "metadata": {},
     "output_type": "execute_result"
    }
   ],
   "source": [
    "lst = ['ftd',\n",
    "       'psp',\n",
    "       'ftd_psp',\n",
    "       'overlap_psp_in_ftd (%)']\n",
    "\n",
    "d = round(c/a*100, 2)\n",
    "\n",
    "x = pd.concat([a,b,c,d], axis=1)\n",
    "x.columns = lst\n",
    "x"
   ]
  },
  {
   "cell_type": "markdown",
   "metadata": {},
   "source": [
    "# Try EHR"
   ]
  },
  {
   "cell_type": "markdown",
   "metadata": {},
   "source": [
    "## FTD counts"
   ]
  },
  {
   "cell_type": "code",
   "execution_count": 91,
   "metadata": {},
   "outputs": [
    {
     "name": "stdout",
     "output_type": "stream",
     "text": [
      "Query started at 03:42:58 PM GMT Daylight Time; Query executed in 2.39 m"
     ]
    },
    {
     "data": {
      "text/html": [
       "<div>\n",
       "<style scoped>\n",
       "    .dataframe tbody tr th:only-of-type {\n",
       "        vertical-align: middle;\n",
       "    }\n",
       "\n",
       "    .dataframe tbody tr th {\n",
       "        vertical-align: top;\n",
       "    }\n",
       "\n",
       "    .dataframe thead th {\n",
       "        text-align: right;\n",
       "    }\n",
       "</style>\n",
       "<table border=\"1\" class=\"dataframe\">\n",
       "  <thead>\n",
       "    <tr style=\"text-align: right;\">\n",
       "      <th></th>\n",
       "      <th>status</th>\n",
       "    </tr>\n",
       "  </thead>\n",
       "  <tbody>\n",
       "    <tr>\n",
       "      <th>0</th>\n",
       "      <td>Table NK_ALBATROSS_FTD successfully created.</td>\n",
       "    </tr>\n",
       "  </tbody>\n",
       "</table>\n",
       "</div>"
      ],
      "text/plain": [
       "                                         status\n",
       "0  Table NK_ALBATROSS_FTD successfully created."
      ]
     },
     "execution_count": 91,
     "metadata": {},
     "output_type": "execute_result"
    }
   ],
   "source": [
    "%%read_sql\n",
    "\n",
    "create or replace table nk_albatross_ftd as\n",
    "\n",
    "select \n",
    "    left(encrypted_key_1, 8)||left(encrypted_key_2, 8) as patient_id,\n",
    "    ICD9,\n",
    "    ICD10\n",
    "from \n",
    "    RWD_DB.RWD.ALBATROSS_EHR_problems \n",
    "where \n",
    "    upper(ICD10) in ('G310', 'G3109')\n",
    "    or ICD9 = '33119'"
   ]
  },
  {
   "cell_type": "code",
   "execution_count": 94,
   "metadata": {},
   "outputs": [
    {
     "data": {
      "text/html": [
       "<div>\n",
       "<style scoped>\n",
       "    .dataframe tbody tr th:only-of-type {\n",
       "        vertical-align: middle;\n",
       "    }\n",
       "\n",
       "    .dataframe tbody tr th {\n",
       "        vertical-align: top;\n",
       "    }\n",
       "\n",
       "    .dataframe thead th {\n",
       "        text-align: right;\n",
       "    }\n",
       "</style>\n",
       "<table border=\"1\" class=\"dataframe\">\n",
       "  <thead>\n",
       "    <tr style=\"text-align: right;\">\n",
       "      <th></th>\n",
       "      <th>COUNT(DISTINCT PATIENT_ID)</th>\n",
       "    </tr>\n",
       "  </thead>\n",
       "  <tbody>\n",
       "    <tr>\n",
       "      <th>0</th>\n",
       "      <td>4490</td>\n",
       "    </tr>\n",
       "  </tbody>\n",
       "</table>\n",
       "</div>"
      ],
      "text/plain": [
       "   COUNT(DISTINCT PATIENT_ID)\n",
       "0                        4490"
      ]
     },
     "execution_count": 94,
     "metadata": {},
     "output_type": "execute_result"
    }
   ],
   "source": [
    "snow.select(\"select count(distinct patient_id) from nk_albatross_ftd where left(patient_id, 5) != 'XXX -'\")"
   ]
  },
  {
   "cell_type": "markdown",
   "metadata": {},
   "source": [
    "## PSP counts"
   ]
  },
  {
   "cell_type": "code",
   "execution_count": 93,
   "metadata": {},
   "outputs": [
    {
     "name": "stdout",
     "output_type": "stream",
     "text": [
      "Query started at 03:45:51 PM GMT Daylight Time; Query executed in 2.22 m"
     ]
    },
    {
     "data": {
      "text/html": [
       "<div>\n",
       "<style scoped>\n",
       "    .dataframe tbody tr th:only-of-type {\n",
       "        vertical-align: middle;\n",
       "    }\n",
       "\n",
       "    .dataframe tbody tr th {\n",
       "        vertical-align: top;\n",
       "    }\n",
       "\n",
       "    .dataframe thead th {\n",
       "        text-align: right;\n",
       "    }\n",
       "</style>\n",
       "<table border=\"1\" class=\"dataframe\">\n",
       "  <thead>\n",
       "    <tr style=\"text-align: right;\">\n",
       "      <th></th>\n",
       "      <th>status</th>\n",
       "    </tr>\n",
       "  </thead>\n",
       "  <tbody>\n",
       "    <tr>\n",
       "      <th>0</th>\n",
       "      <td>Table NK_ALBATROSS_PSP successfully created.</td>\n",
       "    </tr>\n",
       "  </tbody>\n",
       "</table>\n",
       "</div>"
      ],
      "text/plain": [
       "                                         status\n",
       "0  Table NK_ALBATROSS_PSP successfully created."
      ]
     },
     "execution_count": 93,
     "metadata": {},
     "output_type": "execute_result"
    }
   ],
   "source": [
    "%%read_sql\n",
    "\n",
    "create or replace table nk_albatross_psp as\n",
    "\n",
    "select \n",
    "    left(encrypted_key_1, 8)||left(encrypted_key_2, 8) as patient_id,\n",
    "    ICD9,\n",
    "    ICD10\n",
    "from \n",
    "    RWD_DB.RWD.ALBATROSS_EHR_problems \n",
    "where \n",
    "    upper(ICD10) = 'G231'\n",
    "    or ICD9 = '3330'"
   ]
  },
  {
   "cell_type": "code",
   "execution_count": 95,
   "metadata": {},
   "outputs": [
    {
     "data": {
      "text/html": [
       "<div>\n",
       "<style scoped>\n",
       "    .dataframe tbody tr th:only-of-type {\n",
       "        vertical-align: middle;\n",
       "    }\n",
       "\n",
       "    .dataframe tbody tr th {\n",
       "        vertical-align: top;\n",
       "    }\n",
       "\n",
       "    .dataframe thead th {\n",
       "        text-align: right;\n",
       "    }\n",
       "</style>\n",
       "<table border=\"1\" class=\"dataframe\">\n",
       "  <thead>\n",
       "    <tr style=\"text-align: right;\">\n",
       "      <th></th>\n",
       "      <th>COUNT(DISTINCT PATIENT_ID)</th>\n",
       "    </tr>\n",
       "  </thead>\n",
       "  <tbody>\n",
       "    <tr>\n",
       "      <th>0</th>\n",
       "      <td>11157</td>\n",
       "    </tr>\n",
       "  </tbody>\n",
       "</table>\n",
       "</div>"
      ],
      "text/plain": [
       "   COUNT(DISTINCT PATIENT_ID)\n",
       "0                       11157"
      ]
     },
     "execution_count": 95,
     "metadata": {},
     "output_type": "execute_result"
    }
   ],
   "source": [
    "snow.select(\"select count(distinct patient_id) from nk_albatross_psp where left(patient_id, 5) != 'XXX -'\")"
   ]
  },
  {
   "cell_type": "code",
   "execution_count": 96,
   "metadata": {},
   "outputs": [
    {
     "data": {
      "text/html": [
       "<div>\n",
       "<style scoped>\n",
       "    .dataframe tbody tr th:only-of-type {\n",
       "        vertical-align: middle;\n",
       "    }\n",
       "\n",
       "    .dataframe tbody tr th {\n",
       "        vertical-align: top;\n",
       "    }\n",
       "\n",
       "    .dataframe thead th {\n",
       "        text-align: right;\n",
       "    }\n",
       "</style>\n",
       "<table border=\"1\" class=\"dataframe\">\n",
       "  <thead>\n",
       "    <tr style=\"text-align: right;\">\n",
       "      <th></th>\n",
       "      <th>COUNT(DISTINCT PATIENT_ID)</th>\n",
       "    </tr>\n",
       "  </thead>\n",
       "  <tbody>\n",
       "    <tr>\n",
       "      <th>0</th>\n",
       "      <td>113</td>\n",
       "    </tr>\n",
       "  </tbody>\n",
       "</table>\n",
       "</div>"
      ],
      "text/plain": [
       "   COUNT(DISTINCT PATIENT_ID)\n",
       "0                         113"
      ]
     },
     "execution_count": 96,
     "metadata": {},
     "output_type": "execute_result"
    }
   ],
   "source": [
    "snow.select(\"select count(distinct patient_id) from nk_albatross_ftd where left(patient_id, 5) != 'XXX -' and patient_id in (select distinct patient_id from nk_albatross_psp)\")"
   ]
  },
  {
   "cell_type": "code",
   "execution_count": 97,
   "metadata": {},
   "outputs": [
    {
     "data": {
      "text/html": [
       "<div>\n",
       "<style scoped>\n",
       "    .dataframe tbody tr th:only-of-type {\n",
       "        vertical-align: middle;\n",
       "    }\n",
       "\n",
       "    .dataframe tbody tr th {\n",
       "        vertical-align: top;\n",
       "    }\n",
       "\n",
       "    .dataframe thead th {\n",
       "        text-align: right;\n",
       "    }\n",
       "</style>\n",
       "<table border=\"1\" class=\"dataframe\">\n",
       "  <thead>\n",
       "    <tr style=\"text-align: right;\">\n",
       "      <th></th>\n",
       "      <th>COUNT(DISTINCT PATIENT_ID)</th>\n",
       "    </tr>\n",
       "  </thead>\n",
       "  <tbody>\n",
       "    <tr>\n",
       "      <th>0</th>\n",
       "      <td>113</td>\n",
       "    </tr>\n",
       "  </tbody>\n",
       "</table>\n",
       "</div>"
      ],
      "text/plain": [
       "   COUNT(DISTINCT PATIENT_ID)\n",
       "0                         113"
      ]
     },
     "execution_count": 97,
     "metadata": {},
     "output_type": "execute_result"
    }
   ],
   "source": [
    "snow.select(\"select count(distinct patient_id) from nk_albatross_psp where left(patient_id, 5) != 'XXX -' and patient_id in (select distinct patient_id from nk_albatross_ftd)\")"
   ]
  },
  {
   "cell_type": "code",
   "execution_count": null,
   "metadata": {},
   "outputs": [],
   "source": []
  }
 ],
 "metadata": {
  "kernelspec": {
   "display_name": "Python 3",
   "language": "python",
   "name": "python3"
  },
  "language_info": {
   "codemirror_mode": {
    "name": "ipython",
    "version": 3
   },
   "file_extension": ".py",
   "mimetype": "text/x-python",
   "name": "python",
   "nbconvert_exporter": "python",
   "pygments_lexer": "ipython3",
   "version": "3.6.5"
  },
  "toc": {
   "base_numbering": 1,
   "nav_menu": {},
   "number_sections": true,
   "sideBar": true,
   "skip_h1_title": false,
   "title_cell": "Table of Contents",
   "title_sidebar": "Contents",
   "toc_cell": false,
   "toc_position": {
    "height": "calc(100% - 180px)",
    "left": "10px",
    "top": "150px",
    "width": "384px"
   },
   "toc_section_display": true,
   "toc_window_display": true
  }
 },
 "nbformat": 4,
 "nbformat_minor": 2
}
