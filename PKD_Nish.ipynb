{
 "cells": [
  {
   "cell_type": "markdown",
   "metadata": {},
   "source": [
    "# Initialization"
   ]
  },
  {
   "cell_type": "markdown",
   "metadata": {},
   "source": [
    "## Importing relevant modules"
   ]
  },
  {
   "cell_type": "code",
   "execution_count": 2,
   "metadata": {},
   "outputs": [],
   "source": [
    "import pandas as pd\n",
    "from drg_connect import Snowflake\n",
    "import qgrid \n",
    "from datetime import timedelta, datetime\n",
    "import math\n",
    "\n",
    "import warnings\n",
    "warnings.filterwarnings('ignore')"
   ]
  },
  {
   "cell_type": "markdown",
   "metadata": {},
   "source": [
    "## Connecting to snowflake"
   ]
  },
  {
   "cell_type": "code",
   "execution_count": 3,
   "metadata": {},
   "outputs": [
    {
     "data": {
      "application/javascript": [
       "\n",
       "    require(['notebook/js/codecell'], function(codecell) {\n",
       "      // https://github.com/jupyter/notebook/issues/2453\n",
       "      codecell.CodeCell.options_default.highlight_modes['magic_text/x-sql'] = {'reg':[/^%read_sql/, /.*=\\s*%read_sql/,\n",
       "                                                                                      /^%%read_sql/]};\n",
       "      Jupyter.notebook.events.one('kernel_ready.Kernel', function(){\n",
       "          console.log('BBBBB');\n",
       "          Jupyter.notebook.get_cells().map(function(cell){\n",
       "              if (cell.cell_type == 'code'){ cell.auto_highlight(); } }) ;\n",
       "      });\n",
       "    });\n",
       "    "
      ]
     },
     "metadata": {},
     "output_type": "display_data"
    }
   ],
   "source": [
    "##defining parameters of snowflake\n",
    "snow = Snowflake(role = 'RWD_ANALYTICS_RW',database='SANDBOX_ANALYTICS',schema = 'SANDBOX')\n",
    "engine = snow.engine\n",
    "\n",
    "%reload_ext sql_magic\n",
    "%config SQL.output_result = True  #Enable output to std out\n",
    "%config SQL.notify_result = False #disable browser notifications\n",
    "%config SQL.conn_name = 'engine'  #Set the sql_magic connection engine"
   ]
  },
  {
   "cell_type": "markdown",
   "metadata": {},
   "source": [
    "diagnosis codes:\n",
    "\n",
    "('Q611','Q612', 'Q613', '75314', '75313', '75314')\n",
    "\n",
    "NDC codes\n",
    "\n",
    "('5914808707', '5914808728', '5914808807', '5914808828', '5914808907', '5914808928', '5914802050', '5914802150')"
   ]
  },
  {
   "cell_type": "code",
   "execution_count": 6,
   "metadata": {},
   "outputs": [
    {
     "name": "stdout",
     "output_type": "stream",
     "text": [
      "Query started at 04:21:09 PM GMT Daylight Time; Query executed in 0.04 m"
     ]
    },
    {
     "data": {
      "text/html": [
       "<div>\n",
       "<style scoped>\n",
       "    .dataframe tbody tr th:only-of-type {\n",
       "        vertical-align: middle;\n",
       "    }\n",
       "\n",
       "    .dataframe tbody tr th {\n",
       "        vertical-align: top;\n",
       "    }\n",
       "\n",
       "    .dataframe thead th {\n",
       "        text-align: right;\n",
       "    }\n",
       "</style>\n",
       "<table border=\"1\" class=\"dataframe\">\n",
       "  <thead>\n",
       "    <tr style=\"text-align: right;\">\n",
       "      <th></th>\n",
       "      <th>id</th>\n",
       "      <th>level_1</th>\n",
       "      <th>level_1_description</th>\n",
       "      <th>level_2</th>\n",
       "      <th>level_2_description</th>\n",
       "      <th>level_3</th>\n",
       "      <th>level_3_description</th>\n",
       "      <th>level_4</th>\n",
       "      <th>icd9_mapped_codes</th>\n",
       "      <th>icd9_description</th>\n",
       "      <th>level_4_short_description_icd10</th>\n",
       "      <th>level_4_long_description_icd10</th>\n",
       "      <th>create_ts</th>\n",
       "      <th>update_ts</th>\n",
       "    </tr>\n",
       "  </thead>\n",
       "  <tbody>\n",
       "    <tr>\n",
       "      <th>0</th>\n",
       "      <td>28033</td>\n",
       "      <td>Q00 - Q999</td>\n",
       "      <td>Congenital malformations deformations and chro...</td>\n",
       "      <td>Q60-Q64</td>\n",
       "      <td>Congenital malformations of the urinary system</td>\n",
       "      <td>Q61-Q619</td>\n",
       "      <td>Cystic kidney disease</td>\n",
       "      <td>Q611</td>\n",
       "      <td>No map</td>\n",
       "      <td>No map</td>\n",
       "      <td>Polycystic kidney infantile type</td>\n",
       "      <td>Polycystic kidney infantile type</td>\n",
       "      <td>2017-11-02</td>\n",
       "      <td>2017-11-02</td>\n",
       "    </tr>\n",
       "    <tr>\n",
       "      <th>1</th>\n",
       "      <td>28035</td>\n",
       "      <td>Q00 - Q999</td>\n",
       "      <td>Congenital malformations deformations and chro...</td>\n",
       "      <td>Q60-Q64</td>\n",
       "      <td>Congenital malformations of the urinary system</td>\n",
       "      <td>Q61-Q619</td>\n",
       "      <td>Cystic kidney disease</td>\n",
       "      <td>Q6119</td>\n",
       "      <td>75314</td>\n",
       "      <td>Polycystic kidney autosomal recessive</td>\n",
       "      <td>Other polycystic kidney infantile type</td>\n",
       "      <td>Other polycystic kidney infantile type</td>\n",
       "      <td>2017-11-02</td>\n",
       "      <td>2017-11-02</td>\n",
       "    </tr>\n",
       "    <tr>\n",
       "      <th>2</th>\n",
       "      <td>28036</td>\n",
       "      <td>Q00 - Q999</td>\n",
       "      <td>Congenital malformations deformations and chro...</td>\n",
       "      <td>Q60-Q64</td>\n",
       "      <td>Congenital malformations of the urinary system</td>\n",
       "      <td>Q61-Q619</td>\n",
       "      <td>Cystic kidney disease</td>\n",
       "      <td>Q612</td>\n",
       "      <td>75313</td>\n",
       "      <td>Polycystic kidney autosomal dominant</td>\n",
       "      <td>Polycystic kidney adult type</td>\n",
       "      <td>Polycystic kidney adult type</td>\n",
       "      <td>2017-11-02</td>\n",
       "      <td>2017-11-02</td>\n",
       "    </tr>\n",
       "    <tr>\n",
       "      <th>3</th>\n",
       "      <td>28037</td>\n",
       "      <td>Q00 - Q999</td>\n",
       "      <td>Congenital malformations deformations and chro...</td>\n",
       "      <td>Q60-Q64</td>\n",
       "      <td>Congenital malformations of the urinary system</td>\n",
       "      <td>Q61-Q619</td>\n",
       "      <td>Cystic kidney disease</td>\n",
       "      <td>Q613</td>\n",
       "      <td>75312</td>\n",
       "      <td>Polycystic kidney unspecified type</td>\n",
       "      <td>Polycystic kidney unspecified</td>\n",
       "      <td>Polycystic kidney unspecified</td>\n",
       "      <td>2017-11-02</td>\n",
       "      <td>2017-11-02</td>\n",
       "    </tr>\n",
       "    <tr>\n",
       "      <th>4</th>\n",
       "      <td>93591</td>\n",
       "      <td>Z00 - Z9989</td>\n",
       "      <td>Factors influencing health status and contact ...</td>\n",
       "      <td>Z77-Z99</td>\n",
       "      <td>Persons with potential health hazards related ...</td>\n",
       "      <td>Z82-Z828</td>\n",
       "      <td>Fam hx of certain disabil &amp; chr dis (leading t...</td>\n",
       "      <td>Z8271</td>\n",
       "      <td>V1861</td>\n",
       "      <td>Family history of polycystic kidney</td>\n",
       "      <td>Family history of polycystic kidney</td>\n",
       "      <td>Family history of polycystic kidney</td>\n",
       "      <td>2017-11-02</td>\n",
       "      <td>2017-11-02</td>\n",
       "    </tr>\n",
       "  </tbody>\n",
       "</table>\n",
       "</div>"
      ],
      "text/plain": [
       "      id      level_1                                level_1_description  \\\n",
       "0  28033   Q00 - Q999  Congenital malformations deformations and chro...   \n",
       "1  28035   Q00 - Q999  Congenital malformations deformations and chro...   \n",
       "2  28036   Q00 - Q999  Congenital malformations deformations and chro...   \n",
       "3  28037   Q00 - Q999  Congenital malformations deformations and chro...   \n",
       "4  93591  Z00 - Z9989  Factors influencing health status and contact ...   \n",
       "\n",
       "   level_2                                level_2_description   level_3  \\\n",
       "0  Q60-Q64     Congenital malformations of the urinary system  Q61-Q619   \n",
       "1  Q60-Q64     Congenital malformations of the urinary system  Q61-Q619   \n",
       "2  Q60-Q64     Congenital malformations of the urinary system  Q61-Q619   \n",
       "3  Q60-Q64     Congenital malformations of the urinary system  Q61-Q619   \n",
       "4  Z77-Z99  Persons with potential health hazards related ...  Z82-Z828   \n",
       "\n",
       "                                 level_3_description level_4  \\\n",
       "0                              Cystic kidney disease    Q611   \n",
       "1                              Cystic kidney disease   Q6119   \n",
       "2                              Cystic kidney disease    Q612   \n",
       "3                              Cystic kidney disease    Q613   \n",
       "4  Fam hx of certain disabil & chr dis (leading t...   Z8271   \n",
       "\n",
       "  icd9_mapped_codes                       icd9_description  \\\n",
       "0            No map                                 No map   \n",
       "1             75314  Polycystic kidney autosomal recessive   \n",
       "2             75313   Polycystic kidney autosomal dominant   \n",
       "3             75312     Polycystic kidney unspecified type   \n",
       "4             V1861    Family history of polycystic kidney   \n",
       "\n",
       "          level_4_short_description_icd10  \\\n",
       "0        Polycystic kidney infantile type   \n",
       "1  Other polycystic kidney infantile type   \n",
       "2            Polycystic kidney adult type   \n",
       "3           Polycystic kidney unspecified   \n",
       "4     Family history of polycystic kidney   \n",
       "\n",
       "           level_4_long_description_icd10   create_ts   update_ts  \n",
       "0        Polycystic kidney infantile type  2017-11-02  2017-11-02  \n",
       "1  Other polycystic kidney infantile type  2017-11-02  2017-11-02  \n",
       "2            Polycystic kidney adult type  2017-11-02  2017-11-02  \n",
       "3           Polycystic kidney unspecified  2017-11-02  2017-11-02  \n",
       "4     Family history of polycystic kidney  2017-11-02  2017-11-02  "
      ]
     },
     "execution_count": 6,
     "metadata": {},
     "output_type": "execute_result"
    }
   ],
   "source": [
    "%%read_sql\n",
    "\n",
    "select *\n",
    "\n",
    "from RWD_DB.RWD.ICD_GROUPER\n",
    "where \n",
    "    level_4_long_description_icd10 ilike '%polycystic%'\n",
    "    and level_4_long_description_icd10 ilike '%kidney%'\n",
    "    --and level_4_short_description_icd10 ilike '%disease%'"
   ]
  },
  {
   "cell_type": "code",
   "execution_count": 8,
   "metadata": {},
   "outputs": [],
   "source": [
    "df = pd.read_excel(\"ref.xlsx\")"
   ]
  },
  {
   "cell_type": "code",
   "execution_count": 9,
   "metadata": {},
   "outputs": [
    {
     "data": {
      "text/html": [
       "<div>\n",
       "<style scoped>\n",
       "    .dataframe tbody tr th:only-of-type {\n",
       "        vertical-align: middle;\n",
       "    }\n",
       "\n",
       "    .dataframe tbody tr th {\n",
       "        vertical-align: top;\n",
       "    }\n",
       "\n",
       "    .dataframe thead th {\n",
       "        text-align: right;\n",
       "    }\n",
       "</style>\n",
       "<table border=\"1\" class=\"dataframe\">\n",
       "  <thead>\n",
       "    <tr style=\"text-align: right;\">\n",
       "      <th></th>\n",
       "      <th>cat1</th>\n",
       "      <th>value</th>\n",
       "    </tr>\n",
       "  </thead>\n",
       "  <tbody>\n",
       "    <tr>\n",
       "      <th>0</th>\n",
       "      <td>rx</td>\n",
       "      <td>5914808707</td>\n",
       "    </tr>\n",
       "    <tr>\n",
       "      <th>1</th>\n",
       "      <td>rx</td>\n",
       "      <td>5914808728</td>\n",
       "    </tr>\n",
       "    <tr>\n",
       "      <th>2</th>\n",
       "      <td>rx</td>\n",
       "      <td>5914808807</td>\n",
       "    </tr>\n",
       "    <tr>\n",
       "      <th>3</th>\n",
       "      <td>rx</td>\n",
       "      <td>5914808828</td>\n",
       "    </tr>\n",
       "    <tr>\n",
       "      <th>4</th>\n",
       "      <td>rx</td>\n",
       "      <td>5914808907</td>\n",
       "    </tr>\n",
       "    <tr>\n",
       "      <th>5</th>\n",
       "      <td>rx</td>\n",
       "      <td>5914808928</td>\n",
       "    </tr>\n",
       "    <tr>\n",
       "      <th>6</th>\n",
       "      <td>rx</td>\n",
       "      <td>5914802050</td>\n",
       "    </tr>\n",
       "    <tr>\n",
       "      <th>7</th>\n",
       "      <td>rx</td>\n",
       "      <td>5914802150</td>\n",
       "    </tr>\n",
       "    <tr>\n",
       "      <th>8</th>\n",
       "      <td>dx</td>\n",
       "      <td>Q611</td>\n",
       "    </tr>\n",
       "    <tr>\n",
       "      <th>9</th>\n",
       "      <td>dx</td>\n",
       "      <td>Q612</td>\n",
       "    </tr>\n",
       "    <tr>\n",
       "      <th>10</th>\n",
       "      <td>dx</td>\n",
       "      <td>Q613</td>\n",
       "    </tr>\n",
       "    <tr>\n",
       "      <th>11</th>\n",
       "      <td>dx</td>\n",
       "      <td>75314</td>\n",
       "    </tr>\n",
       "    <tr>\n",
       "      <th>12</th>\n",
       "      <td>dx</td>\n",
       "      <td>75313</td>\n",
       "    </tr>\n",
       "    <tr>\n",
       "      <th>13</th>\n",
       "      <td>dx</td>\n",
       "      <td>75314</td>\n",
       "    </tr>\n",
       "  </tbody>\n",
       "</table>\n",
       "</div>"
      ],
      "text/plain": [
       "   cat1       value\n",
       "0    rx  5914808707\n",
       "1    rx  5914808728\n",
       "2    rx  5914808807\n",
       "3    rx  5914808828\n",
       "4    rx  5914808907\n",
       "5    rx  5914808928\n",
       "6    rx  5914802050\n",
       "7    rx  5914802150\n",
       "8    dx        Q611\n",
       "9    dx        Q612\n",
       "10   dx        Q613\n",
       "11   dx       75314\n",
       "12   dx       75313\n",
       "13   dx       75314"
      ]
     },
     "execution_count": 9,
     "metadata": {},
     "output_type": "execute_result"
    }
   ],
   "source": [
    "df"
   ]
  },
  {
   "cell_type": "code",
   "execution_count": 10,
   "metadata": {},
   "outputs": [
    {
     "name": "stdout",
     "output_type": "stream",
     "text": [
      "Upload successful!\n"
     ]
    }
   ],
   "source": [
    "snow.upload_dataframe(df, \"nk_adpkd_ref\")"
   ]
  },
  {
   "cell_type": "markdown",
   "metadata": {},
   "source": [
    "# Dx Extract"
   ]
  },
  {
   "cell_type": "code",
   "execution_count": 12,
   "metadata": {},
   "outputs": [
    {
     "name": "stdout",
     "output_type": "stream",
     "text": [
      "Query started at 04:31:25 PM GMT Daylight Time; Query executed in 10.74 m"
     ]
    },
    {
     "data": {
      "text/html": [
       "<div>\n",
       "<style scoped>\n",
       "    .dataframe tbody tr th:only-of-type {\n",
       "        vertical-align: middle;\n",
       "    }\n",
       "\n",
       "    .dataframe tbody tr th {\n",
       "        vertical-align: top;\n",
       "    }\n",
       "\n",
       "    .dataframe thead th {\n",
       "        text-align: right;\n",
       "    }\n",
       "</style>\n",
       "<table border=\"1\" class=\"dataframe\">\n",
       "  <thead>\n",
       "    <tr style=\"text-align: right;\">\n",
       "      <th></th>\n",
       "      <th>status</th>\n",
       "    </tr>\n",
       "  </thead>\n",
       "  <tbody>\n",
       "    <tr>\n",
       "      <th>0</th>\n",
       "      <td>Table NK_ADPKD_DX successfully created.</td>\n",
       "    </tr>\n",
       "  </tbody>\n",
       "</table>\n",
       "</div>"
      ],
      "text/plain": [
       "                                    status\n",
       "0  Table NK_ADPKD_DX successfully created."
      ]
     },
     "execution_count": 12,
     "metadata": {},
     "output_type": "execute_result"
    }
   ],
   "source": [
    "%%read_sql\n",
    "\n",
    "create or replace table nk_adpkd_dx as\n",
    "\n",
    "select\n",
    "    left(encrypted_key_1, 8)||left(encrypted_key_2, 8) as patient_id,\n",
    "    claim_number,\n",
    "    diagnosis,\n",
    "    diagnosis_sequence,\n",
    "    year_of_service\n",
    "from\n",
    "    RWD_DB.RWD.RAVEN_CLAIMS_SUBMITS_DIAGNOSIS\n",
    "where\n",
    "    diagnosis in (select value from nk_adpkd_ref where cat1 = 'dx')"
   ]
  },
  {
   "cell_type": "markdown",
   "metadata": {},
   "source": [
    "## Getting index date"
   ]
  },
  {
   "cell_type": "code",
   "execution_count": 18,
   "metadata": {},
   "outputs": [
    {
     "name": "stdout",
     "output_type": "stream",
     "text": [
      "Query started at 04:59:13 PM GMT Daylight Time; Query executed in 0.05 m"
     ]
    },
    {
     "data": {
      "text/html": [
       "<div>\n",
       "<style scoped>\n",
       "    .dataframe tbody tr th:only-of-type {\n",
       "        vertical-align: middle;\n",
       "    }\n",
       "\n",
       "    .dataframe tbody tr th {\n",
       "        vertical-align: top;\n",
       "    }\n",
       "\n",
       "    .dataframe thead th {\n",
       "        text-align: right;\n",
       "    }\n",
       "</style>\n",
       "<table border=\"1\" class=\"dataframe\">\n",
       "  <thead>\n",
       "    <tr style=\"text-align: right;\">\n",
       "      <th></th>\n",
       "      <th>status</th>\n",
       "    </tr>\n",
       "  </thead>\n",
       "  <tbody>\n",
       "    <tr>\n",
       "      <th>0</th>\n",
       "      <td>Table NK_ADPKD_INDEX successfully created.</td>\n",
       "    </tr>\n",
       "  </tbody>\n",
       "</table>\n",
       "</div>"
      ],
      "text/plain": [
       "                                       status\n",
       "0  Table NK_ADPKD_INDEX successfully created."
      ]
     },
     "execution_count": 18,
     "metadata": {},
     "output_type": "execute_result"
    }
   ],
   "source": [
    "%%read_sql\n",
    "\n",
    "create or replace table nk_adpkd_index as\n",
    "\n",
    "select\n",
    "    patient_id,\n",
    "    min(year_of_service) as index_date\n",
    "from\n",
    "    nk_adpkd_dx\n",
    "group by 1"
   ]
  },
  {
   "cell_type": "markdown",
   "metadata": {},
   "source": [
    "# Pharmacy extract"
   ]
  },
  {
   "cell_type": "code",
   "execution_count": 31,
   "metadata": {},
   "outputs": [
    {
     "name": "stdout",
     "output_type": "stream",
     "text": [
      "Query started at 05:17:34 PM GMT Daylight TimeInitiating login request with your identity provider. A browser window should have opened for you to complete the login. If you can't see it, check existing browser windows, or your OS settings. Press CTRL+C to abort and try again...\n",
      "; Query executed in 14.51 m"
     ]
    },
    {
     "data": {
      "text/html": [
       "<div>\n",
       "<style scoped>\n",
       "    .dataframe tbody tr th:only-of-type {\n",
       "        vertical-align: middle;\n",
       "    }\n",
       "\n",
       "    .dataframe tbody tr th {\n",
       "        vertical-align: top;\n",
       "    }\n",
       "\n",
       "    .dataframe thead th {\n",
       "        text-align: right;\n",
       "    }\n",
       "</style>\n",
       "<table border=\"1\" class=\"dataframe\">\n",
       "  <thead>\n",
       "    <tr style=\"text-align: right;\">\n",
       "      <th></th>\n",
       "      <th>status</th>\n",
       "    </tr>\n",
       "  </thead>\n",
       "  <tbody>\n",
       "    <tr>\n",
       "      <th>0</th>\n",
       "      <td>Table NK_ADPKD_RX successfully created.</td>\n",
       "    </tr>\n",
       "  </tbody>\n",
       "</table>\n",
       "</div>"
      ],
      "text/plain": [
       "                                    status\n",
       "0  Table NK_ADPKD_RX successfully created."
      ]
     },
     "execution_count": 31,
     "metadata": {},
     "output_type": "execute_result"
    }
   ],
   "source": [
    "%%read_sql\n",
    "\n",
    "create or replace table nk_adpkd_rx as\n",
    "\n",
    "select \n",
    "    left(encrypted_key_1, 8)||left(encrypted_key_2, 8) as patient_id,\n",
    "    claim_number,\n",
    "    product_or_service_id as ndc,\n",
    "    date_of_service\n",
    "from \n",
    "    RWD_DB.RWD.RAVEN_PHARMACY\n",
    "where\n",
    "    product_or_service_id in ('46602002105','75839016905','46602002005','59148002050','59148002150')"
   ]
  },
  {
   "cell_type": "code",
   "execution_count": 33,
   "metadata": {},
   "outputs": [
    {
     "data": {
      "text/html": [
       "<div>\n",
       "<style scoped>\n",
       "    .dataframe tbody tr th:only-of-type {\n",
       "        vertical-align: middle;\n",
       "    }\n",
       "\n",
       "    .dataframe tbody tr th {\n",
       "        vertical-align: top;\n",
       "    }\n",
       "\n",
       "    .dataframe thead tr th {\n",
       "        text-align: left;\n",
       "    }\n",
       "</style>\n",
       "<table border=\"1\" class=\"dataframe\">\n",
       "  <thead>\n",
       "    <tr>\n",
       "      <th></th>\n",
       "      <th>pkd</th>\n",
       "      <th>tovalptan</th>\n",
       "      <th>pks_and_tovalptan</th>\n",
       "    </tr>\n",
       "    <tr>\n",
       "      <th></th>\n",
       "      <th>COUNT(PATIENT_ID)</th>\n",
       "      <th>COUNT(DISTINCT PATIENT_ID)</th>\n",
       "      <th>COUNT(DISTINCT PATIENT_ID)</th>\n",
       "    </tr>\n",
       "  </thead>\n",
       "  <tbody>\n",
       "    <tr>\n",
       "      <th>0</th>\n",
       "      <td>131195</td>\n",
       "      <td>6710</td>\n",
       "      <td>67</td>\n",
       "    </tr>\n",
       "  </tbody>\n",
       "</table>\n",
       "</div>"
      ],
      "text/plain": [
       "                pkd                  tovalptan          pks_and_tovalptan\n",
       "  COUNT(PATIENT_ID) COUNT(DISTINCT PATIENT_ID) COUNT(DISTINCT PATIENT_ID)\n",
       "0            131195                       6710                         67"
      ]
     },
     "execution_count": 33,
     "metadata": {},
     "output_type": "execute_result"
    }
   ],
   "source": [
    "a = snow.select(\"select count(patient_id) from nk_adpkd_index\")\n",
    "b = snow.select(\"select count(distinct patient_id) from nk_adpkd_rx\")\n",
    "c = snow.select(\"select count(distinct patient_id) from nk_adpkd_rx where patient_id in (select patient_id from nk_adpkd_index)\")\n",
    "\n",
    "lst = ['pkd',\n",
    "       'tovalptan',\n",
    "       'pks_and_tovalptan']\n",
    "\n",
    "pd.concat([a,b,c], keys=lst, axis=1)"
   ]
  },
  {
   "cell_type": "code",
   "execution_count": null,
   "metadata": {},
   "outputs": [],
   "source": [
    "in all of raven, there are about 131K pts matching on those diagnosis codes, there are 6.7k matching on the drug codes for tovalptan (independent of diagnosis codes) and the overlap between those two is 67 patients"
   ]
  }
 ],
 "metadata": {
  "kernelspec": {
   "display_name": "Python 3",
   "language": "python",
   "name": "python3"
  },
  "language_info": {
   "codemirror_mode": {
    "name": "ipython",
    "version": 3
   },
   "file_extension": ".py",
   "mimetype": "text/x-python",
   "name": "python",
   "nbconvert_exporter": "python",
   "pygments_lexer": "ipython3",
   "version": "3.6.5"
  },
  "toc": {
   "base_numbering": 1,
   "nav_menu": {},
   "number_sections": true,
   "sideBar": true,
   "skip_h1_title": false,
   "title_cell": "Table of Contents",
   "title_sidebar": "Contents",
   "toc_cell": false,
   "toc_position": {},
   "toc_section_display": true,
   "toc_window_display": true
  }
 },
 "nbformat": 4,
 "nbformat_minor": 2
}
