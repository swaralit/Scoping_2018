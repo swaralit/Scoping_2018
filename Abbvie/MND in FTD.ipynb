{
 "cells": [
  {
   "cell_type": "markdown",
   "metadata": {},
   "source": [
    "# Intialisation Steps\n",
    "Connecting to Snowflake"
   ]
  },
  {
   "cell_type": "markdown",
   "metadata": {},
   "source": [
    "## Importing required modules"
   ]
  },
  {
   "cell_type": "code",
   "execution_count": 2,
   "metadata": {},
   "outputs": [],
   "source": [
    "import pandas as pd\n",
    "from drg_connect import Snowflake\n",
    "import qgrid \n",
    "from datetime import timedelta, datetime\n",
    "import math\n",
    "\n",
    "import warnings\n",
    "warnings.filterwarnings('ignore')"
   ]
  },
  {
   "cell_type": "markdown",
   "metadata": {},
   "source": [
    "## Snowflake connection parameter"
   ]
  },
  {
   "cell_type": "code",
   "execution_count": 3,
   "metadata": {},
   "outputs": [
    {
     "data": {
      "application/javascript": [
       "\n",
       "    require(['notebook/js/codecell'], function(codecell) {\n",
       "      // https://github.com/jupyter/notebook/issues/2453\n",
       "      codecell.CodeCell.options_default.highlight_modes['magic_text/x-sql'] = {'reg':[/^%read_sql/, /.*=\\s*%read_sql/,\n",
       "                                                                                      /^%%read_sql/]};\n",
       "      Jupyter.notebook.events.one('kernel_ready.Kernel', function(){\n",
       "          console.log('BBBBB');\n",
       "          Jupyter.notebook.get_cells().map(function(cell){\n",
       "              if (cell.cell_type == 'code'){ cell.auto_highlight(); } }) ;\n",
       "      });\n",
       "    });\n",
       "    "
      ]
     },
     "metadata": {},
     "output_type": "display_data"
    }
   ],
   "source": [
    "##defining parameters of snowflake\n",
    "snow = Snowflake(role = 'RWD_ANALYTICS_RW',database='SANDBOX_ANALYTICS',schema = 'SANDBOX')\n",
    "engine = snow.engine\n",
    "\n",
    "%reload_ext sql_magic\n",
    "%config SQL.output_result = True  #Enable output to std out\n",
    "%config SQL.notify_result = False #disable browser notifications\n",
    "%config SQL.conn_name = 'engine'  #Set the sql_magic connection engine"
   ]
  },
  {
   "cell_type": "markdown",
   "metadata": {},
   "source": [
    "# ICD grouper table"
   ]
  },
  {
   "cell_type": "code",
   "execution_count": 19,
   "metadata": {},
   "outputs": [
    {
     "name": "stdout",
     "output_type": "stream",
     "text": [
      "Query started at 12:25:03 PM GMT Daylight TimeInitiating login request with your identity provider. A browser window should have opened for you to complete the login. If you can't see it, check existing browser windows, or your OS settings. Press CTRL+C to abort and try again...\n",
      "; Query executed in 0.14 m"
     ]
    },
    {
     "data": {
      "text/html": [
       "<div>\n",
       "<style scoped>\n",
       "    .dataframe tbody tr th:only-of-type {\n",
       "        vertical-align: middle;\n",
       "    }\n",
       "\n",
       "    .dataframe tbody tr th {\n",
       "        vertical-align: top;\n",
       "    }\n",
       "\n",
       "    .dataframe thead th {\n",
       "        text-align: right;\n",
       "    }\n",
       "</style>\n",
       "<table border=\"1\" class=\"dataframe\">\n",
       "  <thead>\n",
       "    <tr style=\"text-align: right;\">\n",
       "      <th></th>\n",
       "      <th>id</th>\n",
       "      <th>level_1</th>\n",
       "      <th>level_1_description</th>\n",
       "      <th>level_2</th>\n",
       "      <th>level_2_description</th>\n",
       "      <th>level_3</th>\n",
       "      <th>level_3_description</th>\n",
       "      <th>level_4</th>\n",
       "      <th>icd9_mapped_codes</th>\n",
       "      <th>icd9_description</th>\n",
       "      <th>level_4_short_description_icd10</th>\n",
       "      <th>level_4_long_description_icd10</th>\n",
       "      <th>create_ts</th>\n",
       "      <th>update_ts</th>\n",
       "    </tr>\n",
       "  </thead>\n",
       "  <tbody>\n",
       "    <tr>\n",
       "      <th>0</th>\n",
       "      <td>5833</td>\n",
       "      <td>G00 - G998</td>\n",
       "      <td>Diseases of the nervous system</td>\n",
       "      <td>G10-G14</td>\n",
       "      <td>Systemic atrophies primarily affecting the cen...</td>\n",
       "      <td>G12-G129</td>\n",
       "      <td>Spinal muscular atrophy and related syndromes</td>\n",
       "      <td>G122</td>\n",
       "      <td>No map</td>\n",
       "      <td>No map</td>\n",
       "      <td>Motor neuron disease</td>\n",
       "      <td>Motor neuron disease</td>\n",
       "      <td>2017-11-02</td>\n",
       "      <td>2017-11-02</td>\n",
       "    </tr>\n",
       "    <tr>\n",
       "      <th>1</th>\n",
       "      <td>5834</td>\n",
       "      <td>G00 - G998</td>\n",
       "      <td>Diseases of the nervous system</td>\n",
       "      <td>G10-G14</td>\n",
       "      <td>Systemic atrophies primarily affecting the cen...</td>\n",
       "      <td>G12-G129</td>\n",
       "      <td>Spinal muscular atrophy and related syndromes</td>\n",
       "      <td>G1220</td>\n",
       "      <td>No map</td>\n",
       "      <td>No map</td>\n",
       "      <td>Motor neuron disease unspecified</td>\n",
       "      <td>Motor neuron disease unspecified</td>\n",
       "      <td>2017-11-02</td>\n",
       "      <td>2017-11-02</td>\n",
       "    </tr>\n",
       "    <tr>\n",
       "      <th>2</th>\n",
       "      <td>5835</td>\n",
       "      <td>G00 - G998</td>\n",
       "      <td>Diseases of the nervous system</td>\n",
       "      <td>G10-G14</td>\n",
       "      <td>Systemic atrophies primarily affecting the cen...</td>\n",
       "      <td>G12-G129</td>\n",
       "      <td>Spinal muscular atrophy and related syndromes</td>\n",
       "      <td>G1221</td>\n",
       "      <td>33520</td>\n",
       "      <td>Amyotrophic lateral sclerosis</td>\n",
       "      <td>Amyotrophic lateral sclerosis</td>\n",
       "      <td>Amyotrophic lateral sclerosis</td>\n",
       "      <td>2017-11-02</td>\n",
       "      <td>2017-11-02</td>\n",
       "    </tr>\n",
       "    <tr>\n",
       "      <th>3</th>\n",
       "      <td>5836</td>\n",
       "      <td>G00 - G998</td>\n",
       "      <td>Diseases of the nervous system</td>\n",
       "      <td>G10-G14</td>\n",
       "      <td>Systemic atrophies primarily affecting the cen...</td>\n",
       "      <td>G12-G129</td>\n",
       "      <td>Spinal muscular atrophy and related syndromes</td>\n",
       "      <td>G1222</td>\n",
       "      <td>33522</td>\n",
       "      <td>Progressive bulbar palsy</td>\n",
       "      <td>Progressive bulbar palsy</td>\n",
       "      <td>Progressive bulbar palsy</td>\n",
       "      <td>2017-11-02</td>\n",
       "      <td>2017-11-02</td>\n",
       "    </tr>\n",
       "    <tr>\n",
       "      <th>4</th>\n",
       "      <td>5837</td>\n",
       "      <td>G00 - G998</td>\n",
       "      <td>Diseases of the nervous system</td>\n",
       "      <td>G10-G14</td>\n",
       "      <td>Systemic atrophies primarily affecting the cen...</td>\n",
       "      <td>G12-G129</td>\n",
       "      <td>Spinal muscular atrophy and related syndromes</td>\n",
       "      <td>G1223</td>\n",
       "      <td>33524</td>\n",
       "      <td>Primary lateral sclerosis</td>\n",
       "      <td>Primary lateral sclerosis</td>\n",
       "      <td>Primary lateral sclerosis</td>\n",
       "      <td>2017-11-02</td>\n",
       "      <td>2017-11-02</td>\n",
       "    </tr>\n",
       "    <tr>\n",
       "      <th>5</th>\n",
       "      <td>5838</td>\n",
       "      <td>G00 - G998</td>\n",
       "      <td>Diseases of the nervous system</td>\n",
       "      <td>G10-G14</td>\n",
       "      <td>Systemic atrophies primarily affecting the cen...</td>\n",
       "      <td>G12-G129</td>\n",
       "      <td>Spinal muscular atrophy and related syndromes</td>\n",
       "      <td>G1224</td>\n",
       "      <td>33529</td>\n",
       "      <td>Other motor neuron disease</td>\n",
       "      <td>Familial motor neuron disease</td>\n",
       "      <td>Familial motor neuron disease</td>\n",
       "      <td>2017-11-02</td>\n",
       "      <td>2017-11-02</td>\n",
       "    </tr>\n",
       "    <tr>\n",
       "      <th>6</th>\n",
       "      <td>5839</td>\n",
       "      <td>G00 - G998</td>\n",
       "      <td>Diseases of the nervous system</td>\n",
       "      <td>G10-G14</td>\n",
       "      <td>Systemic atrophies primarily affecting the cen...</td>\n",
       "      <td>G12-G129</td>\n",
       "      <td>Spinal muscular atrophy and related syndromes</td>\n",
       "      <td>G1225</td>\n",
       "      <td>33510</td>\n",
       "      <td>Spinal muscular atrophy unspecified</td>\n",
       "      <td>Progressive spinal muscle atrophy</td>\n",
       "      <td>Progressive spinal muscle atrophy</td>\n",
       "      <td>2017-11-02</td>\n",
       "      <td>2017-11-02</td>\n",
       "    </tr>\n",
       "    <tr>\n",
       "      <th>7</th>\n",
       "      <td>5840</td>\n",
       "      <td>G00 - G998</td>\n",
       "      <td>Diseases of the nervous system</td>\n",
       "      <td>G10-G14</td>\n",
       "      <td>Systemic atrophies primarily affecting the cen...</td>\n",
       "      <td>G12-G129</td>\n",
       "      <td>Spinal muscular atrophy and related syndromes</td>\n",
       "      <td>G1229</td>\n",
       "      <td>33529</td>\n",
       "      <td>Other motor neuron disease</td>\n",
       "      <td>Other motor neuron disease</td>\n",
       "      <td>Other motor neuron disease</td>\n",
       "      <td>2017-11-02</td>\n",
       "      <td>2017-11-02</td>\n",
       "    </tr>\n",
       "    <tr>\n",
       "      <th>8</th>\n",
       "      <td>5905</td>\n",
       "      <td>G00 - G998</td>\n",
       "      <td>Diseases of the nervous system</td>\n",
       "      <td>G30-G32</td>\n",
       "      <td>Other degenerative diseases of the nervous system</td>\n",
       "      <td>G31-G319</td>\n",
       "      <td>Oth degenerative diseases of nervous system NEC</td>\n",
       "      <td>G310</td>\n",
       "      <td>No map</td>\n",
       "      <td>No map</td>\n",
       "      <td>Frontotemporal dementia</td>\n",
       "      <td>Frontotemporal dementia</td>\n",
       "      <td>2017-11-02</td>\n",
       "      <td>2017-11-02</td>\n",
       "    </tr>\n",
       "    <tr>\n",
       "      <th>9</th>\n",
       "      <td>5907</td>\n",
       "      <td>G00 - G998</td>\n",
       "      <td>Diseases of the nervous system</td>\n",
       "      <td>G30-G32</td>\n",
       "      <td>Other degenerative diseases of the nervous system</td>\n",
       "      <td>G31-G319</td>\n",
       "      <td>Oth degenerative diseases of nervous system NEC</td>\n",
       "      <td>G3109</td>\n",
       "      <td>33119</td>\n",
       "      <td>Other frontotemporal dementia</td>\n",
       "      <td>Other frontotemporal dementia</td>\n",
       "      <td>Other frontotemporal dementia</td>\n",
       "      <td>2017-11-02</td>\n",
       "      <td>2017-11-02</td>\n",
       "    </tr>\n",
       "  </tbody>\n",
       "</table>\n",
       "</div>"
      ],
      "text/plain": [
       "     id     level_1             level_1_description  level_2  \\\n",
       "0  5833  G00 - G998  Diseases of the nervous system  G10-G14   \n",
       "1  5834  G00 - G998  Diseases of the nervous system  G10-G14   \n",
       "2  5835  G00 - G998  Diseases of the nervous system  G10-G14   \n",
       "3  5836  G00 - G998  Diseases of the nervous system  G10-G14   \n",
       "4  5837  G00 - G998  Diseases of the nervous system  G10-G14   \n",
       "5  5838  G00 - G998  Diseases of the nervous system  G10-G14   \n",
       "6  5839  G00 - G998  Diseases of the nervous system  G10-G14   \n",
       "7  5840  G00 - G998  Diseases of the nervous system  G10-G14   \n",
       "8  5905  G00 - G998  Diseases of the nervous system  G30-G32   \n",
       "9  5907  G00 - G998  Diseases of the nervous system  G30-G32   \n",
       "\n",
       "                                 level_2_description   level_3  \\\n",
       "0  Systemic atrophies primarily affecting the cen...  G12-G129   \n",
       "1  Systemic atrophies primarily affecting the cen...  G12-G129   \n",
       "2  Systemic atrophies primarily affecting the cen...  G12-G129   \n",
       "3  Systemic atrophies primarily affecting the cen...  G12-G129   \n",
       "4  Systemic atrophies primarily affecting the cen...  G12-G129   \n",
       "5  Systemic atrophies primarily affecting the cen...  G12-G129   \n",
       "6  Systemic atrophies primarily affecting the cen...  G12-G129   \n",
       "7  Systemic atrophies primarily affecting the cen...  G12-G129   \n",
       "8  Other degenerative diseases of the nervous system  G31-G319   \n",
       "9  Other degenerative diseases of the nervous system  G31-G319   \n",
       "\n",
       "                               level_3_description level_4 icd9_mapped_codes  \\\n",
       "0    Spinal muscular atrophy and related syndromes    G122            No map   \n",
       "1    Spinal muscular atrophy and related syndromes   G1220            No map   \n",
       "2    Spinal muscular atrophy and related syndromes   G1221             33520   \n",
       "3    Spinal muscular atrophy and related syndromes   G1222             33522   \n",
       "4    Spinal muscular atrophy and related syndromes   G1223             33524   \n",
       "5    Spinal muscular atrophy and related syndromes   G1224             33529   \n",
       "6    Spinal muscular atrophy and related syndromes   G1225             33510   \n",
       "7    Spinal muscular atrophy and related syndromes   G1229             33529   \n",
       "8  Oth degenerative diseases of nervous system NEC    G310            No map   \n",
       "9  Oth degenerative diseases of nervous system NEC   G3109             33119   \n",
       "\n",
       "                      icd9_description    level_4_short_description_icd10  \\\n",
       "0                               No map               Motor neuron disease   \n",
       "1                               No map   Motor neuron disease unspecified   \n",
       "2        Amyotrophic lateral sclerosis      Amyotrophic lateral sclerosis   \n",
       "3             Progressive bulbar palsy           Progressive bulbar palsy   \n",
       "4            Primary lateral sclerosis          Primary lateral sclerosis   \n",
       "5           Other motor neuron disease      Familial motor neuron disease   \n",
       "6  Spinal muscular atrophy unspecified  Progressive spinal muscle atrophy   \n",
       "7           Other motor neuron disease         Other motor neuron disease   \n",
       "8                               No map            Frontotemporal dementia   \n",
       "9        Other frontotemporal dementia      Other frontotemporal dementia   \n",
       "\n",
       "      level_4_long_description_icd10   create_ts   update_ts  \n",
       "0               Motor neuron disease  2017-11-02  2017-11-02  \n",
       "1   Motor neuron disease unspecified  2017-11-02  2017-11-02  \n",
       "2      Amyotrophic lateral sclerosis  2017-11-02  2017-11-02  \n",
       "3           Progressive bulbar palsy  2017-11-02  2017-11-02  \n",
       "4          Primary lateral sclerosis  2017-11-02  2017-11-02  \n",
       "5      Familial motor neuron disease  2017-11-02  2017-11-02  \n",
       "6  Progressive spinal muscle atrophy  2017-11-02  2017-11-02  \n",
       "7         Other motor neuron disease  2017-11-02  2017-11-02  \n",
       "8            Frontotemporal dementia  2017-11-02  2017-11-02  \n",
       "9      Other frontotemporal dementia  2017-11-02  2017-11-02  "
      ]
     },
     "execution_count": 19,
     "metadata": {},
     "output_type": "execute_result"
    }
   ],
   "source": [
    "%%read_sql\n",
    "\n",
    "select\n",
    "    *\n",
    "from\n",
    "    RWD_DB.RWD_REFERENCE_LIBRARY.ICD_GROUPER\n",
    "where\n",
    "    left(level_4, 4) in ('G122') -- motor neurone disease\n",
    "    or (level_4_long_description_icd10 ilike '%fronto%'\n",
    "        and level_4_long_description_icd10 ilike '%temporal%')"
   ]
  },
  {
   "cell_type": "code",
   "execution_count": 23,
   "metadata": {},
   "outputs": [
    {
     "name": "stdout",
     "output_type": "stream",
     "text": [
      "Query started at 12:33:33 PM GMT Daylight Time; Query executed in 0.06 m"
     ]
    },
    {
     "data": {
      "text/html": [
       "<div>\n",
       "<style scoped>\n",
       "    .dataframe tbody tr th:only-of-type {\n",
       "        vertical-align: middle;\n",
       "    }\n",
       "\n",
       "    .dataframe tbody tr th {\n",
       "        vertical-align: top;\n",
       "    }\n",
       "\n",
       "    .dataframe thead th {\n",
       "        text-align: right;\n",
       "    }\n",
       "</style>\n",
       "<table border=\"1\" class=\"dataframe\">\n",
       "  <thead>\n",
       "    <tr style=\"text-align: right;\">\n",
       "      <th></th>\n",
       "      <th>status</th>\n",
       "    </tr>\n",
       "  </thead>\n",
       "  <tbody>\n",
       "    <tr>\n",
       "      <th>0</th>\n",
       "      <td>Table NK_MND_REF1 successfully created.</td>\n",
       "    </tr>\n",
       "  </tbody>\n",
       "</table>\n",
       "</div>"
      ],
      "text/plain": [
       "                                    status\n",
       "0  Table NK_MND_REF1 successfully created."
      ]
     },
     "execution_count": 23,
     "metadata": {},
     "output_type": "execute_result"
    }
   ],
   "source": [
    "%%read_sql\n",
    "\n",
    "create or replace temporary table nk_mnd_ref1 as\n",
    "\n",
    "select\n",
    "    'dx' as cat1,\n",
    "    case\n",
    "        when left(level_4, 4) in ('G122')\n",
    "        then 'mnd'\n",
    "        else 'ftd'\n",
    "        end as cat2,\n",
    "    null as cat3,\n",
    "    null as cat4,\n",
    "    null as cat5,\n",
    "    null as cat6,\n",
    "    'icd_10' as type,\n",
    "    level_4 as value,\n",
    "    level_4_long_description_icd10 as description,\n",
    "    current_date() as active_date,\n",
    "    'Nish' as active_reason,\n",
    "    null as deactive_date,\n",
    "    null as deactive_reason,\n",
    "    'RWD_DB.RWD.ICD_GROUPER' as source\n",
    "from \n",
    "    RWD_DB.RWD.ICD_GROUPER\n",
    "where\n",
    "    left(level_4, 4) in ('G122') -- motor neurone disease\n",
    "    or (level_4_long_description_icd10 ilike '%fronto%'\n",
    "        and level_4_long_description_icd10 ilike '%temporal%')"
   ]
  },
  {
   "cell_type": "code",
   "execution_count": 27,
   "metadata": {},
   "outputs": [
    {
     "name": "stdout",
     "output_type": "stream",
     "text": [
      "Query started at 12:35:16 PM GMT Daylight Time; Query executed in 0.05 m"
     ]
    },
    {
     "data": {
      "text/html": [
       "<div>\n",
       "<style scoped>\n",
       "    .dataframe tbody tr th:only-of-type {\n",
       "        vertical-align: middle;\n",
       "    }\n",
       "\n",
       "    .dataframe tbody tr th {\n",
       "        vertical-align: top;\n",
       "    }\n",
       "\n",
       "    .dataframe thead th {\n",
       "        text-align: right;\n",
       "    }\n",
       "</style>\n",
       "<table border=\"1\" class=\"dataframe\">\n",
       "  <thead>\n",
       "    <tr style=\"text-align: right;\">\n",
       "      <th></th>\n",
       "      <th>status</th>\n",
       "    </tr>\n",
       "  </thead>\n",
       "  <tbody>\n",
       "    <tr>\n",
       "      <th>0</th>\n",
       "      <td>Table NK_MND_REF2 successfully created.</td>\n",
       "    </tr>\n",
       "  </tbody>\n",
       "</table>\n",
       "</div>"
      ],
      "text/plain": [
       "                                    status\n",
       "0  Table NK_MND_REF2 successfully created."
      ]
     },
     "execution_count": 27,
     "metadata": {},
     "output_type": "execute_result"
    }
   ],
   "source": [
    "%%read_sql\n",
    "\n",
    "create or replace temporary table nk_mnd_ref2 as\n",
    "\n",
    "select\n",
    "    'dx' as cat1,\n",
    "    case\n",
    "        when left(level_4, 4) in ('G122')\n",
    "        then 'mnd'\n",
    "        else 'ftd'\n",
    "        end as cat2,\n",
    "    null as cat3,\n",
    "    null as cat4,\n",
    "    null as cat5,\n",
    "    null as cat6,\n",
    "    'icd_9' as type,\n",
    "    icd9_mapped_codes as value,\n",
    "    icd9_description as description,\n",
    "    current_date() as active_date,\n",
    "    'Nish' as active_reason,\n",
    "    null as deactive_date,\n",
    "    null as deactive_reason,\n",
    "    'RWD_DB.RWD.ICD_GROUPER' as source\n",
    "from \n",
    "    RWD_DB.RWD.ICD_GROUPER\n",
    "where\n",
    "    (left(level_4, 4) in ('G122') -- motor neurone disease\n",
    "    or (level_4_long_description_icd10 ilike '%fronto%'\n",
    "        and level_4_long_description_icd10 ilike '%temporal%'))\n",
    "    and icd9_mapped_codes != 'No map'"
   ]
  },
  {
   "cell_type": "code",
   "execution_count": 29,
   "metadata": {},
   "outputs": [
    {
     "name": "stdout",
     "output_type": "stream",
     "text": [
      "Query started at 12:35:45 PM GMT Daylight Time; Query executed in 0.06 m"
     ]
    },
    {
     "data": {
      "text/html": [
       "<div>\n",
       "<style scoped>\n",
       "    .dataframe tbody tr th:only-of-type {\n",
       "        vertical-align: middle;\n",
       "    }\n",
       "\n",
       "    .dataframe tbody tr th {\n",
       "        vertical-align: top;\n",
       "    }\n",
       "\n",
       "    .dataframe thead th {\n",
       "        text-align: right;\n",
       "    }\n",
       "</style>\n",
       "<table border=\"1\" class=\"dataframe\">\n",
       "  <thead>\n",
       "    <tr style=\"text-align: right;\">\n",
       "      <th></th>\n",
       "      <th>status</th>\n",
       "    </tr>\n",
       "  </thead>\n",
       "  <tbody>\n",
       "    <tr>\n",
       "      <th>0</th>\n",
       "      <td>Table NK_MND_REF successfully created.</td>\n",
       "    </tr>\n",
       "  </tbody>\n",
       "</table>\n",
       "</div>"
      ],
      "text/plain": [
       "                                   status\n",
       "0  Table NK_MND_REF successfully created."
      ]
     },
     "execution_count": 29,
     "metadata": {},
     "output_type": "execute_result"
    }
   ],
   "source": [
    "%%read_sql\n",
    "\n",
    "create or replace table nk_mnd_ref as\n",
    "\n",
    "select * from nk_mnd_ref1\n",
    "union\n",
    "select * from nk_mnd_ref2\n",
    "order by type, cat2"
   ]
  },
  {
   "cell_type": "markdown",
   "metadata": {},
   "source": [
    "## Upload into snowflake"
   ]
  },
  {
   "cell_type": "code",
   "execution_count": null,
   "metadata": {},
   "outputs": [],
   "source": [
    "als_ref = pd.read_excel(\"in/ref.xlsx\")"
   ]
  },
  {
   "cell_type": "code",
   "execution_count": null,
   "metadata": {},
   "outputs": [],
   "source": [
    "snow.drop_table(\"nk_als_ref\")"
   ]
  },
  {
   "cell_type": "code",
   "execution_count": null,
   "metadata": {},
   "outputs": [],
   "source": [
    "snow.upload_dataframe(als_ref, \"nk_als_ref\")"
   ]
  },
  {
   "cell_type": "code",
   "execution_count": 5,
   "metadata": {},
   "outputs": [
    {
     "name": "stdout",
     "output_type": "stream",
     "text": [
      "Query started at 05:24:20 PM GMT Daylight Time; Query executed in 0.08 m"
     ]
    },
    {
     "data": {
      "text/html": [
       "<div>\n",
       "<style scoped>\n",
       "    .dataframe tbody tr th:only-of-type {\n",
       "        vertical-align: middle;\n",
       "    }\n",
       "\n",
       "    .dataframe tbody tr th {\n",
       "        vertical-align: top;\n",
       "    }\n",
       "\n",
       "    .dataframe thead th {\n",
       "        text-align: right;\n",
       "    }\n",
       "</style>\n",
       "<table border=\"1\" class=\"dataframe\">\n",
       "  <thead>\n",
       "    <tr style=\"text-align: right;\">\n",
       "      <th></th>\n",
       "      <th>cat1</th>\n",
       "      <th>cat2</th>\n",
       "      <th>cat3</th>\n",
       "      <th>cat4</th>\n",
       "      <th>cat5</th>\n",
       "      <th>cat6</th>\n",
       "      <th>type</th>\n",
       "      <th>value</th>\n",
       "      <th>description</th>\n",
       "      <th>active_date</th>\n",
       "      <th>active_reason</th>\n",
       "      <th>deactive_date</th>\n",
       "      <th>deactive_reason</th>\n",
       "      <th>source</th>\n",
       "    </tr>\n",
       "  </thead>\n",
       "  <tbody>\n",
       "    <tr>\n",
       "      <th>0</th>\n",
       "      <td>dx</td>\n",
       "      <td>ftd</td>\n",
       "      <td>None</td>\n",
       "      <td>None</td>\n",
       "      <td>None</td>\n",
       "      <td>None</td>\n",
       "      <td>icd_10</td>\n",
       "      <td>G310</td>\n",
       "      <td>Frontotemporal dementia</td>\n",
       "      <td>2018-07-16</td>\n",
       "      <td>Nish</td>\n",
       "      <td>None</td>\n",
       "      <td>None</td>\n",
       "      <td>RWD_DB.RWD.ICD_GROUPER</td>\n",
       "    </tr>\n",
       "    <tr>\n",
       "      <th>1</th>\n",
       "      <td>dx</td>\n",
       "      <td>ftd</td>\n",
       "      <td>None</td>\n",
       "      <td>None</td>\n",
       "      <td>None</td>\n",
       "      <td>None</td>\n",
       "      <td>icd_10</td>\n",
       "      <td>G3109</td>\n",
       "      <td>Other frontotemporal dementia</td>\n",
       "      <td>2018-07-16</td>\n",
       "      <td>Nish</td>\n",
       "      <td>None</td>\n",
       "      <td>None</td>\n",
       "      <td>RWD_DB.RWD.ICD_GROUPER</td>\n",
       "    </tr>\n",
       "    <tr>\n",
       "      <th>2</th>\n",
       "      <td>dx</td>\n",
       "      <td>mnd</td>\n",
       "      <td>None</td>\n",
       "      <td>None</td>\n",
       "      <td>None</td>\n",
       "      <td>None</td>\n",
       "      <td>icd_10</td>\n",
       "      <td>G122</td>\n",
       "      <td>Motor neuron disease</td>\n",
       "      <td>2018-07-16</td>\n",
       "      <td>Nish</td>\n",
       "      <td>None</td>\n",
       "      <td>None</td>\n",
       "      <td>RWD_DB.RWD.ICD_GROUPER</td>\n",
       "    </tr>\n",
       "    <tr>\n",
       "      <th>3</th>\n",
       "      <td>dx</td>\n",
       "      <td>mnd</td>\n",
       "      <td>None</td>\n",
       "      <td>None</td>\n",
       "      <td>None</td>\n",
       "      <td>None</td>\n",
       "      <td>icd_10</td>\n",
       "      <td>G1220</td>\n",
       "      <td>Motor neuron disease unspecified</td>\n",
       "      <td>2018-07-16</td>\n",
       "      <td>Nish</td>\n",
       "      <td>None</td>\n",
       "      <td>None</td>\n",
       "      <td>RWD_DB.RWD.ICD_GROUPER</td>\n",
       "    </tr>\n",
       "    <tr>\n",
       "      <th>4</th>\n",
       "      <td>dx</td>\n",
       "      <td>mnd</td>\n",
       "      <td>None</td>\n",
       "      <td>None</td>\n",
       "      <td>None</td>\n",
       "      <td>None</td>\n",
       "      <td>icd_10</td>\n",
       "      <td>G1221</td>\n",
       "      <td>Amyotrophic lateral sclerosis</td>\n",
       "      <td>2018-07-16</td>\n",
       "      <td>Nish</td>\n",
       "      <td>None</td>\n",
       "      <td>None</td>\n",
       "      <td>RWD_DB.RWD.ICD_GROUPER</td>\n",
       "    </tr>\n",
       "    <tr>\n",
       "      <th>5</th>\n",
       "      <td>dx</td>\n",
       "      <td>mnd</td>\n",
       "      <td>None</td>\n",
       "      <td>None</td>\n",
       "      <td>None</td>\n",
       "      <td>None</td>\n",
       "      <td>icd_10</td>\n",
       "      <td>G1222</td>\n",
       "      <td>Progressive bulbar palsy</td>\n",
       "      <td>2018-07-16</td>\n",
       "      <td>Nish</td>\n",
       "      <td>None</td>\n",
       "      <td>None</td>\n",
       "      <td>RWD_DB.RWD.ICD_GROUPER</td>\n",
       "    </tr>\n",
       "    <tr>\n",
       "      <th>6</th>\n",
       "      <td>dx</td>\n",
       "      <td>mnd</td>\n",
       "      <td>None</td>\n",
       "      <td>None</td>\n",
       "      <td>None</td>\n",
       "      <td>None</td>\n",
       "      <td>icd_10</td>\n",
       "      <td>G1223</td>\n",
       "      <td>Primary lateral sclerosis</td>\n",
       "      <td>2018-07-16</td>\n",
       "      <td>Nish</td>\n",
       "      <td>None</td>\n",
       "      <td>None</td>\n",
       "      <td>RWD_DB.RWD.ICD_GROUPER</td>\n",
       "    </tr>\n",
       "    <tr>\n",
       "      <th>7</th>\n",
       "      <td>dx</td>\n",
       "      <td>mnd</td>\n",
       "      <td>None</td>\n",
       "      <td>None</td>\n",
       "      <td>None</td>\n",
       "      <td>None</td>\n",
       "      <td>icd_10</td>\n",
       "      <td>G1224</td>\n",
       "      <td>Familial motor neuron disease</td>\n",
       "      <td>2018-07-16</td>\n",
       "      <td>Nish</td>\n",
       "      <td>None</td>\n",
       "      <td>None</td>\n",
       "      <td>RWD_DB.RWD.ICD_GROUPER</td>\n",
       "    </tr>\n",
       "    <tr>\n",
       "      <th>8</th>\n",
       "      <td>dx</td>\n",
       "      <td>mnd</td>\n",
       "      <td>None</td>\n",
       "      <td>None</td>\n",
       "      <td>None</td>\n",
       "      <td>None</td>\n",
       "      <td>icd_10</td>\n",
       "      <td>G1229</td>\n",
       "      <td>Other motor neuron disease</td>\n",
       "      <td>2018-07-16</td>\n",
       "      <td>Nish</td>\n",
       "      <td>None</td>\n",
       "      <td>None</td>\n",
       "      <td>RWD_DB.RWD.ICD_GROUPER</td>\n",
       "    </tr>\n",
       "    <tr>\n",
       "      <th>9</th>\n",
       "      <td>dx</td>\n",
       "      <td>mnd</td>\n",
       "      <td>None</td>\n",
       "      <td>None</td>\n",
       "      <td>None</td>\n",
       "      <td>None</td>\n",
       "      <td>icd_10</td>\n",
       "      <td>G1225</td>\n",
       "      <td>Progressive spinal muscle atrophy</td>\n",
       "      <td>2018-07-16</td>\n",
       "      <td>Nish</td>\n",
       "      <td>None</td>\n",
       "      <td>None</td>\n",
       "      <td>RWD_DB.RWD.ICD_GROUPER</td>\n",
       "    </tr>\n",
       "    <tr>\n",
       "      <th>10</th>\n",
       "      <td>dx</td>\n",
       "      <td>ftd</td>\n",
       "      <td>None</td>\n",
       "      <td>None</td>\n",
       "      <td>None</td>\n",
       "      <td>None</td>\n",
       "      <td>icd_9</td>\n",
       "      <td>33119</td>\n",
       "      <td>Other frontotemporal dementia</td>\n",
       "      <td>2018-07-16</td>\n",
       "      <td>Nish</td>\n",
       "      <td>None</td>\n",
       "      <td>None</td>\n",
       "      <td>RWD_DB.RWD.ICD_GROUPER</td>\n",
       "    </tr>\n",
       "    <tr>\n",
       "      <th>11</th>\n",
       "      <td>dx</td>\n",
       "      <td>mnd</td>\n",
       "      <td>None</td>\n",
       "      <td>None</td>\n",
       "      <td>None</td>\n",
       "      <td>None</td>\n",
       "      <td>icd_9</td>\n",
       "      <td>33520</td>\n",
       "      <td>Amyotrophic lateral sclerosis</td>\n",
       "      <td>2018-07-16</td>\n",
       "      <td>Nish</td>\n",
       "      <td>None</td>\n",
       "      <td>None</td>\n",
       "      <td>RWD_DB.RWD.ICD_GROUPER</td>\n",
       "    </tr>\n",
       "    <tr>\n",
       "      <th>12</th>\n",
       "      <td>dx</td>\n",
       "      <td>mnd</td>\n",
       "      <td>None</td>\n",
       "      <td>None</td>\n",
       "      <td>None</td>\n",
       "      <td>None</td>\n",
       "      <td>icd_9</td>\n",
       "      <td>33524</td>\n",
       "      <td>Primary lateral sclerosis</td>\n",
       "      <td>2018-07-16</td>\n",
       "      <td>Nish</td>\n",
       "      <td>None</td>\n",
       "      <td>None</td>\n",
       "      <td>RWD_DB.RWD.ICD_GROUPER</td>\n",
       "    </tr>\n",
       "    <tr>\n",
       "      <th>13</th>\n",
       "      <td>dx</td>\n",
       "      <td>mnd</td>\n",
       "      <td>None</td>\n",
       "      <td>None</td>\n",
       "      <td>None</td>\n",
       "      <td>None</td>\n",
       "      <td>icd_9</td>\n",
       "      <td>33529</td>\n",
       "      <td>Other motor neuron disease</td>\n",
       "      <td>2018-07-16</td>\n",
       "      <td>Nish</td>\n",
       "      <td>None</td>\n",
       "      <td>None</td>\n",
       "      <td>RWD_DB.RWD.ICD_GROUPER</td>\n",
       "    </tr>\n",
       "    <tr>\n",
       "      <th>14</th>\n",
       "      <td>dx</td>\n",
       "      <td>mnd</td>\n",
       "      <td>None</td>\n",
       "      <td>None</td>\n",
       "      <td>None</td>\n",
       "      <td>None</td>\n",
       "      <td>icd_9</td>\n",
       "      <td>33522</td>\n",
       "      <td>Progressive bulbar palsy</td>\n",
       "      <td>2018-07-16</td>\n",
       "      <td>Nish</td>\n",
       "      <td>None</td>\n",
       "      <td>None</td>\n",
       "      <td>RWD_DB.RWD.ICD_GROUPER</td>\n",
       "    </tr>\n",
       "    <tr>\n",
       "      <th>15</th>\n",
       "      <td>dx</td>\n",
       "      <td>mnd</td>\n",
       "      <td>None</td>\n",
       "      <td>None</td>\n",
       "      <td>None</td>\n",
       "      <td>None</td>\n",
       "      <td>icd_9</td>\n",
       "      <td>33510</td>\n",
       "      <td>Spinal muscular atrophy unspecified</td>\n",
       "      <td>2018-07-16</td>\n",
       "      <td>Nish</td>\n",
       "      <td>None</td>\n",
       "      <td>None</td>\n",
       "      <td>RWD_DB.RWD.ICD_GROUPER</td>\n",
       "    </tr>\n",
       "  </tbody>\n",
       "</table>\n",
       "</div>"
      ],
      "text/plain": [
       "   cat1 cat2  cat3  cat4  cat5  cat6    type  value  \\\n",
       "0    dx  ftd  None  None  None  None  icd_10   G310   \n",
       "1    dx  ftd  None  None  None  None  icd_10  G3109   \n",
       "2    dx  mnd  None  None  None  None  icd_10   G122   \n",
       "3    dx  mnd  None  None  None  None  icd_10  G1220   \n",
       "4    dx  mnd  None  None  None  None  icd_10  G1221   \n",
       "5    dx  mnd  None  None  None  None  icd_10  G1222   \n",
       "6    dx  mnd  None  None  None  None  icd_10  G1223   \n",
       "7    dx  mnd  None  None  None  None  icd_10  G1224   \n",
       "8    dx  mnd  None  None  None  None  icd_10  G1229   \n",
       "9    dx  mnd  None  None  None  None  icd_10  G1225   \n",
       "10   dx  ftd  None  None  None  None   icd_9  33119   \n",
       "11   dx  mnd  None  None  None  None   icd_9  33520   \n",
       "12   dx  mnd  None  None  None  None   icd_9  33524   \n",
       "13   dx  mnd  None  None  None  None   icd_9  33529   \n",
       "14   dx  mnd  None  None  None  None   icd_9  33522   \n",
       "15   dx  mnd  None  None  None  None   icd_9  33510   \n",
       "\n",
       "                            description active_date active_reason  \\\n",
       "0               Frontotemporal dementia  2018-07-16          Nish   \n",
       "1         Other frontotemporal dementia  2018-07-16          Nish   \n",
       "2                  Motor neuron disease  2018-07-16          Nish   \n",
       "3      Motor neuron disease unspecified  2018-07-16          Nish   \n",
       "4         Amyotrophic lateral sclerosis  2018-07-16          Nish   \n",
       "5              Progressive bulbar palsy  2018-07-16          Nish   \n",
       "6             Primary lateral sclerosis  2018-07-16          Nish   \n",
       "7         Familial motor neuron disease  2018-07-16          Nish   \n",
       "8            Other motor neuron disease  2018-07-16          Nish   \n",
       "9     Progressive spinal muscle atrophy  2018-07-16          Nish   \n",
       "10        Other frontotemporal dementia  2018-07-16          Nish   \n",
       "11        Amyotrophic lateral sclerosis  2018-07-16          Nish   \n",
       "12            Primary lateral sclerosis  2018-07-16          Nish   \n",
       "13           Other motor neuron disease  2018-07-16          Nish   \n",
       "14             Progressive bulbar palsy  2018-07-16          Nish   \n",
       "15  Spinal muscular atrophy unspecified  2018-07-16          Nish   \n",
       "\n",
       "   deactive_date deactive_reason                  source  \n",
       "0           None            None  RWD_DB.RWD.ICD_GROUPER  \n",
       "1           None            None  RWD_DB.RWD.ICD_GROUPER  \n",
       "2           None            None  RWD_DB.RWD.ICD_GROUPER  \n",
       "3           None            None  RWD_DB.RWD.ICD_GROUPER  \n",
       "4           None            None  RWD_DB.RWD.ICD_GROUPER  \n",
       "5           None            None  RWD_DB.RWD.ICD_GROUPER  \n",
       "6           None            None  RWD_DB.RWD.ICD_GROUPER  \n",
       "7           None            None  RWD_DB.RWD.ICD_GROUPER  \n",
       "8           None            None  RWD_DB.RWD.ICD_GROUPER  \n",
       "9           None            None  RWD_DB.RWD.ICD_GROUPER  \n",
       "10          None            None  RWD_DB.RWD.ICD_GROUPER  \n",
       "11          None            None  RWD_DB.RWD.ICD_GROUPER  \n",
       "12          None            None  RWD_DB.RWD.ICD_GROUPER  \n",
       "13          None            None  RWD_DB.RWD.ICD_GROUPER  \n",
       "14          None            None  RWD_DB.RWD.ICD_GROUPER  \n",
       "15          None            None  RWD_DB.RWD.ICD_GROUPER  "
      ]
     },
     "execution_count": 5,
     "metadata": {},
     "output_type": "execute_result"
    }
   ],
   "source": [
    "%%read_sql\n",
    "\n",
    "select *\n",
    "from nk_mnd_ref\n",
    "where deactive_date is null"
   ]
  },
  {
   "cell_type": "markdown",
   "metadata": {},
   "source": [
    "# Analysis plan"
   ]
  },
  {
   "cell_type": "markdown",
   "metadata": {},
   "source": [
    "<img src=\"in/cohort.png\", width=700>"
   ]
  },
  {
   "cell_type": "markdown",
   "metadata": {},
   "source": [
    "# Cohort in obs. window\n",
    "\n",
    "<img src=\"in/cohort.png\", width=700>"
   ]
  },
  {
   "cell_type": "code",
   "execution_count": 6,
   "metadata": {},
   "outputs": [
    {
     "name": "stdout",
     "output_type": "stream",
     "text": [
      "Query started at 05:24:35 PM GMT Daylight Time; Query executed in 10.08 m"
     ]
    },
    {
     "data": {
      "text/html": [
       "<div>\n",
       "<style scoped>\n",
       "    .dataframe tbody tr th:only-of-type {\n",
       "        vertical-align: middle;\n",
       "    }\n",
       "\n",
       "    .dataframe tbody tr th {\n",
       "        vertical-align: top;\n",
       "    }\n",
       "\n",
       "    .dataframe thead th {\n",
       "        text-align: right;\n",
       "    }\n",
       "</style>\n",
       "<table border=\"1\" class=\"dataframe\">\n",
       "  <thead>\n",
       "    <tr style=\"text-align: right;\">\n",
       "      <th></th>\n",
       "      <th>status</th>\n",
       "    </tr>\n",
       "  </thead>\n",
       "  <tbody>\n",
       "    <tr>\n",
       "      <th>0</th>\n",
       "      <td>Table NK_MND_OBS_COHORT successfully created.</td>\n",
       "    </tr>\n",
       "  </tbody>\n",
       "</table>\n",
       "</div>"
      ],
      "text/plain": [
       "                                          status\n",
       "0  Table NK_MND_OBS_COHORT successfully created."
      ]
     },
     "execution_count": 6,
     "metadata": {},
     "output_type": "execute_result"
    }
   ],
   "source": [
    "%%read_sql\n",
    "\n",
    "create or replace table nk_mnd_obs_cohort as\n",
    "\n",
    "select\n",
    "    left(encrypted_key_1, 8)||left(encrypted_key_2, 8) as patient_id,\n",
    "    claim_number,\n",
    "    diagnosis,\n",
    "    diagnosis_sequence,\n",
    "    year_of_service\n",
    "from\n",
    "    RWD_DB.RWD.RAVEN_CLAIMS_SUBMITS_DIAGNOSIS\n",
    "where\n",
    "    diagnosis in (select distinct value from nk_mnd_ref where cat2 = 'ftd' and deactive_date is null)\n",
    "    and year_of_service between '2015-07-01' and '2017-06-30'"
   ]
  },
  {
   "cell_type": "code",
   "execution_count": 7,
   "metadata": {},
   "outputs": [
    {
     "data": {
      "text/html": [
       "<div>\n",
       "<style scoped>\n",
       "    .dataframe tbody tr th:only-of-type {\n",
       "        vertical-align: middle;\n",
       "    }\n",
       "\n",
       "    .dataframe tbody tr th {\n",
       "        vertical-align: top;\n",
       "    }\n",
       "\n",
       "    .dataframe thead th {\n",
       "        text-align: right;\n",
       "    }\n",
       "</style>\n",
       "<table border=\"1\" class=\"dataframe\">\n",
       "  <thead>\n",
       "    <tr style=\"text-align: right;\">\n",
       "      <th></th>\n",
       "      <th>COUNT(DISTINCT PATIENT_ID)</th>\n",
       "    </tr>\n",
       "  </thead>\n",
       "  <tbody>\n",
       "    <tr>\n",
       "      <th>0</th>\n",
       "      <td>36262</td>\n",
       "    </tr>\n",
       "  </tbody>\n",
       "</table>\n",
       "</div>"
      ],
      "text/plain": [
       "   COUNT(DISTINCT PATIENT_ID)\n",
       "0                       36262"
      ]
     },
     "execution_count": 7,
     "metadata": {},
     "output_type": "execute_result"
    }
   ],
   "source": [
    "snow.select(\"select count(distinct patient_id) from nk_mnd_obs_cohort where left(patient_id, 5) != 'XXX -'\")"
   ]
  },
  {
   "cell_type": "markdown",
   "metadata": {},
   "source": [
    "## Index date"
   ]
  },
  {
   "cell_type": "code",
   "execution_count": 8,
   "metadata": {},
   "outputs": [
    {
     "name": "stdout",
     "output_type": "stream",
     "text": [
      "Query started at 05:34:41 PM GMT Daylight Time; Query executed in 0.06 m"
     ]
    },
    {
     "data": {
      "text/html": [
       "<div>\n",
       "<style scoped>\n",
       "    .dataframe tbody tr th:only-of-type {\n",
       "        vertical-align: middle;\n",
       "    }\n",
       "\n",
       "    .dataframe tbody tr th {\n",
       "        vertical-align: top;\n",
       "    }\n",
       "\n",
       "    .dataframe thead th {\n",
       "        text-align: right;\n",
       "    }\n",
       "</style>\n",
       "<table border=\"1\" class=\"dataframe\">\n",
       "  <thead>\n",
       "    <tr style=\"text-align: right;\">\n",
       "      <th></th>\n",
       "      <th>status</th>\n",
       "    </tr>\n",
       "  </thead>\n",
       "  <tbody>\n",
       "    <tr>\n",
       "      <th>0</th>\n",
       "      <td>Table NK_MND_INDEX successfully created.</td>\n",
       "    </tr>\n",
       "  </tbody>\n",
       "</table>\n",
       "</div>"
      ],
      "text/plain": [
       "                                     status\n",
       "0  Table NK_MND_INDEX successfully created."
      ]
     },
     "execution_count": 8,
     "metadata": {},
     "output_type": "execute_result"
    }
   ],
   "source": [
    "%%read_sql\n",
    "\n",
    "create or replace table nk_mnd_index as\n",
    "\n",
    "select\n",
    "    patient_id,\n",
    "    min(year_of_service) as index_date\n",
    "from\n",
    "    nk_mnd_obs_cohort\n",
    "where\n",
    "    left(patient_id, 5) != 'XXX -'\n",
    "group by 1"
   ]
  },
  {
   "cell_type": "code",
   "execution_count": 9,
   "metadata": {},
   "outputs": [
    {
     "data": {
      "text/html": [
       "<div>\n",
       "<style scoped>\n",
       "    .dataframe tbody tr th:only-of-type {\n",
       "        vertical-align: middle;\n",
       "    }\n",
       "\n",
       "    .dataframe tbody tr th {\n",
       "        vertical-align: top;\n",
       "    }\n",
       "\n",
       "    .dataframe thead th {\n",
       "        text-align: right;\n",
       "    }\n",
       "</style>\n",
       "<table border=\"1\" class=\"dataframe\">\n",
       "  <thead>\n",
       "    <tr style=\"text-align: right;\">\n",
       "      <th></th>\n",
       "      <th>patient_id</th>\n",
       "      <th>index_date</th>\n",
       "    </tr>\n",
       "  </thead>\n",
       "  <tbody>\n",
       "    <tr>\n",
       "      <th>0</th>\n",
       "      <td>lDDQBoRr4MRLoqpU</td>\n",
       "      <td>2017-06-30</td>\n",
       "    </tr>\n",
       "    <tr>\n",
       "      <th>1</th>\n",
       "      <td>1aQrFEq2gy5GBI+V</td>\n",
       "      <td>2017-06-30</td>\n",
       "    </tr>\n",
       "    <tr>\n",
       "      <th>2</th>\n",
       "      <td>d1yFZGiaC2P5i29J</td>\n",
       "      <td>2017-06-30</td>\n",
       "    </tr>\n",
       "    <tr>\n",
       "      <th>3</th>\n",
       "      <td>g2ndO4guv59oxZG+</td>\n",
       "      <td>2017-06-30</td>\n",
       "    </tr>\n",
       "    <tr>\n",
       "      <th>4</th>\n",
       "      <td>rAJjpT6Pe/SWD+jr</td>\n",
       "      <td>2017-06-30</td>\n",
       "    </tr>\n",
       "  </tbody>\n",
       "</table>\n",
       "</div>"
      ],
      "text/plain": [
       "         patient_id  index_date\n",
       "0  lDDQBoRr4MRLoqpU  2017-06-30\n",
       "1  1aQrFEq2gy5GBI+V  2017-06-30\n",
       "2  d1yFZGiaC2P5i29J  2017-06-30\n",
       "3  g2ndO4guv59oxZG+  2017-06-30\n",
       "4  rAJjpT6Pe/SWD+jr  2017-06-30"
      ]
     },
     "execution_count": 9,
     "metadata": {},
     "output_type": "execute_result"
    }
   ],
   "source": [
    "snow.select(\"select * from nk_mnd_index order by index_date desc limit 5\")"
   ]
  },
  {
   "cell_type": "code",
   "execution_count": 10,
   "metadata": {},
   "outputs": [
    {
     "data": {
      "text/html": [
       "<div>\n",
       "<style scoped>\n",
       "    .dataframe tbody tr th:only-of-type {\n",
       "        vertical-align: middle;\n",
       "    }\n",
       "\n",
       "    .dataframe tbody tr th {\n",
       "        vertical-align: top;\n",
       "    }\n",
       "\n",
       "    .dataframe thead th {\n",
       "        text-align: right;\n",
       "    }\n",
       "</style>\n",
       "<table border=\"1\" class=\"dataframe\">\n",
       "  <thead>\n",
       "    <tr style=\"text-align: right;\">\n",
       "      <th></th>\n",
       "      <th>COUNT(PATIENT_ID)</th>\n",
       "    </tr>\n",
       "  </thead>\n",
       "  <tbody>\n",
       "    <tr>\n",
       "      <th>0</th>\n",
       "      <td>0</td>\n",
       "    </tr>\n",
       "  </tbody>\n",
       "</table>\n",
       "</div>"
      ],
      "text/plain": [
       "   COUNT(PATIENT_ID)\n",
       "0                  0"
      ]
     },
     "execution_count": 10,
     "metadata": {},
     "output_type": "execute_result"
    }
   ],
   "source": [
    "snow.select(\"select count(patient_id) from nk_mnd_index where left(patient_id, 5) = 'XXX -'\")"
   ]
  },
  {
   "cell_type": "markdown",
   "metadata": {},
   "source": [
    "# Continuous coverage"
   ]
  },
  {
   "cell_type": "markdown",
   "metadata": {},
   "source": [
    "## Cont. cov from medical claims\n",
    "<img src=\"in/cohort.png\", width=700>"
   ]
  },
  {
   "cell_type": "markdown",
   "metadata": {},
   "source": [
    "### Extract submits header"
   ]
  },
  {
   "cell_type": "code",
   "execution_count": 11,
   "metadata": {},
   "outputs": [
    {
     "name": "stdout",
     "output_type": "stream",
     "text": [
      "Query started at 05:34:47 PM GMT Daylight Time; Query executed in 5.89 m"
     ]
    },
    {
     "data": {
      "text/html": [
       "<div>\n",
       "<style scoped>\n",
       "    .dataframe tbody tr th:only-of-type {\n",
       "        vertical-align: middle;\n",
       "    }\n",
       "\n",
       "    .dataframe tbody tr th {\n",
       "        vertical-align: top;\n",
       "    }\n",
       "\n",
       "    .dataframe thead th {\n",
       "        text-align: right;\n",
       "    }\n",
       "</style>\n",
       "<table border=\"1\" class=\"dataframe\">\n",
       "  <thead>\n",
       "    <tr style=\"text-align: right;\">\n",
       "      <th></th>\n",
       "      <th>status</th>\n",
       "    </tr>\n",
       "  </thead>\n",
       "  <tbody>\n",
       "    <tr>\n",
       "      <th>0</th>\n",
       "      <td>Table NK_MND_CONT_MED successfully created.</td>\n",
       "    </tr>\n",
       "  </tbody>\n",
       "</table>\n",
       "</div>"
      ],
      "text/plain": [
       "                                        status\n",
       "0  Table NK_MND_CONT_MED successfully created."
      ]
     },
     "execution_count": 11,
     "metadata": {},
     "output_type": "execute_result"
    }
   ],
   "source": [
    "%%read_sql\n",
    "\n",
    "create or replace table nk_mnd_cont_med as\n",
    "\n",
    "select\n",
    "    left(encrypted_key_1, 8)||left(encrypted_key_2, 8) as patient_id,\n",
    "    claim_number,\n",
    "    claim_type_code,\n",
    "    year_of_service\n",
    "from\n",
    "    RWD_DB.RWD.RAVEN_CLAIMS_SUBMITS_HEADER\n",
    "where\n",
    "    left(encrypted_key_1, 8)||left(encrypted_key_2, 8) in (select patient_id from nk_mnd_index)\n",
    "    and year_of_service between '2014-07-01' and '2018-06-30'"
   ]
  },
  {
   "cell_type": "markdown",
   "metadata": {},
   "source": [
    "### Check for duplicates"
   ]
  },
  {
   "cell_type": "code",
   "execution_count": 12,
   "metadata": {},
   "outputs": [
    {
     "name": "stdout",
     "output_type": "stream",
     "text": [
      "Query started at 05:40:40 PM GMT Daylight Time; Query executed in 0.04 m"
     ]
    },
    {
     "data": {
      "text/html": [
       "<div>\n",
       "<style scoped>\n",
       "    .dataframe tbody tr th:only-of-type {\n",
       "        vertical-align: middle;\n",
       "    }\n",
       "\n",
       "    .dataframe tbody tr th {\n",
       "        vertical-align: top;\n",
       "    }\n",
       "\n",
       "    .dataframe thead th {\n",
       "        text-align: right;\n",
       "    }\n",
       "</style>\n",
       "<table border=\"1\" class=\"dataframe\">\n",
       "  <thead>\n",
       "    <tr style=\"text-align: right;\">\n",
       "      <th></th>\n",
       "      <th>COUNT(*)</th>\n",
       "    </tr>\n",
       "  </thead>\n",
       "  <tbody>\n",
       "    <tr>\n",
       "      <th>0</th>\n",
       "      <td>2715107</td>\n",
       "    </tr>\n",
       "  </tbody>\n",
       "</table>\n",
       "</div>"
      ],
      "text/plain": [
       "   COUNT(*)\n",
       "0   2715107"
      ]
     },
     "execution_count": 12,
     "metadata": {},
     "output_type": "execute_result"
    }
   ],
   "source": [
    "%%read_sql\n",
    "\n",
    "select count(*) from nk_mnd_cont_med"
   ]
  },
  {
   "cell_type": "code",
   "execution_count": 13,
   "metadata": {},
   "outputs": [
    {
     "name": "stdout",
     "output_type": "stream",
     "text": [
      "Query started at 05:40:43 PM GMT Daylight Time; Query executed in 0.09 m"
     ]
    },
    {
     "data": {
      "text/html": [
       "<div>\n",
       "<style scoped>\n",
       "    .dataframe tbody tr th:only-of-type {\n",
       "        vertical-align: middle;\n",
       "    }\n",
       "\n",
       "    .dataframe tbody tr th {\n",
       "        vertical-align: top;\n",
       "    }\n",
       "\n",
       "    .dataframe thead th {\n",
       "        text-align: right;\n",
       "    }\n",
       "</style>\n",
       "<table border=\"1\" class=\"dataframe\">\n",
       "  <thead>\n",
       "    <tr style=\"text-align: right;\">\n",
       "      <th></th>\n",
       "      <th>COUNT(*)</th>\n",
       "    </tr>\n",
       "  </thead>\n",
       "  <tbody>\n",
       "    <tr>\n",
       "      <th>0</th>\n",
       "      <td>2700266</td>\n",
       "    </tr>\n",
       "  </tbody>\n",
       "</table>\n",
       "</div>"
      ],
      "text/plain": [
       "   COUNT(*)\n",
       "0   2700266"
      ]
     },
     "execution_count": 13,
     "metadata": {},
     "output_type": "execute_result"
    }
   ],
   "source": [
    "%%read_sql\n",
    "\n",
    "with t1 as (select distinct * from nk_mnd_cont_med)\n",
    "select count(*) from t1"
   ]
  },
  {
   "cell_type": "code",
   "execution_count": 14,
   "metadata": {},
   "outputs": [
    {
     "name": "stdout",
     "output_type": "stream",
     "text": [
      "Query started at 05:40:48 PM GMT Daylight Time; Query executed in 0.05 mQuery started at 05:40:51 PM GMT Daylight Time; Query executed in 0.06 mQuery started at 05:40:55 PM GMT Daylight Time; Query executed in 0.04 m"
     ]
    },
    {
     "data": {
      "text/html": [
       "<div>\n",
       "<style scoped>\n",
       "    .dataframe tbody tr th:only-of-type {\n",
       "        vertical-align: middle;\n",
       "    }\n",
       "\n",
       "    .dataframe tbody tr th {\n",
       "        vertical-align: top;\n",
       "    }\n",
       "\n",
       "    .dataframe thead th {\n",
       "        text-align: right;\n",
       "    }\n",
       "</style>\n",
       "<table border=\"1\" class=\"dataframe\">\n",
       "  <thead>\n",
       "    <tr style=\"text-align: right;\">\n",
       "      <th></th>\n",
       "      <th>status</th>\n",
       "    </tr>\n",
       "  </thead>\n",
       "  <tbody>\n",
       "    <tr>\n",
       "      <th>0</th>\n",
       "      <td>NK_MND_CONT_MED successfully dropped.</td>\n",
       "    </tr>\n",
       "  </tbody>\n",
       "</table>\n",
       "</div>"
      ],
      "text/plain": [
       "                                  status\n",
       "0  NK_MND_CONT_MED successfully dropped."
      ]
     },
     "execution_count": 14,
     "metadata": {},
     "output_type": "execute_result"
    }
   ],
   "source": [
    "%%read_sql\n",
    "\n",
    "drop table if exists nk_mnd_cont_med_unique;\n",
    "create or replace table nk_mnd_cont_med_unique as\n",
    "select distinct * from nk_mnd_cont_med;\n",
    "drop table nk_mnd_cont_med;"
   ]
  },
  {
   "cell_type": "markdown",
   "metadata": {},
   "source": [
    "### Summarise medical claims"
   ]
  },
  {
   "cell_type": "code",
   "execution_count": 15,
   "metadata": {},
   "outputs": [
    {
     "name": "stdout",
     "output_type": "stream",
     "text": [
      "Query started at 05:40:57 PM GMT Daylight Time; Query executed in 0.07 m"
     ]
    },
    {
     "data": {
      "text/html": [
       "<div>\n",
       "<style scoped>\n",
       "    .dataframe tbody tr th:only-of-type {\n",
       "        vertical-align: middle;\n",
       "    }\n",
       "\n",
       "    .dataframe tbody tr th {\n",
       "        vertical-align: top;\n",
       "    }\n",
       "\n",
       "    .dataframe thead th {\n",
       "        text-align: right;\n",
       "    }\n",
       "</style>\n",
       "<table border=\"1\" class=\"dataframe\">\n",
       "  <thead>\n",
       "    <tr style=\"text-align: right;\">\n",
       "      <th></th>\n",
       "      <th>status</th>\n",
       "    </tr>\n",
       "  </thead>\n",
       "  <tbody>\n",
       "    <tr>\n",
       "      <th>0</th>\n",
       "      <td>Table NK_MND_CONT_MED_TALLY successfully created.</td>\n",
       "    </tr>\n",
       "  </tbody>\n",
       "</table>\n",
       "</div>"
      ],
      "text/plain": [
       "                                              status\n",
       "0  Table NK_MND_CONT_MED_TALLY successfully created."
      ]
     },
     "execution_count": 15,
     "metadata": {},
     "output_type": "execute_result"
    }
   ],
   "source": [
    "%%read_sql\n",
    "\n",
    "create or replace table nk_mnd_cont_med_tally as\n",
    "\n",
    "select\n",
    "    a.patient_id,\n",
    "    sum(case\n",
    "           when datediff(d, a.index_date, b.year_of_service) between -365 and -1\n",
    "           then 1\n",
    "           else 0\n",
    "           end) as claim_tally_pre,\n",
    "    sum(case\n",
    "           when datediff(d, a.index_date, b.year_of_service) between 0 and 365\n",
    "           then 1\n",
    "           else 0\n",
    "           end) as claim_tally_post\n",
    "from\n",
    "    nk_mnd_index a\n",
    "        join nk_mnd_cont_med_unique b\n",
    "            on a.patient_id = b.patient_id\n",
    "group by 1"
   ]
  },
  {
   "cell_type": "markdown",
   "metadata": {},
   "source": [
    "### Final counts"
   ]
  },
  {
   "cell_type": "code",
   "execution_count": 16,
   "metadata": {},
   "outputs": [
    {
     "data": {
      "text/html": [
       "<div>\n",
       "<style scoped>\n",
       "    .dataframe tbody tr th:only-of-type {\n",
       "        vertical-align: middle;\n",
       "    }\n",
       "\n",
       "    .dataframe tbody tr th {\n",
       "        vertical-align: top;\n",
       "    }\n",
       "\n",
       "    .dataframe thead th {\n",
       "        text-align: right;\n",
       "    }\n",
       "</style>\n",
       "<table border=\"1\" class=\"dataframe\">\n",
       "  <thead>\n",
       "    <tr style=\"text-align: right;\">\n",
       "      <th></th>\n",
       "      <th></th>\n",
       "      <th>COUNT(DISTINCT PATIENT_ID)</th>\n",
       "    </tr>\n",
       "  </thead>\n",
       "  <tbody>\n",
       "    <tr>\n",
       "      <th>pts_obs_window</th>\n",
       "      <th>0</th>\n",
       "      <td>36262</td>\n",
       "    </tr>\n",
       "    <tr>\n",
       "      <th>1_claim_pre_and_post</th>\n",
       "      <th>0</th>\n",
       "      <td>33110</td>\n",
       "    </tr>\n",
       "    <tr>\n",
       "      <th>2_claims_pre_and_post</th>\n",
       "      <th>0</th>\n",
       "      <td>30707</td>\n",
       "    </tr>\n",
       "    <tr>\n",
       "      <th>3_claims_pre_and_post</th>\n",
       "      <th>0</th>\n",
       "      <td>28269</td>\n",
       "    </tr>\n",
       "    <tr>\n",
       "      <th>4_claims_pre_and_post</th>\n",
       "      <th>0</th>\n",
       "      <td>26055</td>\n",
       "    </tr>\n",
       "    <tr>\n",
       "      <th>5_claims_pre_and_post</th>\n",
       "      <th>0</th>\n",
       "      <td>24080</td>\n",
       "    </tr>\n",
       "  </tbody>\n",
       "</table>\n",
       "</div>"
      ],
      "text/plain": [
       "                         COUNT(DISTINCT PATIENT_ID)\n",
       "pts_obs_window        0                       36262\n",
       "1_claim_pre_and_post  0                       33110\n",
       "2_claims_pre_and_post 0                       30707\n",
       "3_claims_pre_and_post 0                       28269\n",
       "4_claims_pre_and_post 0                       26055\n",
       "5_claims_pre_and_post 0                       24080"
      ]
     },
     "execution_count": 16,
     "metadata": {},
     "output_type": "execute_result"
    }
   ],
   "source": [
    "a = snow.select(\"select count(distinct patient_id) from nk_mnd_cont_med_tally\")\n",
    "b = snow.select(\"select count(distinct patient_id) from nk_mnd_cont_med_tally where claim_tally_pre > 0 and claim_tally_post > 0\")\n",
    "c = snow.select(\"select count(distinct patient_id) from nk_mnd_cont_med_tally where claim_tally_pre > 1 and claim_tally_post > 1\")\n",
    "d = snow.select(\"select count(distinct patient_id) from nk_mnd_cont_med_tally where claim_tally_pre > 2 and claim_tally_post > 2\")\n",
    "e = snow.select(\"select count(distinct patient_id) from nk_mnd_cont_med_tally where claim_tally_pre > 3 and claim_tally_post > 3\")\n",
    "f = snow.select(\"select count(distinct patient_id) from nk_mnd_cont_med_tally where claim_tally_pre > 4 and claim_tally_post > 4\")\n",
    "\n",
    "lst = ['pts_obs_window',\n",
    "       '1_claim_pre_and_post',\n",
    "       '2_claims_pre_and_post',\n",
    "       '3_claims_pre_and_post',\n",
    "       '4_claims_pre_and_post',\n",
    "       '5_claims_pre_and_post',]\n",
    "\n",
    "pd.concat([a,b,c,d,e,f], keys=lst)"
   ]
  },
  {
   "cell_type": "markdown",
   "metadata": {},
   "source": [
    "## Final cohort"
   ]
  },
  {
   "cell_type": "code",
   "execution_count": 17,
   "metadata": {},
   "outputs": [
    {
     "name": "stdout",
     "output_type": "stream",
     "text": [
      "Query started at 05:41:13 PM GMT Daylight Time; Query executed in 0.08 m"
     ]
    },
    {
     "data": {
      "text/html": [
       "<div>\n",
       "<style scoped>\n",
       "    .dataframe tbody tr th:only-of-type {\n",
       "        vertical-align: middle;\n",
       "    }\n",
       "\n",
       "    .dataframe tbody tr th {\n",
       "        vertical-align: top;\n",
       "    }\n",
       "\n",
       "    .dataframe thead th {\n",
       "        text-align: right;\n",
       "    }\n",
       "</style>\n",
       "<table border=\"1\" class=\"dataframe\">\n",
       "  <thead>\n",
       "    <tr style=\"text-align: right;\">\n",
       "      <th></th>\n",
       "      <th>status</th>\n",
       "    </tr>\n",
       "  </thead>\n",
       "  <tbody>\n",
       "    <tr>\n",
       "      <th>0</th>\n",
       "      <td>Table NK_MND_COHORT successfully created.</td>\n",
       "    </tr>\n",
       "  </tbody>\n",
       "</table>\n",
       "</div>"
      ],
      "text/plain": [
       "                                      status\n",
       "0  Table NK_MND_COHORT successfully created."
      ]
     },
     "execution_count": 17,
     "metadata": {},
     "output_type": "execute_result"
    }
   ],
   "source": [
    "%%read_sql\n",
    "\n",
    "create or replace table nk_mnd_cohort as\n",
    "\n",
    "select\n",
    "    patient_id,\n",
    "    index_date\n",
    "from \n",
    "    nk_mnd_index\n",
    "where\n",
    "    patient_id in (select patient_id \n",
    "                   from nk_mnd_cont_med_tally \n",
    "                   where claim_tally_pre > 1\n",
    "                   and claim_tally_post > 1)"
   ]
  },
  {
   "cell_type": "code",
   "execution_count": 18,
   "metadata": {},
   "outputs": [
    {
     "data": {
      "text/html": [
       "<div>\n",
       "<style scoped>\n",
       "    .dataframe tbody tr th:only-of-type {\n",
       "        vertical-align: middle;\n",
       "    }\n",
       "\n",
       "    .dataframe tbody tr th {\n",
       "        vertical-align: top;\n",
       "    }\n",
       "\n",
       "    .dataframe thead th {\n",
       "        text-align: right;\n",
       "    }\n",
       "</style>\n",
       "<table border=\"1\" class=\"dataframe\">\n",
       "  <thead>\n",
       "    <tr style=\"text-align: right;\">\n",
       "      <th></th>\n",
       "      <th>COUNT(DISTINCT PATIENT_ID)</th>\n",
       "    </tr>\n",
       "  </thead>\n",
       "  <tbody>\n",
       "    <tr>\n",
       "      <th>0</th>\n",
       "      <td>30707</td>\n",
       "    </tr>\n",
       "  </tbody>\n",
       "</table>\n",
       "</div>"
      ],
      "text/plain": [
       "   COUNT(DISTINCT PATIENT_ID)\n",
       "0                       30707"
      ]
     },
     "execution_count": 18,
     "metadata": {},
     "output_type": "execute_result"
    }
   ],
   "source": [
    "snow.select(\"select count(distinct patient_id) from nk_mnd_cohort\")"
   ]
  },
  {
   "cell_type": "markdown",
   "metadata": {},
   "source": [
    "# Raw data extracts"
   ]
  },
  {
   "cell_type": "markdown",
   "metadata": {},
   "source": [
    "Pull all diagnoses data for the cohort of patients from July 1st 2014, to June 31st 2018\n",
    "<img src=\"in/cohort.png\", width=700>"
   ]
  },
  {
   "cell_type": "markdown",
   "metadata": {},
   "source": [
    "## Claim header"
   ]
  },
  {
   "cell_type": "code",
   "execution_count": 19,
   "metadata": {},
   "outputs": [
    {
     "name": "stdout",
     "output_type": "stream",
     "text": [
      "Query started at 05:41:21 PM GMT Daylight Time; Query executed in 3.09 m"
     ]
    },
    {
     "data": {
      "text/html": [
       "<div>\n",
       "<style scoped>\n",
       "    .dataframe tbody tr th:only-of-type {\n",
       "        vertical-align: middle;\n",
       "    }\n",
       "\n",
       "    .dataframe tbody tr th {\n",
       "        vertical-align: top;\n",
       "    }\n",
       "\n",
       "    .dataframe thead th {\n",
       "        text-align: right;\n",
       "    }\n",
       "</style>\n",
       "<table border=\"1\" class=\"dataframe\">\n",
       "  <thead>\n",
       "    <tr style=\"text-align: right;\">\n",
       "      <th></th>\n",
       "      <th>status</th>\n",
       "    </tr>\n",
       "  </thead>\n",
       "  <tbody>\n",
       "    <tr>\n",
       "      <th>0</th>\n",
       "      <td>Table NK_MND_HEADER_ALL successfully created.</td>\n",
       "    </tr>\n",
       "  </tbody>\n",
       "</table>\n",
       "</div>"
      ],
      "text/plain": [
       "                                          status\n",
       "0  Table NK_MND_HEADER_ALL successfully created."
      ]
     },
     "execution_count": 19,
     "metadata": {},
     "output_type": "execute_result"
    }
   ],
   "source": [
    "%%read_sql\n",
    "\n",
    "create or replace table nk_mnd_header_all as \n",
    "\n",
    "select\n",
    "     'XXXXXXXXXXXXXXXX' as patient_id,\n",
    "     claim_number,\n",
    "     received_date,\n",
    "     claim_type_code,\n",
    "     statement_from,\n",
    "     statement_to,\n",
    "     min_service_from,\n",
    "     max_service_to,\n",
    "     total_charge,\n",
    "     total_allowed,\n",
    "     drg_code,\n",
    "     type_bill,\n",
    "     admission_date,\n",
    "     admit_type_code,\n",
    "     admit_src_code,\n",
    "     discharge_hour,\n",
    "     discharge_status,\n",
    "     new_medicare_source,\n",
    "     year_of_service\n",
    "from\n",
    "    RWD_DB.RWD.RAVEN_CLAIMS_SUBMITS_HEADER\n",
    "where\n",
    "     claim_number in (select distinct claim_number \n",
    "                      from nk_mnd_cont_med_unique\n",
    "                      where patient_id in (select patient_id\n",
    "                                           from nk_mnd_cohort))"
   ]
  },
  {
   "cell_type": "code",
   "execution_count": 20,
   "metadata": {},
   "outputs": [
    {
     "name": "stdout",
     "output_type": "stream",
     "text": [
      "Query started at 05:44:27 PM GMT Daylight Time; Query executed in 0.03 mQuery started at 05:44:29 PM GMT Daylight Time; Query executed in 0.13 mQuery started at 05:44:37 PM GMT Daylight Time; Query executed in 0.04 m"
     ]
    },
    {
     "data": {
      "text/html": [
       "<div>\n",
       "<style scoped>\n",
       "    .dataframe tbody tr th:only-of-type {\n",
       "        vertical-align: middle;\n",
       "    }\n",
       "\n",
       "    .dataframe tbody tr th {\n",
       "        vertical-align: top;\n",
       "    }\n",
       "\n",
       "    .dataframe thead th {\n",
       "        text-align: right;\n",
       "    }\n",
       "</style>\n",
       "<table border=\"1\" class=\"dataframe\">\n",
       "  <thead>\n",
       "    <tr style=\"text-align: right;\">\n",
       "      <th></th>\n",
       "      <th>status</th>\n",
       "    </tr>\n",
       "  </thead>\n",
       "  <tbody>\n",
       "    <tr>\n",
       "      <th>0</th>\n",
       "      <td>Statement executed successfully.</td>\n",
       "    </tr>\n",
       "  </tbody>\n",
       "</table>\n",
       "</div>"
      ],
      "text/plain": [
       "                             status\n",
       "0  Statement executed successfully."
      ]
     },
     "execution_count": 20,
     "metadata": {},
     "output_type": "execute_result"
    }
   ],
   "source": [
    "%%read_sql\n",
    "\n",
    " begin;\n",
    " update nk_mnd_header_all a\n",
    "    set a.patient_id = b.patient_id\n",
    "   from nk_mnd_cont_med_unique b\n",
    "  where a.claim_number = b.claim_number;\n",
    "commit;"
   ]
  },
  {
   "cell_type": "code",
   "execution_count": 21,
   "metadata": {},
   "outputs": [
    {
     "name": "stdout",
     "output_type": "stream",
     "text": [
      "Query started at 05:44:39 PM GMT Daylight Time; Query executed in 0.04 m"
     ]
    },
    {
     "data": {
      "text/html": [
       "<div>\n",
       "<style scoped>\n",
       "    .dataframe tbody tr th:only-of-type {\n",
       "        vertical-align: middle;\n",
       "    }\n",
       "\n",
       "    .dataframe tbody tr th {\n",
       "        vertical-align: top;\n",
       "    }\n",
       "\n",
       "    .dataframe thead th {\n",
       "        text-align: right;\n",
       "    }\n",
       "</style>\n",
       "<table border=\"1\" class=\"dataframe\">\n",
       "  <thead>\n",
       "    <tr style=\"text-align: right;\">\n",
       "      <th></th>\n",
       "      <th>COUNT(PATIENT_ID)</th>\n",
       "      <th>COUNT(DISTINCT PATIENT_ID)</th>\n",
       "      <th>null_pt_id</th>\n",
       "      <th>faulty_pt_id</th>\n",
       "    </tr>\n",
       "  </thead>\n",
       "  <tbody>\n",
       "    <tr>\n",
       "      <th>0</th>\n",
       "      <td>2604522</td>\n",
       "      <td>30707</td>\n",
       "      <td>0</td>\n",
       "      <td>0</td>\n",
       "    </tr>\n",
       "  </tbody>\n",
       "</table>\n",
       "</div>"
      ],
      "text/plain": [
       "   COUNT(PATIENT_ID)  COUNT(DISTINCT PATIENT_ID)  null_pt_id  faulty_pt_id\n",
       "0            2604522                       30707           0             0"
      ]
     },
     "execution_count": 21,
     "metadata": {},
     "output_type": "execute_result"
    }
   ],
   "source": [
    "%%read_sql\n",
    "\n",
    "select\n",
    "    count(patient_id),\n",
    "    count(distinct patient_id),\n",
    "    sum(case\n",
    "           when patient_id = 'XXXXXXXXXXXXXXXX'\n",
    "           then 1\n",
    "           else 0\n",
    "           end) as null_pt_id,\n",
    "    sum(case\n",
    "           when left(patient_id, 5) = 'XXX -'\n",
    "           then 1\n",
    "           else 0\n",
    "           end) as faulty_pt_id\n",
    "from nk_mnd_header_all"
   ]
  },
  {
   "cell_type": "markdown",
   "metadata": {},
   "source": [
    "## Diagnoses"
   ]
  },
  {
   "cell_type": "code",
   "execution_count": 22,
   "metadata": {},
   "outputs": [
    {
     "name": "stdout",
     "output_type": "stream",
     "text": [
      "Query started at 05:44:41 PM GMT Daylight Time; Query executed in 4.80 m"
     ]
    },
    {
     "data": {
      "text/html": [
       "<div>\n",
       "<style scoped>\n",
       "    .dataframe tbody tr th:only-of-type {\n",
       "        vertical-align: middle;\n",
       "    }\n",
       "\n",
       "    .dataframe tbody tr th {\n",
       "        vertical-align: top;\n",
       "    }\n",
       "\n",
       "    .dataframe thead th {\n",
       "        text-align: right;\n",
       "    }\n",
       "</style>\n",
       "<table border=\"1\" class=\"dataframe\">\n",
       "  <thead>\n",
       "    <tr style=\"text-align: right;\">\n",
       "      <th></th>\n",
       "      <th>status</th>\n",
       "    </tr>\n",
       "  </thead>\n",
       "  <tbody>\n",
       "    <tr>\n",
       "      <th>0</th>\n",
       "      <td>Table NK_MND_DX_ALL successfully created.</td>\n",
       "    </tr>\n",
       "  </tbody>\n",
       "</table>\n",
       "</div>"
      ],
      "text/plain": [
       "                                      status\n",
       "0  Table NK_MND_DX_ALL successfully created."
      ]
     },
     "execution_count": 22,
     "metadata": {},
     "output_type": "execute_result"
    }
   ],
   "source": [
    "%%read_sql\n",
    "\n",
    "create or replace table nk_mnd_dx_all as\n",
    "\n",
    "select\n",
    "    'XXXXXXXXXXXXXXXX' as patient_id,\n",
    "    claim_number,\n",
    "    diagnosis,\n",
    "    diagnosis_sequence,\n",
    "    statement_from,\n",
    "    statement_to,\n",
    "    min_service_from,\n",
    "    max_service_to,\n",
    "    received_date,\n",
    "    year_of_service\n",
    "from\n",
    "    RWD_DB.RWD.RAVEN_CLAIMS_SUBMITS_DIAGNOSIS\n",
    "where\n",
    "    claim_number in (select distinct claim_number\n",
    "                     from nk_mnd_header_all)"
   ]
  },
  {
   "cell_type": "code",
   "execution_count": 23,
   "metadata": {},
   "outputs": [
    {
     "name": "stdout",
     "output_type": "stream",
     "text": [
      "Query started at 05:49:30 PM GMT Daylight Time; Query executed in 0.03 mQuery started at 05:49:31 PM GMT Daylight Time; Query executed in 0.15 m"
     ]
    },
    {
     "data": {
      "text/html": [
       "<div>\n",
       "<style scoped>\n",
       "    .dataframe tbody tr th:only-of-type {\n",
       "        vertical-align: middle;\n",
       "    }\n",
       "\n",
       "    .dataframe tbody tr th {\n",
       "        vertical-align: top;\n",
       "    }\n",
       "\n",
       "    .dataframe thead th {\n",
       "        text-align: right;\n",
       "    }\n",
       "</style>\n",
       "<table border=\"1\" class=\"dataframe\">\n",
       "  <thead>\n",
       "    <tr style=\"text-align: right;\">\n",
       "      <th></th>\n",
       "      <th>number of rows updated</th>\n",
       "      <th>number of multi-joined rows updated</th>\n",
       "    </tr>\n",
       "  </thead>\n",
       "  <tbody>\n",
       "    <tr>\n",
       "      <th>0</th>\n",
       "      <td>10004385</td>\n",
       "      <td>127905</td>\n",
       "    </tr>\n",
       "  </tbody>\n",
       "</table>\n",
       "</div>"
      ],
      "text/plain": [
       "   number of rows updated  number of multi-joined rows updated\n",
       "0                10004385                               127905"
      ]
     },
     "execution_count": 23,
     "metadata": {},
     "output_type": "execute_result"
    }
   ],
   "source": [
    "%%read_sql\n",
    "\n",
    "begin;\n",
    "update nk_mnd_dx_all a\n",
    "set a.patient_id = b.patient_id\n",
    "from nk_mnd_header_all b\n",
    "where a.claim_number = b.claim_number"
   ]
  },
  {
   "cell_type": "code",
   "execution_count": 24,
   "metadata": {},
   "outputs": [
    {
     "name": "stdout",
     "output_type": "stream",
     "text": [
      "Query started at 05:49:40 PM GMT Daylight Time; Query executed in 0.04 m"
     ]
    },
    {
     "data": {
      "text/html": [
       "<div>\n",
       "<style scoped>\n",
       "    .dataframe tbody tr th:only-of-type {\n",
       "        vertical-align: middle;\n",
       "    }\n",
       "\n",
       "    .dataframe tbody tr th {\n",
       "        vertical-align: top;\n",
       "    }\n",
       "\n",
       "    .dataframe thead th {\n",
       "        text-align: right;\n",
       "    }\n",
       "</style>\n",
       "<table border=\"1\" class=\"dataframe\">\n",
       "  <thead>\n",
       "    <tr style=\"text-align: right;\">\n",
       "      <th></th>\n",
       "      <th>COUNT(PATIENT_ID)</th>\n",
       "      <th>COUNT(DISTINCT PATIENT_ID)</th>\n",
       "      <th>null_pt_id</th>\n",
       "      <th>faulty_pt_id</th>\n",
       "    </tr>\n",
       "  </thead>\n",
       "  <tbody>\n",
       "    <tr>\n",
       "      <th>0</th>\n",
       "      <td>10004385</td>\n",
       "      <td>30707</td>\n",
       "      <td>0</td>\n",
       "      <td>0</td>\n",
       "    </tr>\n",
       "  </tbody>\n",
       "</table>\n",
       "</div>"
      ],
      "text/plain": [
       "   COUNT(PATIENT_ID)  COUNT(DISTINCT PATIENT_ID)  null_pt_id  faulty_pt_id\n",
       "0           10004385                       30707           0             0"
      ]
     },
     "execution_count": 24,
     "metadata": {},
     "output_type": "execute_result"
    }
   ],
   "source": [
    "%%read_sql\n",
    "\n",
    "select\n",
    "    count(patient_id),\n",
    "    count(distinct patient_id),\n",
    "    sum(case\n",
    "           when patient_id = 'XXXXXXXXXXXXXXXX'\n",
    "           then 1\n",
    "           else 0\n",
    "           end) as null_pt_id,\n",
    "    sum(case\n",
    "           when left(patient_id, 5) = 'XXX -'\n",
    "           then 1\n",
    "           else 0\n",
    "           end) as faulty_pt_id\n",
    "    \n",
    "from nk_mnd_dx_all"
   ]
  },
  {
   "cell_type": "markdown",
   "metadata": {},
   "source": [
    "## Patient raw"
   ]
  },
  {
   "cell_type": "code",
   "execution_count": 25,
   "metadata": {},
   "outputs": [
    {
     "name": "stdout",
     "output_type": "stream",
     "text": [
      "Query started at 05:49:43 PM GMT Daylight Time; Query executed in 3.44 m"
     ]
    },
    {
     "data": {
      "text/html": [
       "<div>\n",
       "<style scoped>\n",
       "    .dataframe tbody tr th:only-of-type {\n",
       "        vertical-align: middle;\n",
       "    }\n",
       "\n",
       "    .dataframe tbody tr th {\n",
       "        vertical-align: top;\n",
       "    }\n",
       "\n",
       "    .dataframe thead th {\n",
       "        text-align: right;\n",
       "    }\n",
       "</style>\n",
       "<table border=\"1\" class=\"dataframe\">\n",
       "  <thead>\n",
       "    <tr style=\"text-align: right;\">\n",
       "      <th></th>\n",
       "      <th>status</th>\n",
       "    </tr>\n",
       "  </thead>\n",
       "  <tbody>\n",
       "    <tr>\n",
       "      <th>0</th>\n",
       "      <td>Table NK_MND_PAT_ALL successfully created.</td>\n",
       "    </tr>\n",
       "  </tbody>\n",
       "</table>\n",
       "</div>"
      ],
      "text/plain": [
       "                                       status\n",
       "0  Table NK_MND_PAT_ALL successfully created."
      ]
     },
     "execution_count": 25,
     "metadata": {},
     "output_type": "execute_result"
    }
   ],
   "source": [
    "%%read_sql\n",
    "\n",
    "create or replace table nk_mnd_pat_all as\n",
    "\n",
    "select\n",
    "    'XXXXXXXXXXXXXXXX' as patient_id,\n",
    "    claim_number,\n",
    "    patient_gender,\n",
    "    patient_dob\n",
    "from\n",
    "    RWD_DB.RWD.RAVEN_CLAIMS_SUBMITS_PATIENT\n",
    "where\n",
    "    claim_number in (select distinct claim_number\n",
    "                     from nk_mnd_header_all)"
   ]
  },
  {
   "cell_type": "code",
   "execution_count": 26,
   "metadata": {},
   "outputs": [
    {
     "name": "stdout",
     "output_type": "stream",
     "text": [
      "Query started at 05:53:09 PM GMT Daylight Time; Query executed in 0.04 mQuery started at 05:53:11 PM GMT Daylight Time; Query executed in 0.13 mQuery started at 05:53:19 PM GMT Daylight Time; Query executed in 0.04 m"
     ]
    },
    {
     "data": {
      "text/html": [
       "<div>\n",
       "<style scoped>\n",
       "    .dataframe tbody tr th:only-of-type {\n",
       "        vertical-align: middle;\n",
       "    }\n",
       "\n",
       "    .dataframe tbody tr th {\n",
       "        vertical-align: top;\n",
       "    }\n",
       "\n",
       "    .dataframe thead th {\n",
       "        text-align: right;\n",
       "    }\n",
       "</style>\n",
       "<table border=\"1\" class=\"dataframe\">\n",
       "  <thead>\n",
       "    <tr style=\"text-align: right;\">\n",
       "      <th></th>\n",
       "      <th>status</th>\n",
       "    </tr>\n",
       "  </thead>\n",
       "  <tbody>\n",
       "    <tr>\n",
       "      <th>0</th>\n",
       "      <td>Statement executed successfully.</td>\n",
       "    </tr>\n",
       "  </tbody>\n",
       "</table>\n",
       "</div>"
      ],
      "text/plain": [
       "                             status\n",
       "0  Statement executed successfully."
      ]
     },
     "execution_count": 26,
     "metadata": {},
     "output_type": "execute_result"
    }
   ],
   "source": [
    "%%read_sql\n",
    "\n",
    " begin;\n",
    " update nk_mnd_pat_all a\n",
    "    set a.patient_id = b.patient_id\n",
    "   from nk_mnd_header_all b\n",
    "  where a.claim_number = b.claim_number;\n",
    "commit;"
   ]
  },
  {
   "cell_type": "code",
   "execution_count": 27,
   "metadata": {},
   "outputs": [
    {
     "name": "stdout",
     "output_type": "stream",
     "text": [
      "Query started at 05:53:21 PM GMT Daylight Time; Query executed in 0.06 m"
     ]
    },
    {
     "data": {
      "text/html": [
       "<div>\n",
       "<style scoped>\n",
       "    .dataframe tbody tr th:only-of-type {\n",
       "        vertical-align: middle;\n",
       "    }\n",
       "\n",
       "    .dataframe tbody tr th {\n",
       "        vertical-align: top;\n",
       "    }\n",
       "\n",
       "    .dataframe thead th {\n",
       "        text-align: right;\n",
       "    }\n",
       "</style>\n",
       "<table border=\"1\" class=\"dataframe\">\n",
       "  <thead>\n",
       "    <tr style=\"text-align: right;\">\n",
       "      <th></th>\n",
       "      <th>status</th>\n",
       "    </tr>\n",
       "  </thead>\n",
       "  <tbody>\n",
       "    <tr>\n",
       "      <th>0</th>\n",
       "      <td>Table NK_MND_PAT_ALL_UNIQUE successfully created.</td>\n",
       "    </tr>\n",
       "  </tbody>\n",
       "</table>\n",
       "</div>"
      ],
      "text/plain": [
       "                                              status\n",
       "0  Table NK_MND_PAT_ALL_UNIQUE successfully created."
      ]
     },
     "execution_count": 27,
     "metadata": {},
     "output_type": "execute_result"
    }
   ],
   "source": [
    "%%read_sql\n",
    "\n",
    "create or replace table nk_mnd_pat_all_unique as\n",
    "\n",
    "select\n",
    "    patient_id,\n",
    "    min(patient_dob) as dob,\n",
    "    min(patient_gender) as gender\n",
    "from\n",
    "    nk_mnd_pat_all\n",
    "group by 1"
   ]
  },
  {
   "cell_type": "code",
   "execution_count": 36,
   "metadata": {},
   "outputs": [
    {
     "name": "stdout",
     "output_type": "stream",
     "text": [
      "Query started at 05:54:28 PM GMT Daylight Time; Query executed in 0.04 m"
     ]
    },
    {
     "data": {
      "text/html": [
       "<div>\n",
       "<style scoped>\n",
       "    .dataframe tbody tr th:only-of-type {\n",
       "        vertical-align: middle;\n",
       "    }\n",
       "\n",
       "    .dataframe tbody tr th {\n",
       "        vertical-align: top;\n",
       "    }\n",
       "\n",
       "    .dataframe thead th {\n",
       "        text-align: right;\n",
       "    }\n",
       "</style>\n",
       "<table border=\"1\" class=\"dataframe\">\n",
       "  <thead>\n",
       "    <tr style=\"text-align: right;\">\n",
       "      <th></th>\n",
       "      <th>COUNT(PATIENT_ID)</th>\n",
       "      <th>COUNT(DISTINCT PATIENT_ID)</th>\n",
       "      <th>null_pt_id</th>\n",
       "      <th>faulty_pt_id</th>\n",
       "    </tr>\n",
       "  </thead>\n",
       "  <tbody>\n",
       "    <tr>\n",
       "      <th>0</th>\n",
       "      <td>30707</td>\n",
       "      <td>30707</td>\n",
       "      <td>0</td>\n",
       "      <td>0</td>\n",
       "    </tr>\n",
       "  </tbody>\n",
       "</table>\n",
       "</div>"
      ],
      "text/plain": [
       "   COUNT(PATIENT_ID)  COUNT(DISTINCT PATIENT_ID)  null_pt_id  faulty_pt_id\n",
       "0              30707                       30707           0             0"
      ]
     },
     "execution_count": 36,
     "metadata": {},
     "output_type": "execute_result"
    }
   ],
   "source": [
    "%%read_sql\n",
    "\n",
    "select\n",
    "    count(patient_id),\n",
    "    count(distinct patient_id),\n",
    "    sum(case\n",
    "           when patient_id = 'XXXXXXXXXXXXXXXX'\n",
    "           then 1\n",
    "           else 0\n",
    "           end) as null_pt_id,\n",
    "    sum(case\n",
    "           when left(patient_id, 5) = 'XXX -'\n",
    "           then 1\n",
    "           else 0\n",
    "           end) as faulty_pt_id\n",
    "    \n",
    "from nk_mnd_pat_all_unique"
   ]
  },
  {
   "cell_type": "markdown",
   "metadata": {},
   "source": [
    "# Master table"
   ]
  },
  {
   "cell_type": "markdown",
   "metadata": {},
   "source": [
    "## Aggregate comorbidity Dx"
   ]
  },
  {
   "cell_type": "code",
   "execution_count": 28,
   "metadata": {},
   "outputs": [
    {
     "data": {
      "text/html": [
       "<div>\n",
       "<style scoped>\n",
       "    .dataframe tbody tr th:only-of-type {\n",
       "        vertical-align: middle;\n",
       "    }\n",
       "\n",
       "    .dataframe tbody tr th {\n",
       "        vertical-align: top;\n",
       "    }\n",
       "\n",
       "    .dataframe thead th {\n",
       "        text-align: right;\n",
       "    }\n",
       "</style>\n",
       "<table border=\"1\" class=\"dataframe\">\n",
       "  <thead>\n",
       "    <tr style=\"text-align: right;\">\n",
       "      <th></th>\n",
       "      <th>cat2</th>\n",
       "    </tr>\n",
       "  </thead>\n",
       "  <tbody>\n",
       "    <tr>\n",
       "      <th>0</th>\n",
       "      <td>ftd</td>\n",
       "    </tr>\n",
       "    <tr>\n",
       "      <th>1</th>\n",
       "      <td>mnd</td>\n",
       "    </tr>\n",
       "  </tbody>\n",
       "</table>\n",
       "</div>"
      ],
      "text/plain": [
       "  cat2\n",
       "0  ftd\n",
       "1  mnd"
      ]
     },
     "execution_count": 28,
     "metadata": {},
     "output_type": "execute_result"
    }
   ],
   "source": [
    "snow.select(\"select distinct cat2 from nk_mnd_ref\")"
   ]
  },
  {
   "cell_type": "code",
   "execution_count": 29,
   "metadata": {},
   "outputs": [
    {
     "name": "stdout",
     "output_type": "stream",
     "text": [
      "Query started at 05:53:25 PM GMT Daylight Time; Query executed in 0.10 m"
     ]
    },
    {
     "data": {
      "text/html": [
       "<div>\n",
       "<style scoped>\n",
       "    .dataframe tbody tr th:only-of-type {\n",
       "        vertical-align: middle;\n",
       "    }\n",
       "\n",
       "    .dataframe tbody tr th {\n",
       "        vertical-align: top;\n",
       "    }\n",
       "\n",
       "    .dataframe thead th {\n",
       "        text-align: right;\n",
       "    }\n",
       "</style>\n",
       "<table border=\"1\" class=\"dataframe\">\n",
       "  <thead>\n",
       "    <tr style=\"text-align: right;\">\n",
       "      <th></th>\n",
       "      <th>status</th>\n",
       "    </tr>\n",
       "  </thead>\n",
       "  <tbody>\n",
       "    <tr>\n",
       "      <th>0</th>\n",
       "      <td>Table NK_MND_COMORBIDITES_AGG successfully cre...</td>\n",
       "    </tr>\n",
       "  </tbody>\n",
       "</table>\n",
       "</div>"
      ],
      "text/plain": [
       "                                              status\n",
       "0  Table NK_MND_COMORBIDITES_AGG successfully cre..."
      ]
     },
     "execution_count": 29,
     "metadata": {},
     "output_type": "execute_result"
    }
   ],
   "source": [
    "%%read_sql\n",
    "\n",
    "create or replace table nk_mnd_comorbidites_agg as \n",
    "\n",
    "select\n",
    "    a.patient_id,\n",
    "    1 as ftd,\n",
    "    max(case\n",
    "           when b.diagnosis in (select distinct value\n",
    "                                from nk_mnd_ref\n",
    "                                where cat2 = 'mnd' and deactive_date is null)\n",
    "           and datediff(d, a.index_date, b.year_of_service) between -365 and 365                   \n",
    "           then 1\n",
    "           else 0\n",
    "           end) as mnd\n",
    "from\n",
    "    nk_mnd_cohort a\n",
    "        join nk_mnd_dx_all b\n",
    "            on a.patient_id = b.patient_id\n",
    "group by 1"
   ]
  },
  {
   "cell_type": "markdown",
   "metadata": {},
   "source": [
    "## Patient age"
   ]
  },
  {
   "cell_type": "code",
   "execution_count": 30,
   "metadata": {},
   "outputs": [
    {
     "name": "stdout",
     "output_type": "stream",
     "text": [
      "Query started at 05:53:31 PM GMT Daylight Time; Query executed in 0.14 m"
     ]
    },
    {
     "data": {
      "text/html": [
       "<div>\n",
       "<style scoped>\n",
       "    .dataframe tbody tr th:only-of-type {\n",
       "        vertical-align: middle;\n",
       "    }\n",
       "\n",
       "    .dataframe tbody tr th {\n",
       "        vertical-align: top;\n",
       "    }\n",
       "\n",
       "    .dataframe thead th {\n",
       "        text-align: right;\n",
       "    }\n",
       "</style>\n",
       "<table border=\"1\" class=\"dataframe\">\n",
       "  <thead>\n",
       "    <tr style=\"text-align: right;\">\n",
       "      <th></th>\n",
       "      <th>status</th>\n",
       "    </tr>\n",
       "  </thead>\n",
       "  <tbody>\n",
       "    <tr>\n",
       "      <th>0</th>\n",
       "      <td>Table NK_MND_PATIENT_DEMOGRAPHICS successfully...</td>\n",
       "    </tr>\n",
       "  </tbody>\n",
       "</table>\n",
       "</div>"
      ],
      "text/plain": [
       "                                              status\n",
       "0  Table NK_MND_PATIENT_DEMOGRAPHICS successfully..."
      ]
     },
     "execution_count": 30,
     "metadata": {},
     "output_type": "execute_result"
    }
   ],
   "source": [
    "%%read_sql\n",
    "\n",
    "create or replace table nk_mnd_patient_demographics as \n",
    "\n",
    "select\n",
    "    a.patient_id,\n",
    "    b.gender,\n",
    "    datediff(yy, b.dob, a.index_date) as age,\n",
    "    case\n",
    "        when datediff(yy, b.dob, a.index_date) between 0 and 4 then '00-04'\n",
    "        when datediff(yy, b.dob, a.index_date) between 5 and 9 then '05-09'\n",
    "        when datediff(yy, b.dob, a.index_date) between 10 and 14 then '10-14'\n",
    "        when datediff(yy, b.dob, a.index_date) between 15 and 19 then '15-19'\n",
    "        when datediff(yy, b.dob, a.index_date) between 20 and 24 then '20-24'\n",
    "        when datediff(yy, b.dob, a.index_date) between 25 and 29 then '25-29'\n",
    "        when datediff(yy, b.dob, a.index_date) between 30 and 34 then '30-34'\n",
    "        when datediff(yy, b.dob, a.index_date) between 35 and 39 then '35-39'\n",
    "        when datediff(yy, b.dob, a.index_date) between 40 and 44 then '40-44'\n",
    "        when datediff(yy, b.dob, a.index_date) between 45 and 49 then '45-49'\n",
    "        when datediff(yy, b.dob, a.index_date) between 50 and 54 then '50-54'\n",
    "        when datediff(yy, b.dob, a.index_date) between 55 and 59 then '55-59'\n",
    "        when datediff(yy, b.dob, a.index_date) between 60 and 64 then '60-64'\n",
    "        when datediff(yy, b.dob, a.index_date) between 65 and 69 then '65-69'\n",
    "        when datediff(yy, b.dob, a.index_date) between 70 and 74 then '70-74'\n",
    "        when datediff(yy, b.dob, a.index_date) between 75 and 79 then '75-79'\n",
    "        when datediff(yy, b.dob, a.index_date) between 80 and 84 then '80-84'\n",
    "        when datediff(yy, b.dob, a.index_date) between 85 and 110 then '85+'\n",
    "        else null\n",
    "        end as age_cat\n",
    "from\n",
    "    nk_mnd_cohort a\n",
    "        join nk_mnd_pat_all_unique b\n",
    "            on a.patient_id = b.patient_id"
   ]
  },
  {
   "cell_type": "markdown",
   "metadata": {},
   "source": [
    "## Master table"
   ]
  },
  {
   "cell_type": "code",
   "execution_count": 31,
   "metadata": {},
   "outputs": [
    {
     "name": "stdout",
     "output_type": "stream",
     "text": [
      "DROP TABLE IF EXISTS sandbox_analytics.sandbox.nk_mnd_master_table;\n",
      "Table sandbox.nk_mnd_master_table dropped!\n"
     ]
    }
   ],
   "source": [
    "snow.drop_table(\"nk_mnd_master_table\")"
   ]
  },
  {
   "cell_type": "code",
   "execution_count": 32,
   "metadata": {},
   "outputs": [
    {
     "name": "stdout",
     "output_type": "stream",
     "text": [
      "Query started at 05:53:40 PM GMT Daylight Time; Query executed in 0.06 m"
     ]
    },
    {
     "data": {
      "text/html": [
       "<div>\n",
       "<style scoped>\n",
       "    .dataframe tbody tr th:only-of-type {\n",
       "        vertical-align: middle;\n",
       "    }\n",
       "\n",
       "    .dataframe tbody tr th {\n",
       "        vertical-align: top;\n",
       "    }\n",
       "\n",
       "    .dataframe thead th {\n",
       "        text-align: right;\n",
       "    }\n",
       "</style>\n",
       "<table border=\"1\" class=\"dataframe\">\n",
       "  <thead>\n",
       "    <tr style=\"text-align: right;\">\n",
       "      <th></th>\n",
       "      <th>status</th>\n",
       "    </tr>\n",
       "  </thead>\n",
       "  <tbody>\n",
       "    <tr>\n",
       "      <th>0</th>\n",
       "      <td>Table NK_MND_MASTER_TABLE successfully created.</td>\n",
       "    </tr>\n",
       "  </tbody>\n",
       "</table>\n",
       "</div>"
      ],
      "text/plain": [
       "                                            status\n",
       "0  Table NK_MND_MASTER_TABLE successfully created."
      ]
     },
     "execution_count": 32,
     "metadata": {},
     "output_type": "execute_result"
    }
   ],
   "source": [
    "%%read_sql\n",
    "\n",
    "create or replace table nk_mnd_master_table as\n",
    "\n",
    "select\n",
    "    a.patient_id,\n",
    "    null as wt,\n",
    "    a.gender,\n",
    "    a.age,\n",
    "    a.age_cat,\n",
    "    b.ftd,\n",
    "    b.mnd\n",
    "from\n",
    "    nk_mnd_patient_demographics a\n",
    "        join nk_mnd_comorbidites_agg b\n",
    "            on a.patient_id = b.patient_id"
   ]
  },
  {
   "cell_type": "code",
   "execution_count": 33,
   "metadata": {},
   "outputs": [
    {
     "data": {
      "text/html": [
       "<div>\n",
       "<style scoped>\n",
       "    .dataframe tbody tr th:only-of-type {\n",
       "        vertical-align: middle;\n",
       "    }\n",
       "\n",
       "    .dataframe tbody tr th {\n",
       "        vertical-align: top;\n",
       "    }\n",
       "\n",
       "    .dataframe thead th {\n",
       "        text-align: right;\n",
       "    }\n",
       "</style>\n",
       "<table border=\"1\" class=\"dataframe\">\n",
       "  <thead>\n",
       "    <tr style=\"text-align: right;\">\n",
       "      <th></th>\n",
       "      <th>patient_id</th>\n",
       "      <th>wt</th>\n",
       "      <th>gender</th>\n",
       "      <th>age</th>\n",
       "      <th>age_cat</th>\n",
       "      <th>ftd</th>\n",
       "      <th>mnd</th>\n",
       "    </tr>\n",
       "  </thead>\n",
       "  <tbody>\n",
       "    <tr>\n",
       "      <th>0</th>\n",
       "      <td>6BQ8xALqisW/BrRS</td>\n",
       "      <td>None</td>\n",
       "      <td>M</td>\n",
       "      <td>67</td>\n",
       "      <td>65-69</td>\n",
       "      <td>1</td>\n",
       "      <td>0</td>\n",
       "    </tr>\n",
       "    <tr>\n",
       "      <th>1</th>\n",
       "      <td>V0Nk8cY5HgnptYPJ</td>\n",
       "      <td>None</td>\n",
       "      <td>M</td>\n",
       "      <td>69</td>\n",
       "      <td>65-69</td>\n",
       "      <td>1</td>\n",
       "      <td>0</td>\n",
       "    </tr>\n",
       "    <tr>\n",
       "      <th>2</th>\n",
       "      <td>+0LZBQAPhbKxYFoa</td>\n",
       "      <td>None</td>\n",
       "      <td>F</td>\n",
       "      <td>66</td>\n",
       "      <td>65-69</td>\n",
       "      <td>1</td>\n",
       "      <td>0</td>\n",
       "    </tr>\n",
       "    <tr>\n",
       "      <th>3</th>\n",
       "      <td>4gK44p06gES2uTa7</td>\n",
       "      <td>None</td>\n",
       "      <td>M</td>\n",
       "      <td>68</td>\n",
       "      <td>65-69</td>\n",
       "      <td>1</td>\n",
       "      <td>0</td>\n",
       "    </tr>\n",
       "    <tr>\n",
       "      <th>4</th>\n",
       "      <td>VbU/gsiFk8gBekLF</td>\n",
       "      <td>None</td>\n",
       "      <td>M</td>\n",
       "      <td>74</td>\n",
       "      <td>70-74</td>\n",
       "      <td>1</td>\n",
       "      <td>0</td>\n",
       "    </tr>\n",
       "    <tr>\n",
       "      <th>5</th>\n",
       "      <td>tHBUOOK0EdyFw/JW</td>\n",
       "      <td>None</td>\n",
       "      <td>F</td>\n",
       "      <td>69</td>\n",
       "      <td>65-69</td>\n",
       "      <td>1</td>\n",
       "      <td>0</td>\n",
       "    </tr>\n",
       "    <tr>\n",
       "      <th>6</th>\n",
       "      <td>E/WaTaNUuI8/8gRb</td>\n",
       "      <td>None</td>\n",
       "      <td>F</td>\n",
       "      <td>66</td>\n",
       "      <td>65-69</td>\n",
       "      <td>1</td>\n",
       "      <td>0</td>\n",
       "    </tr>\n",
       "    <tr>\n",
       "      <th>7</th>\n",
       "      <td>DSYu9zO+1dWJk3Ae</td>\n",
       "      <td>None</td>\n",
       "      <td>F</td>\n",
       "      <td>75</td>\n",
       "      <td>75-79</td>\n",
       "      <td>1</td>\n",
       "      <td>0</td>\n",
       "    </tr>\n",
       "    <tr>\n",
       "      <th>8</th>\n",
       "      <td>CDXrBk4sQZ8bzAfl</td>\n",
       "      <td>None</td>\n",
       "      <td>M</td>\n",
       "      <td>71</td>\n",
       "      <td>70-74</td>\n",
       "      <td>1</td>\n",
       "      <td>0</td>\n",
       "    </tr>\n",
       "    <tr>\n",
       "      <th>9</th>\n",
       "      <td>eD/7NgasTXTcRotw</td>\n",
       "      <td>None</td>\n",
       "      <td>M</td>\n",
       "      <td>90</td>\n",
       "      <td>85+</td>\n",
       "      <td>1</td>\n",
       "      <td>0</td>\n",
       "    </tr>\n",
       "  </tbody>\n",
       "</table>\n",
       "</div>"
      ],
      "text/plain": [
       "         patient_id    wt gender  age age_cat  ftd  mnd\n",
       "0  6BQ8xALqisW/BrRS  None      M   67   65-69    1    0\n",
       "1  V0Nk8cY5HgnptYPJ  None      M   69   65-69    1    0\n",
       "2  +0LZBQAPhbKxYFoa  None      F   66   65-69    1    0\n",
       "3  4gK44p06gES2uTa7  None      M   68   65-69    1    0\n",
       "4  VbU/gsiFk8gBekLF  None      M   74   70-74    1    0\n",
       "5  tHBUOOK0EdyFw/JW  None      F   69   65-69    1    0\n",
       "6  E/WaTaNUuI8/8gRb  None      F   66   65-69    1    0\n",
       "7  DSYu9zO+1dWJk3Ae  None      F   75   75-79    1    0\n",
       "8  CDXrBk4sQZ8bzAfl  None      M   71   70-74    1    0\n",
       "9  eD/7NgasTXTcRotw  None      M   90     85+    1    0"
      ]
     },
     "execution_count": 33,
     "metadata": {},
     "output_type": "execute_result"
    }
   ],
   "source": [
    "snow.select(\"select * from nk_mnd_master_table limit 10\")"
   ]
  },
  {
   "cell_type": "markdown",
   "metadata": {},
   "source": [
    "# Summary results"
   ]
  },
  {
   "cell_type": "code",
   "execution_count": 34,
   "metadata": {},
   "outputs": [
    {
     "name": "stdout",
     "output_type": "stream",
     "text": [
      "Query started at 05:53:45 PM GMT Daylight Time; Query executed in 0.03 m"
     ]
    },
    {
     "data": {
      "text/html": [
       "<div>\n",
       "<style scoped>\n",
       "    .dataframe tbody tr th:only-of-type {\n",
       "        vertical-align: middle;\n",
       "    }\n",
       "\n",
       "    .dataframe tbody tr th {\n",
       "        vertical-align: top;\n",
       "    }\n",
       "\n",
       "    .dataframe thead th {\n",
       "        text-align: right;\n",
       "    }\n",
       "</style>\n",
       "<table border=\"1\" class=\"dataframe\">\n",
       "  <thead>\n",
       "    <tr style=\"text-align: right;\">\n",
       "      <th></th>\n",
       "      <th>ftd_pts</th>\n",
       "      <th>mnd</th>\n",
       "      <th>mnd_perc</th>\n",
       "    </tr>\n",
       "  </thead>\n",
       "  <tbody>\n",
       "    <tr>\n",
       "      <th>0</th>\n",
       "      <td>30707</td>\n",
       "      <td>754</td>\n",
       "      <td>2.46</td>\n",
       "    </tr>\n",
       "  </tbody>\n",
       "</table>\n",
       "</div>"
      ],
      "text/plain": [
       "   ftd_pts  mnd  mnd_perc\n",
       "0    30707  754      2.46"
      ]
     },
     "execution_count": 34,
     "metadata": {},
     "output_type": "execute_result"
    }
   ],
   "source": [
    "%%read_sql\n",
    "\n",
    "select\n",
    "    --age_cat,\n",
    "    sum(ftd) as ftd_pts,\n",
    "    sum(mnd) as mnd,\n",
    "    round(sum(mnd)/sum(ftd)*100, 2) as mnd_perc\n",
    "from\n",
    "    nk_mnd_master_table\n",
    "--group by 1\n",
    "--order by 1"
   ]
  },
  {
   "cell_type": "code",
   "execution_count": 35,
   "metadata": {},
   "outputs": [
    {
     "name": "stdout",
     "output_type": "stream",
     "text": [
      "Query started at 05:53:47 PM GMT Daylight Time; Query executed in 0.03 m"
     ]
    },
    {
     "data": {
      "text/html": [
       "<div>\n",
       "<style scoped>\n",
       "    .dataframe tbody tr th:only-of-type {\n",
       "        vertical-align: middle;\n",
       "    }\n",
       "\n",
       "    .dataframe tbody tr th {\n",
       "        vertical-align: top;\n",
       "    }\n",
       "\n",
       "    .dataframe thead th {\n",
       "        text-align: right;\n",
       "    }\n",
       "</style>\n",
       "<table border=\"1\" class=\"dataframe\">\n",
       "  <thead>\n",
       "    <tr style=\"text-align: right;\">\n",
       "      <th></th>\n",
       "      <th>age_cat</th>\n",
       "      <th>ftd_pts</th>\n",
       "      <th>mnd</th>\n",
       "      <th>mnd_perc</th>\n",
       "    </tr>\n",
       "  </thead>\n",
       "  <tbody>\n",
       "    <tr>\n",
       "      <th>0</th>\n",
       "      <td>00-04</td>\n",
       "      <td>8</td>\n",
       "      <td>0</td>\n",
       "      <td>0.00</td>\n",
       "    </tr>\n",
       "    <tr>\n",
       "      <th>1</th>\n",
       "      <td>05-09</td>\n",
       "      <td>10</td>\n",
       "      <td>0</td>\n",
       "      <td>0.00</td>\n",
       "    </tr>\n",
       "    <tr>\n",
       "      <th>2</th>\n",
       "      <td>10-14</td>\n",
       "      <td>7</td>\n",
       "      <td>0</td>\n",
       "      <td>0.00</td>\n",
       "    </tr>\n",
       "    <tr>\n",
       "      <th>3</th>\n",
       "      <td>15-19</td>\n",
       "      <td>11</td>\n",
       "      <td>0</td>\n",
       "      <td>0.00</td>\n",
       "    </tr>\n",
       "    <tr>\n",
       "      <th>4</th>\n",
       "      <td>20-24</td>\n",
       "      <td>12</td>\n",
       "      <td>1</td>\n",
       "      <td>8.33</td>\n",
       "    </tr>\n",
       "    <tr>\n",
       "      <th>5</th>\n",
       "      <td>25-29</td>\n",
       "      <td>31</td>\n",
       "      <td>0</td>\n",
       "      <td>0.00</td>\n",
       "    </tr>\n",
       "    <tr>\n",
       "      <th>6</th>\n",
       "      <td>30-34</td>\n",
       "      <td>34</td>\n",
       "      <td>0</td>\n",
       "      <td>0.00</td>\n",
       "    </tr>\n",
       "    <tr>\n",
       "      <th>7</th>\n",
       "      <td>35-39</td>\n",
       "      <td>60</td>\n",
       "      <td>5</td>\n",
       "      <td>8.33</td>\n",
       "    </tr>\n",
       "    <tr>\n",
       "      <th>8</th>\n",
       "      <td>40-44</td>\n",
       "      <td>128</td>\n",
       "      <td>8</td>\n",
       "      <td>6.25</td>\n",
       "    </tr>\n",
       "    <tr>\n",
       "      <th>9</th>\n",
       "      <td>45-49</td>\n",
       "      <td>240</td>\n",
       "      <td>16</td>\n",
       "      <td>6.67</td>\n",
       "    </tr>\n",
       "    <tr>\n",
       "      <th>10</th>\n",
       "      <td>50-54</td>\n",
       "      <td>632</td>\n",
       "      <td>34</td>\n",
       "      <td>5.38</td>\n",
       "    </tr>\n",
       "    <tr>\n",
       "      <th>11</th>\n",
       "      <td>55-59</td>\n",
       "      <td>1557</td>\n",
       "      <td>93</td>\n",
       "      <td>5.97</td>\n",
       "    </tr>\n",
       "    <tr>\n",
       "      <th>12</th>\n",
       "      <td>60-64</td>\n",
       "      <td>2482</td>\n",
       "      <td>111</td>\n",
       "      <td>4.47</td>\n",
       "    </tr>\n",
       "    <tr>\n",
       "      <th>13</th>\n",
       "      <td>65-69</td>\n",
       "      <td>3976</td>\n",
       "      <td>131</td>\n",
       "      <td>3.29</td>\n",
       "    </tr>\n",
       "    <tr>\n",
       "      <th>14</th>\n",
       "      <td>70-74</td>\n",
       "      <td>4811</td>\n",
       "      <td>143</td>\n",
       "      <td>2.97</td>\n",
       "    </tr>\n",
       "    <tr>\n",
       "      <th>15</th>\n",
       "      <td>75-79</td>\n",
       "      <td>5174</td>\n",
       "      <td>117</td>\n",
       "      <td>2.26</td>\n",
       "    </tr>\n",
       "    <tr>\n",
       "      <th>16</th>\n",
       "      <td>80-84</td>\n",
       "      <td>4666</td>\n",
       "      <td>67</td>\n",
       "      <td>1.44</td>\n",
       "    </tr>\n",
       "    <tr>\n",
       "      <th>17</th>\n",
       "      <td>85+</td>\n",
       "      <td>6868</td>\n",
       "      <td>28</td>\n",
       "      <td>0.41</td>\n",
       "    </tr>\n",
       "  </tbody>\n",
       "</table>\n",
       "</div>"
      ],
      "text/plain": [
       "   age_cat  ftd_pts  mnd  mnd_perc\n",
       "0    00-04        8    0      0.00\n",
       "1    05-09       10    0      0.00\n",
       "2    10-14        7    0      0.00\n",
       "3    15-19       11    0      0.00\n",
       "4    20-24       12    1      8.33\n",
       "5    25-29       31    0      0.00\n",
       "6    30-34       34    0      0.00\n",
       "7    35-39       60    5      8.33\n",
       "8    40-44      128    8      6.25\n",
       "9    45-49      240   16      6.67\n",
       "10   50-54      632   34      5.38\n",
       "11   55-59     1557   93      5.97\n",
       "12   60-64     2482  111      4.47\n",
       "13   65-69     3976  131      3.29\n",
       "14   70-74     4811  143      2.97\n",
       "15   75-79     5174  117      2.26\n",
       "16   80-84     4666   67      1.44\n",
       "17     85+     6868   28      0.41"
      ]
     },
     "execution_count": 35,
     "metadata": {},
     "output_type": "execute_result"
    }
   ],
   "source": [
    "%%read_sql\n",
    "\n",
    "select\n",
    "    age_cat,\n",
    "    sum(ftd) as ftd_pts,\n",
    "    sum(mnd) as mnd,\n",
    "    round(sum(mnd)/sum(ftd)*100, 2) as mnd_perc\n",
    "from\n",
    "    nk_mnd_master_table\n",
    "group by 1\n",
    "order by 1"
   ]
  },
  {
   "cell_type": "code",
   "execution_count": null,
   "metadata": {},
   "outputs": [],
   "source": []
  }
 ],
 "metadata": {
  "kernelspec": {
   "display_name": "Python 3",
   "language": "python",
   "name": "python3"
  },
  "language_info": {
   "codemirror_mode": {
    "name": "ipython",
    "version": 3
   },
   "file_extension": ".py",
   "mimetype": "text/x-python",
   "name": "python",
   "nbconvert_exporter": "python",
   "pygments_lexer": "ipython3",
   "version": "3.6.4"
  },
  "toc": {
   "base_numbering": 1,
   "nav_menu": {},
   "number_sections": true,
   "sideBar": true,
   "skip_h1_title": false,
   "title_cell": "Table of Contents",
   "title_sidebar": "Contents",
   "toc_cell": false,
   "toc_position": {},
   "toc_section_display": true,
   "toc_window_display": true
  }
 },
 "nbformat": 4,
 "nbformat_minor": 2
}
