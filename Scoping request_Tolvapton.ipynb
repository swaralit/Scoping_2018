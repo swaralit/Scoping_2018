{
 "cells": [
  {
   "cell_type": "markdown",
   "metadata": {},
   "source": [
    "# Objective\n",
    "\n",
    "Off label use with Tolvaptan (Jinarc) to treat infant population (up to 2 yrs) with a severe potentially fatal polycystosis kidney disease, which parents presented with, possibly asymptomatic, ADPKRD or ADPKD"
   ]
  },
  {
   "cell_type": "markdown",
   "metadata": {},
   "source": [
    "## Details\n",
    "- Total ADPKD in data set\n",
    "- % on drug tovalptan\n",
    "- Median/mean age\n",
    "- Insurance type \n",
    "- And any other relevant descriptives.\n",
    "\n",
    "## Scoping essentials:\n",
    "For scoping however all we want to establish is that there are some patients in our dataset with ADPKD who have used tovalptan. \n",
    "\n",
    "## ICD code notes from Joe\n",
    "Using ICD codes:  ('q611','q6119','75313') I found only 280 total pharmacy claims in Condor (all years, no patient limitations).  \n",
    "\n",
    "Using NDC codes: ('46602002105','75839016905','46602002005','59148002050','59148002150') for Tolvaptan /Jinarc / JYNARQUE/ SAMSCA (US version I believe) I found 2,592 claims for 2017.\n",
    "\n",
    "## Adding more ICD codes?\n",
    "Ref: https://dailymed.nlm.nih.gov/dailymed/search.cfm?query=tolvaptan \n",
    "NDC codes: 591480087007, 591480087028, 591480088007, 591480088028, 591480089007, 591480089028, 591480020050, 591480021050 \n",
    "\n"
   ]
  },
  {
   "cell_type": "markdown",
   "metadata": {},
   "source": [
    "# Nish"
   ]
  },
  {
   "cell_type": "code",
   "execution_count": 5,
   "metadata": {},
   "outputs": [
    {
     "name": "stdout",
     "output_type": "stream",
     "text": [
      "Query started at 12:10:13 PM GMT Daylight Time; Query executed in 0.11 m"
     ]
    },
    {
     "data": {
      "text/html": [
       "<div>\n",
       "<style scoped>\n",
       "    .dataframe tbody tr th:only-of-type {\n",
       "        vertical-align: middle;\n",
       "    }\n",
       "\n",
       "    .dataframe tbody tr th {\n",
       "        vertical-align: top;\n",
       "    }\n",
       "\n",
       "    .dataframe thead th {\n",
       "        text-align: right;\n",
       "    }\n",
       "</style>\n",
       "<table border=\"1\" class=\"dataframe\">\n",
       "  <thead>\n",
       "    <tr style=\"text-align: right;\">\n",
       "      <th></th>\n",
       "      <th>ndcnum</th>\n",
       "      <th>deaclas</th>\n",
       "      <th>generid</th>\n",
       "      <th>maintain</th>\n",
       "      <th>orgbkcd</th>\n",
       "      <th>prodcat</th>\n",
       "      <th>siglsrc</th>\n",
       "      <th>genind</th>\n",
       "      <th>orgbkfg</th>\n",
       "      <th>desidrg</th>\n",
       "      <th>...</th>\n",
       "      <th>thrdtds</th>\n",
       "      <th>mstfmds</th>\n",
       "      <th>thrclds</th>\n",
       "      <th>thrgrds</th>\n",
       "      <th>deaclds</th>\n",
       "      <th>prodnme</th>\n",
       "      <th>manfnm</th>\n",
       "      <th>gennme</th>\n",
       "      <th>roacd</th>\n",
       "      <th>roads</th>\n",
       "    </tr>\n",
       "  </thead>\n",
       "  <tbody>\n",
       "    <tr>\n",
       "      <th>0</th>\n",
       "      <td>59148002050</td>\n",
       "      <td>6</td>\n",
       "      <td>127439</td>\n",
       "      <td>3</td>\n",
       "      <td>NR</td>\n",
       "      <td>1</td>\n",
       "      <td>Y</td>\n",
       "      <td>1</td>\n",
       "      <td>N</td>\n",
       "      <td>N</td>\n",
       "      <td>...</td>\n",
       "      <td>Tolvaptan</td>\n",
       "      <td>Tablet</td>\n",
       "      <td>Misc Therapeutic Agents, NEC</td>\n",
       "      <td>Misc Therapeutic Agents</td>\n",
       "      <td>All other Rx</td>\n",
       "      <td>SAMSCA</td>\n",
       "      <td>OTSUKA AMERICA PHARMACEUTICALS, INC</td>\n",
       "      <td>Tolvaptan</td>\n",
       "      <td>PO</td>\n",
       "      <td>Oral</td>\n",
       "    </tr>\n",
       "    <tr>\n",
       "      <th>1</th>\n",
       "      <td>59148002150</td>\n",
       "      <td>6</td>\n",
       "      <td>127440</td>\n",
       "      <td>3</td>\n",
       "      <td>NR</td>\n",
       "      <td>1</td>\n",
       "      <td>Y</td>\n",
       "      <td>1</td>\n",
       "      <td>N</td>\n",
       "      <td>N</td>\n",
       "      <td>...</td>\n",
       "      <td>Tolvaptan</td>\n",
       "      <td>Tablet</td>\n",
       "      <td>Misc Therapeutic Agents, NEC</td>\n",
       "      <td>Misc Therapeutic Agents</td>\n",
       "      <td>All other Rx</td>\n",
       "      <td>SAMSCA</td>\n",
       "      <td>OTSUKA AMERICA PHARMACEUTICALS, INC</td>\n",
       "      <td>Tolvaptan</td>\n",
       "      <td>PO</td>\n",
       "      <td>Oral</td>\n",
       "    </tr>\n",
       "  </tbody>\n",
       "</table>\n",
       "<p>2 rows × 34 columns</p>\n",
       "</div>"
      ],
      "text/plain": [
       "        ndcnum deaclas generid maintain orgbkcd prodcat siglsrc genind  \\\n",
       "0  59148002050       6  127439        3      NR       1       Y      1   \n",
       "1  59148002150       6  127440        3      NR       1       Y      1   \n",
       "\n",
       "  orgbkfg desidrg  ...     thrdtds mstfmds                       thrclds  \\\n",
       "0       N       N  ...   Tolvaptan  Tablet  Misc Therapeutic Agents, NEC   \n",
       "1       N       N  ...   Tolvaptan  Tablet  Misc Therapeutic Agents, NEC   \n",
       "\n",
       "                   thrgrds       deaclds prodnme  \\\n",
       "0  Misc Therapeutic Agents  All other Rx  SAMSCA   \n",
       "1  Misc Therapeutic Agents  All other Rx  SAMSCA   \n",
       "\n",
       "                                manfnm     gennme roacd roads  \n",
       "0  OTSUKA AMERICA PHARMACEUTICALS, INC  Tolvaptan    PO  Oral  \n",
       "1  OTSUKA AMERICA PHARMACEUTICALS, INC  Tolvaptan    PO  Oral  \n",
       "\n",
       "[2 rows x 34 columns]"
      ]
     },
     "execution_count": 5,
     "metadata": {},
     "output_type": "execute_result"
    }
   ],
   "source": [
    "%%read_sql\n",
    "\n",
    "select *\n",
    "from RWD_DB.RWD.AMN_REDBOOK_LATEST\n",
    "where gennme ilike '%tolvaptan%'"
   ]
  },
  {
   "cell_type": "markdown",
   "metadata": {},
   "source": [
    "# Initialization"
   ]
  },
  {
   "cell_type": "markdown",
   "metadata": {},
   "source": [
    "## Importing relevant modules"
   ]
  },
  {
   "cell_type": "code",
   "execution_count": 2,
   "metadata": {},
   "outputs": [],
   "source": [
    "import pandas as pd\n",
    "from drg_connect import Snowflake\n",
    "import qgrid \n",
    "from datetime import timedelta, datetime\n",
    "import math\n",
    "\n",
    "import warnings\n",
    "warnings.filterwarnings('ignore')"
   ]
  },
  {
   "cell_type": "markdown",
   "metadata": {},
   "source": [
    "## Connecting to snowflake"
   ]
  },
  {
   "cell_type": "code",
   "execution_count": 3,
   "metadata": {},
   "outputs": [
    {
     "data": {
      "application/javascript": [
       "\n",
       "    require(['notebook/js/codecell'], function(codecell) {\n",
       "      // https://github.com/jupyter/notebook/issues/2453\n",
       "      codecell.CodeCell.options_default.highlight_modes['magic_text/x-sql'] = {'reg':[/^%read_sql/, /.*=\\s*%read_sql/,\n",
       "                                                                                      /^%%read_sql/]};\n",
       "      Jupyter.notebook.events.one('kernel_ready.Kernel', function(){\n",
       "          console.log('BBBBB');\n",
       "          Jupyter.notebook.get_cells().map(function(cell){\n",
       "              if (cell.cell_type == 'code'){ cell.auto_highlight(); } }) ;\n",
       "      });\n",
       "    });\n",
       "    "
      ]
     },
     "metadata": {},
     "output_type": "display_data"
    }
   ],
   "source": [
    "##defining parameters of snowflake\n",
    "snow = Snowflake(role = 'RWD_ANALYTICS_RW',database='SANDBOX_ANALYTICS',schema = 'SANDBOX')\n",
    "engine = snow.engine\n",
    "\n",
    "%reload_ext sql_magic\n",
    "%config SQL.output_result = True  #Enable output to std out\n",
    "%config SQL.notify_result = False #disable browser notifications\n",
    "%config SQL.conn_name = 'engine'  #Set the sql_magic connection engine"
   ]
  },
  {
   "cell_type": "markdown",
   "metadata": {},
   "source": [
    "# Reference table"
   ]
  },
  {
   "cell_type": "markdown",
   "metadata": {},
   "source": [
    "## ICD grouper table for reference"
   ]
  },
  {
   "cell_type": "code",
   "execution_count": 4,
   "metadata": {},
   "outputs": [
    {
     "name": "stdout",
     "output_type": "stream",
     "text": [
      "Initiating login request with your identity provider. A browser window should have opened for you to complete the login. If you can't see it, check existing browser windows, or your OS settings. Press CTRL+C to abort and try again...\n"
     ]
    },
    {
     "data": {
      "text/html": [
       "<div>\n",
       "<style scoped>\n",
       "    .dataframe tbody tr th:only-of-type {\n",
       "        vertical-align: middle;\n",
       "    }\n",
       "\n",
       "    .dataframe tbody tr th {\n",
       "        vertical-align: top;\n",
       "    }\n",
       "\n",
       "    .dataframe thead th {\n",
       "        text-align: right;\n",
       "    }\n",
       "</style>\n",
       "<table border=\"1\" class=\"dataframe\">\n",
       "  <thead>\n",
       "    <tr style=\"text-align: right;\">\n",
       "      <th></th>\n",
       "      <th>id</th>\n",
       "      <th>level_1</th>\n",
       "      <th>level_1_description</th>\n",
       "      <th>level_2</th>\n",
       "      <th>level_2_description</th>\n",
       "      <th>level_3</th>\n",
       "      <th>level_3_description</th>\n",
       "      <th>level_4</th>\n",
       "      <th>icd9_mapped_codes</th>\n",
       "      <th>icd9_description</th>\n",
       "      <th>level_4_short_description_icd10</th>\n",
       "      <th>level_4_long_description_icd10</th>\n",
       "      <th>create_ts</th>\n",
       "      <th>update_ts</th>\n",
       "    </tr>\n",
       "  </thead>\n",
       "  <tbody>\n",
       "    <tr>\n",
       "      <th>0</th>\n",
       "      <td>1</td>\n",
       "      <td>A00 - B999</td>\n",
       "      <td>Certain infectious and parasitic diseases</td>\n",
       "      <td>A00-A09</td>\n",
       "      <td>Intestinal infectious diseases</td>\n",
       "      <td>A00-A009</td>\n",
       "      <td>Cholera</td>\n",
       "      <td>A00</td>\n",
       "      <td>No map</td>\n",
       "      <td>No map</td>\n",
       "      <td>Cholera</td>\n",
       "      <td>Cholera</td>\n",
       "      <td>2017-11-02</td>\n",
       "      <td>2017-11-02</td>\n",
       "    </tr>\n",
       "    <tr>\n",
       "      <th>1</th>\n",
       "      <td>2</td>\n",
       "      <td>A00 - B999</td>\n",
       "      <td>Certain infectious and parasitic diseases</td>\n",
       "      <td>A00-A09</td>\n",
       "      <td>Intestinal infectious diseases</td>\n",
       "      <td>A00-A009</td>\n",
       "      <td>Cholera</td>\n",
       "      <td>A000</td>\n",
       "      <td>0010</td>\n",
       "      <td>Cholera due to vibrio cholerae</td>\n",
       "      <td>Cholera due to Vibrio cholerae 01 biovar cholerae</td>\n",
       "      <td>Cholera due to Vibrio cholerae 01 biovar cholerae</td>\n",
       "      <td>2017-11-02</td>\n",
       "      <td>2017-11-02</td>\n",
       "    </tr>\n",
       "    <tr>\n",
       "      <th>2</th>\n",
       "      <td>3</td>\n",
       "      <td>A00 - B999</td>\n",
       "      <td>Certain infectious and parasitic diseases</td>\n",
       "      <td>A00-A09</td>\n",
       "      <td>Intestinal infectious diseases</td>\n",
       "      <td>A00-A009</td>\n",
       "      <td>Cholera</td>\n",
       "      <td>A001</td>\n",
       "      <td>0011</td>\n",
       "      <td>Cholera due to vibrio cholerae el tor</td>\n",
       "      <td>Cholera due to Vibrio cholerae 01 biovar eltor</td>\n",
       "      <td>Cholera due to Vibrio cholerae 01 biovar eltor</td>\n",
       "      <td>2017-11-02</td>\n",
       "      <td>2017-11-02</td>\n",
       "    </tr>\n",
       "  </tbody>\n",
       "</table>\n",
       "</div>"
      ],
      "text/plain": [
       "   id     level_1                        level_1_description  level_2  \\\n",
       "0   1  A00 - B999  Certain infectious and parasitic diseases  A00-A09   \n",
       "1   2  A00 - B999  Certain infectious and parasitic diseases  A00-A09   \n",
       "2   3  A00 - B999  Certain infectious and parasitic diseases  A00-A09   \n",
       "\n",
       "              level_2_description   level_3 level_3_description level_4  \\\n",
       "0  Intestinal infectious diseases  A00-A009             Cholera     A00   \n",
       "1  Intestinal infectious diseases  A00-A009             Cholera    A000   \n",
       "2  Intestinal infectious diseases  A00-A009             Cholera    A001   \n",
       "\n",
       "  icd9_mapped_codes                       icd9_description  \\\n",
       "0            No map                                 No map   \n",
       "1              0010         Cholera due to vibrio cholerae   \n",
       "2              0011  Cholera due to vibrio cholerae el tor   \n",
       "\n",
       "                     level_4_short_description_icd10  \\\n",
       "0                                            Cholera   \n",
       "1  Cholera due to Vibrio cholerae 01 biovar cholerae   \n",
       "2     Cholera due to Vibrio cholerae 01 biovar eltor   \n",
       "\n",
       "                      level_4_long_description_icd10   create_ts   update_ts  \n",
       "0                                            Cholera  2017-11-02  2017-11-02  \n",
       "1  Cholera due to Vibrio cholerae 01 biovar cholerae  2017-11-02  2017-11-02  \n",
       "2     Cholera due to Vibrio cholerae 01 biovar eltor  2017-11-02  2017-11-02  "
      ]
     },
     "execution_count": 4,
     "metadata": {},
     "output_type": "execute_result"
    }
   ],
   "source": [
    "snow.select(\"select * from RWD_DB.RWD.ICD_GROUPER limit 3\")"
   ]
  },
  {
   "cell_type": "markdown",
   "metadata": {},
   "source": [
    "## Checking for ADPKD codes"
   ]
  },
  {
   "cell_type": "code",
   "execution_count": 6,
   "metadata": {},
   "outputs": [
    {
     "name": "stdout",
     "output_type": "stream",
     "text": [
      "Query started at 04:35:13 PM India Standard Time; Query executed in 0.06 m"
     ]
    },
    {
     "data": {
      "text/html": [
       "<div>\n",
       "<style scoped>\n",
       "    .dataframe tbody tr th:only-of-type {\n",
       "        vertical-align: middle;\n",
       "    }\n",
       "\n",
       "    .dataframe tbody tr th {\n",
       "        vertical-align: top;\n",
       "    }\n",
       "\n",
       "    .dataframe thead th {\n",
       "        text-align: right;\n",
       "    }\n",
       "</style>\n",
       "<table border=\"1\" class=\"dataframe\">\n",
       "  <thead>\n",
       "    <tr style=\"text-align: right;\">\n",
       "      <th></th>\n",
       "      <th>id</th>\n",
       "      <th>level_1</th>\n",
       "      <th>level_1_description</th>\n",
       "      <th>level_2</th>\n",
       "      <th>level_2_description</th>\n",
       "      <th>level_3</th>\n",
       "      <th>level_3_description</th>\n",
       "      <th>level_4</th>\n",
       "      <th>icd9_mapped_codes</th>\n",
       "      <th>icd9_description</th>\n",
       "      <th>level_4_short_description_icd10</th>\n",
       "      <th>level_4_long_description_icd10</th>\n",
       "      <th>create_ts</th>\n",
       "      <th>update_ts</th>\n",
       "    </tr>\n",
       "  </thead>\n",
       "  <tbody>\n",
       "    <tr>\n",
       "      <th>0</th>\n",
       "      <td>28033</td>\n",
       "      <td>Q00 - Q999</td>\n",
       "      <td>Congenital malformations deformations and chro...</td>\n",
       "      <td>Q60-Q64</td>\n",
       "      <td>Congenital malformations of the urinary system</td>\n",
       "      <td>Q61-Q619</td>\n",
       "      <td>Cystic kidney disease</td>\n",
       "      <td>Q611</td>\n",
       "      <td>No map</td>\n",
       "      <td>No map</td>\n",
       "      <td>Polycystic kidney infantile type</td>\n",
       "      <td>Polycystic kidney infantile type</td>\n",
       "      <td>2017-11-02</td>\n",
       "      <td>2017-11-02</td>\n",
       "    </tr>\n",
       "    <tr>\n",
       "      <th>1</th>\n",
       "      <td>28035</td>\n",
       "      <td>Q00 - Q999</td>\n",
       "      <td>Congenital malformations deformations and chro...</td>\n",
       "      <td>Q60-Q64</td>\n",
       "      <td>Congenital malformations of the urinary system</td>\n",
       "      <td>Q61-Q619</td>\n",
       "      <td>Cystic kidney disease</td>\n",
       "      <td>Q6119</td>\n",
       "      <td>75314</td>\n",
       "      <td>Polycystic kidney autosomal recessive</td>\n",
       "      <td>Other polycystic kidney infantile type</td>\n",
       "      <td>Other polycystic kidney infantile type</td>\n",
       "      <td>2017-11-02</td>\n",
       "      <td>2017-11-02</td>\n",
       "    </tr>\n",
       "    <tr>\n",
       "      <th>2</th>\n",
       "      <td>28036</td>\n",
       "      <td>Q00 - Q999</td>\n",
       "      <td>Congenital malformations deformations and chro...</td>\n",
       "      <td>Q60-Q64</td>\n",
       "      <td>Congenital malformations of the urinary system</td>\n",
       "      <td>Q61-Q619</td>\n",
       "      <td>Cystic kidney disease</td>\n",
       "      <td>Q612</td>\n",
       "      <td>75313</td>\n",
       "      <td>Polycystic kidney autosomal dominant</td>\n",
       "      <td>Polycystic kidney adult type</td>\n",
       "      <td>Polycystic kidney adult type</td>\n",
       "      <td>2017-11-02</td>\n",
       "      <td>2017-11-02</td>\n",
       "    </tr>\n",
       "    <tr>\n",
       "      <th>3</th>\n",
       "      <td>28037</td>\n",
       "      <td>Q00 - Q999</td>\n",
       "      <td>Congenital malformations deformations and chro...</td>\n",
       "      <td>Q60-Q64</td>\n",
       "      <td>Congenital malformations of the urinary system</td>\n",
       "      <td>Q61-Q619</td>\n",
       "      <td>Cystic kidney disease</td>\n",
       "      <td>Q613</td>\n",
       "      <td>75312</td>\n",
       "      <td>Polycystic kidney unspecified type</td>\n",
       "      <td>Polycystic kidney unspecified</td>\n",
       "      <td>Polycystic kidney unspecified</td>\n",
       "      <td>2017-11-02</td>\n",
       "      <td>2017-11-02</td>\n",
       "    </tr>\n",
       "    <tr>\n",
       "      <th>4</th>\n",
       "      <td>93591</td>\n",
       "      <td>Z00 - Z9989</td>\n",
       "      <td>Factors influencing health status and contact ...</td>\n",
       "      <td>Z77-Z99</td>\n",
       "      <td>Persons with potential health hazards related ...</td>\n",
       "      <td>Z82-Z828</td>\n",
       "      <td>Fam hx of certain disabil &amp; chr dis (leading t...</td>\n",
       "      <td>Z8271</td>\n",
       "      <td>V1861</td>\n",
       "      <td>Family history of polycystic kidney</td>\n",
       "      <td>Family history of polycystic kidney</td>\n",
       "      <td>Family history of polycystic kidney</td>\n",
       "      <td>2017-11-02</td>\n",
       "      <td>2017-11-02</td>\n",
       "    </tr>\n",
       "  </tbody>\n",
       "</table>\n",
       "</div>"
      ],
      "text/plain": [
       "      id      level_1                                level_1_description  \\\n",
       "0  28033   Q00 - Q999  Congenital malformations deformations and chro...   \n",
       "1  28035   Q00 - Q999  Congenital malformations deformations and chro...   \n",
       "2  28036   Q00 - Q999  Congenital malformations deformations and chro...   \n",
       "3  28037   Q00 - Q999  Congenital malformations deformations and chro...   \n",
       "4  93591  Z00 - Z9989  Factors influencing health status and contact ...   \n",
       "\n",
       "   level_2                                level_2_description   level_3  \\\n",
       "0  Q60-Q64     Congenital malformations of the urinary system  Q61-Q619   \n",
       "1  Q60-Q64     Congenital malformations of the urinary system  Q61-Q619   \n",
       "2  Q60-Q64     Congenital malformations of the urinary system  Q61-Q619   \n",
       "3  Q60-Q64     Congenital malformations of the urinary system  Q61-Q619   \n",
       "4  Z77-Z99  Persons with potential health hazards related ...  Z82-Z828   \n",
       "\n",
       "                                 level_3_description level_4  \\\n",
       "0                              Cystic kidney disease    Q611   \n",
       "1                              Cystic kidney disease   Q6119   \n",
       "2                              Cystic kidney disease    Q612   \n",
       "3                              Cystic kidney disease    Q613   \n",
       "4  Fam hx of certain disabil & chr dis (leading t...   Z8271   \n",
       "\n",
       "  icd9_mapped_codes                       icd9_description  \\\n",
       "0            No map                                 No map   \n",
       "1             75314  Polycystic kidney autosomal recessive   \n",
       "2             75313   Polycystic kidney autosomal dominant   \n",
       "3             75312     Polycystic kidney unspecified type   \n",
       "4             V1861    Family history of polycystic kidney   \n",
       "\n",
       "          level_4_short_description_icd10  \\\n",
       "0        Polycystic kidney infantile type   \n",
       "1  Other polycystic kidney infantile type   \n",
       "2            Polycystic kidney adult type   \n",
       "3           Polycystic kidney unspecified   \n",
       "4     Family history of polycystic kidney   \n",
       "\n",
       "           level_4_long_description_icd10   create_ts   update_ts  \n",
       "0        Polycystic kidney infantile type  2017-11-02  2017-11-02  \n",
       "1  Other polycystic kidney infantile type  2017-11-02  2017-11-02  \n",
       "2            Polycystic kidney adult type  2017-11-02  2017-11-02  \n",
       "3           Polycystic kidney unspecified  2017-11-02  2017-11-02  \n",
       "4     Family history of polycystic kidney  2017-11-02  2017-11-02  "
      ]
     },
     "execution_count": 6,
     "metadata": {},
     "output_type": "execute_result"
    }
   ],
   "source": [
    "%%read_sql\n",
    "\n",
    "select\n",
    "    *\n",
    "from\n",
    "    RWD_DB.RWD.ICD_GROUPER\n",
    "where\n",
    "    level_4_short_description_icd10 ilike '%polycystic%'\n",
    "    and level_4_short_description_icd10 ilike '%kidney%'\n",
    "    --and level_4_short_description_icd10 ilike '%disease%'"
   ]
  },
  {
   "cell_type": "markdown",
   "metadata": {},
   "source": [
    "## Checking pharmacy records for tovalptan"
   ]
  },
  {
   "cell_type": "code",
   "execution_count": 7,
   "metadata": {},
   "outputs": [
    {
     "data": {
      "text/html": [
       "<div>\n",
       "<style scoped>\n",
       "    .dataframe tbody tr th:only-of-type {\n",
       "        vertical-align: middle;\n",
       "    }\n",
       "\n",
       "    .dataframe tbody tr th {\n",
       "        vertical-align: top;\n",
       "    }\n",
       "\n",
       "    .dataframe thead th {\n",
       "        text-align: right;\n",
       "    }\n",
       "</style>\n",
       "<table border=\"1\" class=\"dataframe\">\n",
       "  <thead>\n",
       "    <tr style=\"text-align: right;\">\n",
       "      <th></th>\n",
       "      <th>amount_attributed_to_sales_tax</th>\n",
       "      <th>amount_exceeding_periodic_benefit_maximum</th>\n",
       "      <th>amount_of_copay_or_coinsurance</th>\n",
       "      <th>basis_of_cost_determination</th>\n",
       "      <th>basis_of_reimbursement_determination</th>\n",
       "      <th>bin_number</th>\n",
       "      <th>cardholder_id</th>\n",
       "      <th>carrier_id</th>\n",
       "      <th>claim_number</th>\n",
       "      <th>claim_or_reference_id</th>\n",
       "      <th>...</th>\n",
       "      <th>unit_of_measure</th>\n",
       "      <th>vendor_id</th>\n",
       "      <th>version_number</th>\n",
       "      <th>date_of_birth</th>\n",
       "      <th>zip3</th>\n",
       "      <th>data_source</th>\n",
       "      <th>load_indicator</th>\n",
       "      <th>inferred_payer_1</th>\n",
       "      <th>inferred_payer_2</th>\n",
       "      <th>inferred_payer_3</th>\n",
       "    </tr>\n",
       "  </thead>\n",
       "  <tbody>\n",
       "    <tr>\n",
       "      <th>0</th>\n",
       "      <td>None</td>\n",
       "      <td>None</td>\n",
       "      <td>39.0</td>\n",
       "      <td>01</td>\n",
       "      <td>03</td>\n",
       "      <td>610011</td>\n",
       "      <td>None</td>\n",
       "      <td>None</td>\n",
       "      <td>3055040809</td>\n",
       "      <td>None</td>\n",
       "      <td>...</td>\n",
       "      <td>EA</td>\n",
       "      <td>1</td>\n",
       "      <td>D0</td>\n",
       "      <td>1945-01-01</td>\n",
       "      <td>342</td>\n",
       "      <td>CONDOR</td>\n",
       "      <td>H</td>\n",
       "      <td>677</td>\n",
       "      <td>NaN</td>\n",
       "      <td>NaN</td>\n",
       "    </tr>\n",
       "    <tr>\n",
       "      <th>1</th>\n",
       "      <td>None</td>\n",
       "      <td>None</td>\n",
       "      <td>45.0</td>\n",
       "      <td>01</td>\n",
       "      <td>03</td>\n",
       "      <td>610502</td>\n",
       "      <td>None</td>\n",
       "      <td>None</td>\n",
       "      <td>3054031436</td>\n",
       "      <td>None</td>\n",
       "      <td>...</td>\n",
       "      <td>None</td>\n",
       "      <td>1</td>\n",
       "      <td>D0</td>\n",
       "      <td>1940-01-01</td>\n",
       "      <td>000000000000000</td>\n",
       "      <td>CONDOR</td>\n",
       "      <td>H</td>\n",
       "      <td>6</td>\n",
       "      <td>NaN</td>\n",
       "      <td>NaN</td>\n",
       "    </tr>\n",
       "    <tr>\n",
       "      <th>2</th>\n",
       "      <td>None</td>\n",
       "      <td>None</td>\n",
       "      <td>3.0</td>\n",
       "      <td>00</td>\n",
       "      <td>13</td>\n",
       "      <td>600428</td>\n",
       "      <td>None</td>\n",
       "      <td>None</td>\n",
       "      <td>3055170065</td>\n",
       "      <td>None</td>\n",
       "      <td>...</td>\n",
       "      <td>EA</td>\n",
       "      <td>1</td>\n",
       "      <td>D0</td>\n",
       "      <td>1974-01-01</td>\n",
       "      <td>563</td>\n",
       "      <td>CONDOR</td>\n",
       "      <td>H</td>\n",
       "      <td>250</td>\n",
       "      <td>251.0</td>\n",
       "      <td>252.0</td>\n",
       "    </tr>\n",
       "  </tbody>\n",
       "</table>\n",
       "<p>3 rows × 121 columns</p>\n",
       "</div>"
      ],
      "text/plain": [
       "  amount_attributed_to_sales_tax amount_exceeding_periodic_benefit_maximum  \\\n",
       "0                           None                                      None   \n",
       "1                           None                                      None   \n",
       "2                           None                                      None   \n",
       "\n",
       "   amount_of_copay_or_coinsurance basis_of_cost_determination  \\\n",
       "0                            39.0                          01   \n",
       "1                            45.0                          01   \n",
       "2                             3.0                          00   \n",
       "\n",
       "  basis_of_reimbursement_determination bin_number cardholder_id carrier_id  \\\n",
       "0                                   03     610011          None       None   \n",
       "1                                   03     610502          None       None   \n",
       "2                                   13     600428          None       None   \n",
       "\n",
       "  claim_number claim_or_reference_id       ...        unit_of_measure  \\\n",
       "0   3055040809                  None       ...                     EA   \n",
       "1   3054031436                  None       ...                   None   \n",
       "2   3055170065                  None       ...                     EA   \n",
       "\n",
       "  vendor_id version_number date_of_birth             zip3 data_source  \\\n",
       "0         1             D0    1945-01-01              342      CONDOR   \n",
       "1         1             D0    1940-01-01  000000000000000      CONDOR   \n",
       "2         1             D0    1974-01-01              563      CONDOR   \n",
       "\n",
       "  load_indicator inferred_payer_1 inferred_payer_2 inferred_payer_3  \n",
       "0              H              677              NaN              NaN  \n",
       "1              H                6              NaN              NaN  \n",
       "2              H              250            251.0            252.0  \n",
       "\n",
       "[3 rows x 121 columns]"
      ]
     },
     "execution_count": 7,
     "metadata": {},
     "output_type": "execute_result"
    }
   ],
   "source": [
    "snow.select(\"select * from RWD_DB.RWD.RAVEN_PHARMACY limit 3\")"
   ]
  },
  {
   "cell_type": "markdown",
   "metadata": {},
   "source": [
    "## Relevant columns from pharmacy table\n",
    "CLAIM_NUMBER,DIAGNOSIS_CODE, date_of_birth, ENCRYPTED_KEY_1, ENCRYPTED_KEY_2, NCPDP_NUMBER, PATIENT_GENDER_CODE, UNIT_DOSE_INDICATOR, DATE_OF_SERVICE, DATE_PRESCRIPTION_WRITTEN"
   ]
  },
  {
   "cell_type": "markdown",
   "metadata": {},
   "source": [
    "## Restricting to diagnosis codes only"
   ]
  },
  {
   "cell_type": "code",
   "execution_count": 28,
   "metadata": {},
   "outputs": [
    {
     "name": "stdout",
     "output_type": "stream",
     "text": [
      "Query started at 08:24:29 PM India Standard Time; Query executed in 8.18 m"
     ]
    },
    {
     "data": {
      "text/html": [
       "<div>\n",
       "<style scoped>\n",
       "    .dataframe tbody tr th:only-of-type {\n",
       "        vertical-align: middle;\n",
       "    }\n",
       "\n",
       "    .dataframe tbody tr th {\n",
       "        vertical-align: top;\n",
       "    }\n",
       "\n",
       "    .dataframe thead th {\n",
       "        text-align: right;\n",
       "    }\n",
       "</style>\n",
       "<table border=\"1\" class=\"dataframe\">\n",
       "  <thead>\n",
       "    <tr style=\"text-align: right;\">\n",
       "      <th></th>\n",
       "      <th>status</th>\n",
       "    </tr>\n",
       "  </thead>\n",
       "  <tbody>\n",
       "    <tr>\n",
       "      <th>0</th>\n",
       "      <td>Table ST_PHARMA_COHORT_A successfully created.</td>\n",
       "    </tr>\n",
       "  </tbody>\n",
       "</table>\n",
       "</div>"
      ],
      "text/plain": [
       "                                           status\n",
       "0  Table ST_PHARMA_COHORT_A successfully created."
      ]
     },
     "execution_count": 28,
     "metadata": {},
     "output_type": "execute_result"
    }
   ],
   "source": [
    "%%read_sql\n",
    "create or replace table st_pharma_cohort_a as\n",
    "select\n",
    "left(encrypted_key_1, 8)||left(encrypted_key_2, 8) as patient_id,\n",
    "left(date_of_service, 4) as service_year,\n",
    "left(DATE_PRESCRIPTION_WRITTEN, 4) as prescription_year,\n",
    "claim_number,\n",
    "diagnosis_code,\n",
    "date_of_birth,\n",
    "PRODUCT_OR_SERVICE_ID,\n",
    "PATIENT_GENDER_CODE, \n",
    "UNIT_DOSE_INDICATOR\n",
    "\n",
    "from\n",
    "RWD_DB.RWD.RAVEN_PHARMACY\n",
    "where\n",
    "diagnosis_code in ('Q611','Q6119', 'Q612', 'Q613', '75314', '75313', '75314')\n",
    "--and PRODUCT_OR_SERVICE_ID in ('5914808707', '5914808728', '5914808807', '5914808828', '5914808907', '5914808928', '5914802050', '5914802150')\n",
    "--and date_of_service > '2015-05-31'\n",
    "--and date_of_service < '2017-07-01'"
   ]
  },
  {
   "cell_type": "code",
   "execution_count": 29,
   "metadata": {},
   "outputs": [
    {
     "data": {
      "text/html": [
       "<div>\n",
       "<style scoped>\n",
       "    .dataframe tbody tr th:only-of-type {\n",
       "        vertical-align: middle;\n",
       "    }\n",
       "\n",
       "    .dataframe tbody tr th {\n",
       "        vertical-align: top;\n",
       "    }\n",
       "\n",
       "    .dataframe thead th {\n",
       "        text-align: right;\n",
       "    }\n",
       "</style>\n",
       "<table border=\"1\" class=\"dataframe\">\n",
       "  <thead>\n",
       "    <tr style=\"text-align: right;\">\n",
       "      <th></th>\n",
       "      <th>COUNT(DISTINCT CLAIM_NUMBER)</th>\n",
       "    </tr>\n",
       "  </thead>\n",
       "  <tbody>\n",
       "    <tr>\n",
       "      <th>0</th>\n",
       "      <td>0</td>\n",
       "    </tr>\n",
       "  </tbody>\n",
       "</table>\n",
       "</div>"
      ],
      "text/plain": [
       "   COUNT(DISTINCT CLAIM_NUMBER)\n",
       "0                             0"
      ]
     },
     "execution_count": 29,
     "metadata": {},
     "output_type": "execute_result"
    }
   ],
   "source": [
    "snow.select(\"select count(distinct claim_number) from st_pharma_cohort_a\")"
   ]
  },
  {
   "cell_type": "code",
   "execution_count": 25,
   "metadata": {},
   "outputs": [
    {
     "data": {
      "text/html": [
       "<div>\n",
       "<style scoped>\n",
       "    .dataframe tbody tr th:only-of-type {\n",
       "        vertical-align: middle;\n",
       "    }\n",
       "\n",
       "    .dataframe tbody tr th {\n",
       "        vertical-align: top;\n",
       "    }\n",
       "\n",
       "    .dataframe thead th {\n",
       "        text-align: right;\n",
       "    }\n",
       "</style>\n",
       "<table border=\"1\" class=\"dataframe\">\n",
       "  <thead>\n",
       "    <tr style=\"text-align: right;\">\n",
       "      <th></th>\n",
       "      <th>COUNT(DISTINCT PATIENT_ID)</th>\n",
       "    </tr>\n",
       "  </thead>\n",
       "  <tbody>\n",
       "    <tr>\n",
       "      <th>0</th>\n",
       "      <td>1214</td>\n",
       "    </tr>\n",
       "  </tbody>\n",
       "</table>\n",
       "</div>"
      ],
      "text/plain": [
       "   COUNT(DISTINCT PATIENT_ID)\n",
       "0                        1214"
      ]
     },
     "execution_count": 25,
     "metadata": {},
     "output_type": "execute_result"
    }
   ],
   "source": [
    "snow.select(\"select count(distinct patient_id) from st_pharma_cohort_a\")"
   ]
  },
  {
   "cell_type": "markdown",
   "metadata": {},
   "source": [
    "## Restricting to diagnosis codes and NDC codes"
   ]
  },
  {
   "cell_type": "code",
   "execution_count": 30,
   "metadata": {},
   "outputs": [
    {
     "name": "stdout",
     "output_type": "stream",
     "text": [
      "Query started at 08:39:42 PM India Standard Time; Query executed in 14.38 m"
     ]
    },
    {
     "data": {
      "text/html": [
       "<div>\n",
       "<style scoped>\n",
       "    .dataframe tbody tr th:only-of-type {\n",
       "        vertical-align: middle;\n",
       "    }\n",
       "\n",
       "    .dataframe tbody tr th {\n",
       "        vertical-align: top;\n",
       "    }\n",
       "\n",
       "    .dataframe thead th {\n",
       "        text-align: right;\n",
       "    }\n",
       "</style>\n",
       "<table border=\"1\" class=\"dataframe\">\n",
       "  <thead>\n",
       "    <tr style=\"text-align: right;\">\n",
       "      <th></th>\n",
       "      <th>status</th>\n",
       "    </tr>\n",
       "  </thead>\n",
       "  <tbody>\n",
       "    <tr>\n",
       "      <th>0</th>\n",
       "      <td>Table ST_PHARMA_COHORT1 successfully created.</td>\n",
       "    </tr>\n",
       "  </tbody>\n",
       "</table>\n",
       "</div>"
      ],
      "text/plain": [
       "                                          status\n",
       "0  Table ST_PHARMA_COHORT1 successfully created."
      ]
     },
     "execution_count": 30,
     "metadata": {},
     "output_type": "execute_result"
    }
   ],
   "source": [
    "%%read_sql\n",
    "create or replace table st_pharma_cohort1 as\n",
    "select\n",
    "left(encrypted_key_1, 8)||left(encrypted_key_2, 8) as patient_id,\n",
    "left(date_of_service, 4) as service_year,\n",
    "left(DATE_PRESCRIPTION_WRITTEN, 4) as prescription_year,\n",
    "claim_number,\n",
    "diagnosis_code,\n",
    "date_of_birth,\n",
    "PRODUCT_OR_SERVICE_ID,\n",
    "PATIENT_GENDER_CODE, \n",
    "UNIT_DOSE_INDICATOR\n",
    "\n",
    "from\n",
    "RWD_DB.RWD.RAVEN_PHARMACY\n",
    "where\n",
    "diagnosis_code in ('Q611','Q6119', 'Q612', 'Q613', '75314', '75313', '75314')\n",
    "and PRODUCT_OR_SERVICE_ID in ('46602002105','75839016905','46602002005','59148002050','59148002150')"
   ]
  },
  {
   "cell_type": "code",
   "execution_count": 31,
   "metadata": {},
   "outputs": [
    {
     "data": {
      "text/html": [
       "<div>\n",
       "<style scoped>\n",
       "    .dataframe tbody tr th:only-of-type {\n",
       "        vertical-align: middle;\n",
       "    }\n",
       "\n",
       "    .dataframe tbody tr th {\n",
       "        vertical-align: top;\n",
       "    }\n",
       "\n",
       "    .dataframe thead th {\n",
       "        text-align: right;\n",
       "    }\n",
       "</style>\n",
       "<table border=\"1\" class=\"dataframe\">\n",
       "  <thead>\n",
       "    <tr style=\"text-align: right;\">\n",
       "      <th></th>\n",
       "      <th>COUNT(DISTINCT CLAIM_NUMBER)</th>\n",
       "    </tr>\n",
       "  </thead>\n",
       "  <tbody>\n",
       "    <tr>\n",
       "      <th>0</th>\n",
       "      <td>31</td>\n",
       "    </tr>\n",
       "  </tbody>\n",
       "</table>\n",
       "</div>"
      ],
      "text/plain": [
       "   COUNT(DISTINCT CLAIM_NUMBER)\n",
       "0                            31"
      ]
     },
     "execution_count": 31,
     "metadata": {},
     "output_type": "execute_result"
    }
   ],
   "source": [
    "snow.select(\"select count(distinct claim_number) from st_pharma_cohort1\")"
   ]
  },
  {
   "cell_type": "markdown",
   "metadata": {},
   "source": [
    "# Checking EHR for ADPKD patients"
   ]
  },
  {
   "cell_type": "code",
   "execution_count": 3,
   "metadata": {},
   "outputs": [
    {
     "name": "stdout",
     "output_type": "stream",
     "text": [
      "Initiating login request with your identity provider. A browser window should have opened for you to complete the login. If you can't see it, check existing browser windows, or your OS settings. Press CTRL+C to abort and try again...\n"
     ]
    },
    {
     "data": {
      "text/html": [
       "<div>\n",
       "<style scoped>\n",
       "    .dataframe tbody tr th:only-of-type {\n",
       "        vertical-align: middle;\n",
       "    }\n",
       "\n",
       "    .dataframe tbody tr th {\n",
       "        vertical-align: top;\n",
       "    }\n",
       "\n",
       "    .dataframe thead th {\n",
       "        text-align: right;\n",
       "    }\n",
       "</style>\n",
       "<table border=\"1\" class=\"dataframe\">\n",
       "  <thead>\n",
       "    <tr style=\"text-align: right;\">\n",
       "      <th></th>\n",
       "      <th>claim_number</th>\n",
       "      <th>encrypted_key_1</th>\n",
       "      <th>encrypted_key_2</th>\n",
       "      <th>procedure_type</th>\n",
       "      <th>procedure</th>\n",
       "      <th>procedure_sequence</th>\n",
       "      <th>line_number</th>\n",
       "      <th>statement_from</th>\n",
       "      <th>statement_to</th>\n",
       "      <th>service_from</th>\n",
       "      <th>...</th>\n",
       "      <th>hglbn_rslt_gm_nbr</th>\n",
       "      <th>hmtcr_rslt_pct</th>\n",
       "      <th>acct_lab_npi_id</th>\n",
       "      <th>eptin_strt_dsg_nbr</th>\n",
       "      <th>crtin_rslt_nbr</th>\n",
       "      <th>upc_cde</th>\n",
       "      <th>data_source</th>\n",
       "      <th>load_indicator</th>\n",
       "      <th>etl_create_ts</th>\n",
       "      <th>etl_update_ts</th>\n",
       "    </tr>\n",
       "  </thead>\n",
       "  <tbody>\n",
       "    <tr>\n",
       "      <th>0</th>\n",
       "      <td>con_EI120516289348214</td>\n",
       "      <td>XSkNeyg2ZLg8vJSgFwHMkugmfFvuoTL8ReNaXdgwnTc=</td>\n",
       "      <td>iWIbh+5zDaMB5O35wDzKYPXsB64cdkgN70OekjDu/4w=</td>\n",
       "      <td>CPT</td>\n",
       "      <td>50590</td>\n",
       "      <td>5</td>\n",
       "      <td>5</td>\n",
       "      <td>2016-11-11</td>\n",
       "      <td>2016-11-11</td>\n",
       "      <td>2016-11-11</td>\n",
       "      <td>...</td>\n",
       "      <td>None</td>\n",
       "      <td>None</td>\n",
       "      <td>None</td>\n",
       "      <td>None</td>\n",
       "      <td>None</td>\n",
       "      <td>None</td>\n",
       "      <td>CONDOR</td>\n",
       "      <td>H</td>\n",
       "      <td>2017-01-12</td>\n",
       "      <td>2017-01-12</td>\n",
       "    </tr>\n",
       "    <tr>\n",
       "      <th>1</th>\n",
       "      <td>con_EP111716737613189</td>\n",
       "      <td>pEOriKSmf+uLGEgzKNJ0RK0zMWk6nIq5brxpMQnvyQQ=</td>\n",
       "      <td>eBjmgkZRGIseWctSwaVG/ehM/RTUJeQY7MGBPiTmSDE=</td>\n",
       "      <td>CPT</td>\n",
       "      <td>50590</td>\n",
       "      <td>1</td>\n",
       "      <td>1</td>\n",
       "      <td>None</td>\n",
       "      <td>None</td>\n",
       "      <td>2016-11-11</td>\n",
       "      <td>...</td>\n",
       "      <td>None</td>\n",
       "      <td>None</td>\n",
       "      <td>None</td>\n",
       "      <td>None</td>\n",
       "      <td>None</td>\n",
       "      <td>None</td>\n",
       "      <td>CONDOR</td>\n",
       "      <td>H</td>\n",
       "      <td>2016-12-12</td>\n",
       "      <td>2016-12-12</td>\n",
       "    </tr>\n",
       "    <tr>\n",
       "      <th>2</th>\n",
       "      <td>con_EI121316219749249</td>\n",
       "      <td>i98xUdfxiW8wD7WkmIgKnVpJhnPujvEM1KxM/6mt0pQ=</td>\n",
       "      <td>FsEAUG4K4vBqCnAMHt6jw5QE9b1q3ZvzjbqNq4dC+Q0=</td>\n",
       "      <td>CPT</td>\n",
       "      <td>50590</td>\n",
       "      <td>6</td>\n",
       "      <td>6</td>\n",
       "      <td>2016-11-11</td>\n",
       "      <td>2016-11-11</td>\n",
       "      <td>2016-11-11</td>\n",
       "      <td>...</td>\n",
       "      <td>None</td>\n",
       "      <td>None</td>\n",
       "      <td>None</td>\n",
       "      <td>None</td>\n",
       "      <td>None</td>\n",
       "      <td>None</td>\n",
       "      <td>CONDOR</td>\n",
       "      <td>H</td>\n",
       "      <td>2017-01-17</td>\n",
       "      <td>2017-01-17</td>\n",
       "    </tr>\n",
       "  </tbody>\n",
       "</table>\n",
       "<p>3 rows × 62 columns</p>\n",
       "</div>"
      ],
      "text/plain": [
       "            claim_number                               encrypted_key_1  \\\n",
       "0  con_EI120516289348214  XSkNeyg2ZLg8vJSgFwHMkugmfFvuoTL8ReNaXdgwnTc=   \n",
       "1  con_EP111716737613189  pEOriKSmf+uLGEgzKNJ0RK0zMWk6nIq5brxpMQnvyQQ=   \n",
       "2  con_EI121316219749249  i98xUdfxiW8wD7WkmIgKnVpJhnPujvEM1KxM/6mt0pQ=   \n",
       "\n",
       "                                encrypted_key_2 procedure_type procedure  \\\n",
       "0  iWIbh+5zDaMB5O35wDzKYPXsB64cdkgN70OekjDu/4w=            CPT     50590   \n",
       "1  eBjmgkZRGIseWctSwaVG/ehM/RTUJeQY7MGBPiTmSDE=            CPT     50590   \n",
       "2  FsEAUG4K4vBqCnAMHt6jw5QE9b1q3ZvzjbqNq4dC+Q0=            CPT     50590   \n",
       "\n",
       "   procedure_sequence  line_number statement_from statement_to service_from  \\\n",
       "0                   5            5     2016-11-11   2016-11-11   2016-11-11   \n",
       "1                   1            1           None         None   2016-11-11   \n",
       "2                   6            6     2016-11-11   2016-11-11   2016-11-11   \n",
       "\n",
       "       ...       hglbn_rslt_gm_nbr hmtcr_rslt_pct acct_lab_npi_id  \\\n",
       "0      ...                    None           None            None   \n",
       "1      ...                    None           None            None   \n",
       "2      ...                    None           None            None   \n",
       "\n",
       "  eptin_strt_dsg_nbr crtin_rslt_nbr upc_cde data_source load_indicator  \\\n",
       "0               None           None    None      CONDOR              H   \n",
       "1               None           None    None      CONDOR              H   \n",
       "2               None           None    None      CONDOR              H   \n",
       "\n",
       "  etl_create_ts  etl_update_ts  \n",
       "0    2017-01-12     2017-01-12  \n",
       "1    2016-12-12     2016-12-12  \n",
       "2    2017-01-17     2017-01-17  \n",
       "\n",
       "[3 rows x 62 columns]"
      ]
     },
     "execution_count": 3,
     "metadata": {},
     "output_type": "execute_result"
    }
   ],
   "source": [
    "snow.select(\"select * from RWD_DB.RWD.RAVEN_CLAIMS_SUBMITS_PROCEDURE limit 3\")"
   ]
  },
  {
   "cell_type": "code",
   "execution_count": 5,
   "metadata": {},
   "outputs": [
    {
     "name": "stdout",
     "output_type": "stream",
     "text": [
      "Query started at 03:53:54 PM India Standard Time; Query executed in 6.50 m"
     ]
    },
    {
     "data": {
      "text/html": [
       "<div>\n",
       "<style scoped>\n",
       "    .dataframe tbody tr th:only-of-type {\n",
       "        vertical-align: middle;\n",
       "    }\n",
       "\n",
       "    .dataframe tbody tr th {\n",
       "        vertical-align: top;\n",
       "    }\n",
       "\n",
       "    .dataframe thead th {\n",
       "        text-align: right;\n",
       "    }\n",
       "</style>\n",
       "<table border=\"1\" class=\"dataframe\">\n",
       "  <thead>\n",
       "    <tr style=\"text-align: right;\">\n",
       "      <th></th>\n",
       "      <th>status</th>\n",
       "    </tr>\n",
       "  </thead>\n",
       "  <tbody>\n",
       "    <tr>\n",
       "      <th>0</th>\n",
       "      <td>Table ST_PHARMA_COHORT successfully created.</td>\n",
       "    </tr>\n",
       "  </tbody>\n",
       "</table>\n",
       "</div>"
      ],
      "text/plain": [
       "                                         status\n",
       "0  Table ST_PHARMA_COHORT successfully created."
      ]
     },
     "execution_count": 5,
     "metadata": {},
     "output_type": "execute_result"
    }
   ],
   "source": [
    "%%read_sql\n",
    "create or replace table st_pharma_cohort as\n",
    "select\n",
    "left(encrypted_key_1, 8)||left(encrypted_key_2, 8) as patient_id,\n",
    "YEAR_OF_SERVICE,\n",
    "claim_number,\n",
    "diagnosis\n",
    "\n",
    "from\n",
    "RWD_DB.RWD.RAVEN_CLAIMS_SUBMITS_DIAGNOSIS\n",
    "\n",
    "where\n",
    "diagnosis in ('Q611','Q6119', 'Q612', 'Q613', '75314', '75313', '75314')\n",
    "--and PRODUCT_OR_SERVICE_ID in ('46602002105','75839016905','46602002005','59148002050','59148002150')"
   ]
  },
  {
   "cell_type": "code",
   "execution_count": null,
   "metadata": {},
   "outputs": [],
   "source": []
  },
  {
   "cell_type": "markdown",
   "metadata": {},
   "source": [
    "# Checking EHR: Albatross for diagnosis"
   ]
  },
  {
   "cell_type": "code",
   "execution_count": 9,
   "metadata": {},
   "outputs": [
    {
     "data": {
      "text/html": [
       "<div>\n",
       "<style scoped>\n",
       "    .dataframe tbody tr th:only-of-type {\n",
       "        vertical-align: middle;\n",
       "    }\n",
       "\n",
       "    .dataframe tbody tr th {\n",
       "        vertical-align: top;\n",
       "    }\n",
       "\n",
       "    .dataframe thead th {\n",
       "        text-align: right;\n",
       "    }\n",
       "</style>\n",
       "<table border=\"1\" class=\"dataframe\">\n",
       "  <thead>\n",
       "    <tr style=\"text-align: right;\">\n",
       "      <th></th>\n",
       "      <th>rectype</th>\n",
       "      <th>rectypeversion</th>\n",
       "      <th>genclientid</th>\n",
       "      <th>gen2clientid</th>\n",
       "      <th>genpatientid</th>\n",
       "      <th>gen2patientid</th>\n",
       "      <th>dobyear</th>\n",
       "      <th>deceasedflag</th>\n",
       "      <th>gender</th>\n",
       "      <th>race</th>\n",
       "      <th>...</th>\n",
       "      <th>state_x</th>\n",
       "      <th>smokingstatusflag</th>\n",
       "      <th>lastupdatedttm</th>\n",
       "      <th>genproviderid</th>\n",
       "      <th>gen2providerid</th>\n",
       "      <th>primarykey</th>\n",
       "      <th>patient_suffix</th>\n",
       "      <th>encrypted_key_1</th>\n",
       "      <th>encrypted_key_2</th>\n",
       "      <th>tier_identifier</th>\n",
       "    </tr>\n",
       "  </thead>\n",
       "  <tbody>\n",
       "    <tr>\n",
       "      <th>0</th>\n",
       "      <td>PAT</td>\n",
       "      <td>5.2</td>\n",
       "      <td>20720</td>\n",
       "      <td>D7B7161B8096C012C4EFC4E0B27273D050D0303B535CE0...</td>\n",
       "      <td>145185657</td>\n",
       "      <td>0D8E6809FA73C8F84E21B2668890B5A1D50E62BE9D9E04...</td>\n",
       "      <td>1965</td>\n",
       "      <td>0</td>\n",
       "      <td>Female</td>\n",
       "      <td>None</td>\n",
       "      <td>...</td>\n",
       "      <td>PA</td>\n",
       "      <td>None</td>\n",
       "      <td>None</td>\n",
       "      <td>4984481</td>\n",
       "      <td>D0BB2DC442ED5DEB1812B3A9837DCFA63CFFCCE779EA57...</td>\n",
       "      <td>428EDA58-820B-4A02-8AD8-944C1F9EE851</td>\n",
       "      <td>7LJ5dGdLZR84hZRfw8pO9KV1rzy8U10wYBcj6s5VNUc=</td>\n",
       "      <td>7LJ5dGdLZR84hZRfw8pO9KV1rzy8U10wYBcj6s5VNUc=</td>\n",
       "      <td>XixEJ9dl/fIWQUL4qif+zcNKupzXURCm4WDkN9zkbk0=</td>\n",
       "      <td>Tier2</td>\n",
       "    </tr>\n",
       "    <tr>\n",
       "      <th>1</th>\n",
       "      <td>PAT</td>\n",
       "      <td>5.2</td>\n",
       "      <td>20711</td>\n",
       "      <td>C03185E9171B2F3E6CE1F6A76C92625C939B7D4701711D...</td>\n",
       "      <td>142221131</td>\n",
       "      <td>1E7FED9712ABE75DCD5CD348E7D318EE32698D14383EF2...</td>\n",
       "      <td>1948</td>\n",
       "      <td>0</td>\n",
       "      <td>Female</td>\n",
       "      <td>White</td>\n",
       "      <td>...</td>\n",
       "      <td>GA</td>\n",
       "      <td>None</td>\n",
       "      <td>None</td>\n",
       "      <td>0</td>\n",
       "      <td>None</td>\n",
       "      <td>3C2FCDB6-23FB-4B98-AF02-DE9AF1D41A9E</td>\n",
       "      <td>Qw1Fs/ZtlV4mja2iNzjykRC+srABsqecRPrKwtS29qg=</td>\n",
       "      <td>Qw1Fs/ZtlV4mja2iNzjykRC+srABsqecRPrKwtS29qg=</td>\n",
       "      <td>1F8QVicTEgaF2mV5usIyznRLKrsJ9BA5Dai8JEjSmNU=</td>\n",
       "      <td>Tier2</td>\n",
       "    </tr>\n",
       "    <tr>\n",
       "      <th>2</th>\n",
       "      <td>PAT</td>\n",
       "      <td>5.2</td>\n",
       "      <td>20720</td>\n",
       "      <td>D7B7161B8096C012C4EFC4E0B27273D050D0303B535CE0...</td>\n",
       "      <td>145073547</td>\n",
       "      <td>3A8D1BFD9330CB35DEACFB77CE7363990CC85DB90D46F4...</td>\n",
       "      <td>1928</td>\n",
       "      <td>0</td>\n",
       "      <td>Male</td>\n",
       "      <td>None</td>\n",
       "      <td>...</td>\n",
       "      <td>PA</td>\n",
       "      <td>None</td>\n",
       "      <td>None</td>\n",
       "      <td>4984499</td>\n",
       "      <td>E9460F07A3B784F21E68615D27A5DEA43676C8BB3B21B4...</td>\n",
       "      <td>A17A279A-71EB-404E-A950-3EB7172A1065</td>\n",
       "      <td>+CzFkC0M2mFaa39nrB2Ay6Ck1eGEyVgCV535cyeVOhk=</td>\n",
       "      <td>+CzFkC0M2mFaa39nrB2Ay6Ck1eGEyVgCV535cyeVOhk=</td>\n",
       "      <td>8M1kcecDuge2Lk1aoX3284ID1VfPGfutnJ3lhZMq9Qg=</td>\n",
       "      <td>Tier2</td>\n",
       "    </tr>\n",
       "  </tbody>\n",
       "</table>\n",
       "<p>3 rows × 22 columns</p>\n",
       "</div>"
      ],
      "text/plain": [
       "  rectype rectypeversion  genclientid  \\\n",
       "0     PAT            5.2        20720   \n",
       "1     PAT            5.2        20711   \n",
       "2     PAT            5.2        20720   \n",
       "\n",
       "                                        gen2clientid  genpatientid  \\\n",
       "0  D7B7161B8096C012C4EFC4E0B27273D050D0303B535CE0...     145185657   \n",
       "1  C03185E9171B2F3E6CE1F6A76C92625C939B7D4701711D...     142221131   \n",
       "2  D7B7161B8096C012C4EFC4E0B27273D050D0303B535CE0...     145073547   \n",
       "\n",
       "                                       gen2patientid  dobyear deceasedflag  \\\n",
       "0  0D8E6809FA73C8F84E21B2668890B5A1D50E62BE9D9E04...     1965            0   \n",
       "1  1E7FED9712ABE75DCD5CD348E7D318EE32698D14383EF2...     1948            0   \n",
       "2  3A8D1BFD9330CB35DEACFB77CE7363990CC85DB90D46F4...     1928            0   \n",
       "\n",
       "   gender   race       ...       state_x smokingstatusflag lastupdatedttm  \\\n",
       "0  Female   None       ...            PA              None           None   \n",
       "1  Female  White       ...            GA              None           None   \n",
       "2    Male   None       ...            PA              None           None   \n",
       "\n",
       "  genproviderid                                     gen2providerid  \\\n",
       "0       4984481  D0BB2DC442ED5DEB1812B3A9837DCFA63CFFCCE779EA57...   \n",
       "1             0                                               None   \n",
       "2       4984499  E9460F07A3B784F21E68615D27A5DEA43676C8BB3B21B4...   \n",
       "\n",
       "                             primarykey  \\\n",
       "0  428EDA58-820B-4A02-8AD8-944C1F9EE851   \n",
       "1  3C2FCDB6-23FB-4B98-AF02-DE9AF1D41A9E   \n",
       "2  A17A279A-71EB-404E-A950-3EB7172A1065   \n",
       "\n",
       "                                 patient_suffix  \\\n",
       "0  7LJ5dGdLZR84hZRfw8pO9KV1rzy8U10wYBcj6s5VNUc=   \n",
       "1  Qw1Fs/ZtlV4mja2iNzjykRC+srABsqecRPrKwtS29qg=   \n",
       "2  +CzFkC0M2mFaa39nrB2Ay6Ck1eGEyVgCV535cyeVOhk=   \n",
       "\n",
       "                                encrypted_key_1  \\\n",
       "0  7LJ5dGdLZR84hZRfw8pO9KV1rzy8U10wYBcj6s5VNUc=   \n",
       "1  Qw1Fs/ZtlV4mja2iNzjykRC+srABsqecRPrKwtS29qg=   \n",
       "2  +CzFkC0M2mFaa39nrB2Ay6Ck1eGEyVgCV535cyeVOhk=   \n",
       "\n",
       "                                encrypted_key_2 tier_identifier  \n",
       "0  XixEJ9dl/fIWQUL4qif+zcNKupzXURCm4WDkN9zkbk0=           Tier2  \n",
       "1  1F8QVicTEgaF2mV5usIyznRLKrsJ9BA5Dai8JEjSmNU=           Tier2  \n",
       "2  8M1kcecDuge2Lk1aoX3284ID1VfPGfutnJ3lhZMq9Qg=           Tier2  \n",
       "\n",
       "[3 rows x 22 columns]"
      ]
     },
     "execution_count": 9,
     "metadata": {},
     "output_type": "execute_result"
    }
   ],
   "source": [
    "snow.select(\"select * from RWD_DB.RWD.albatross_EHR_patients limit 3\")"
   ]
  },
  {
   "cell_type": "code",
   "execution_count": 15,
   "metadata": {},
   "outputs": [
    {
     "name": "stdout",
     "output_type": "stream",
     "text": [
      "Query started at 04:36:36 PM India Standard Time; Query executed in 3.70 m"
     ]
    },
    {
     "data": {
      "text/html": [
       "<div>\n",
       "<style scoped>\n",
       "    .dataframe tbody tr th:only-of-type {\n",
       "        vertical-align: middle;\n",
       "    }\n",
       "\n",
       "    .dataframe tbody tr th {\n",
       "        vertical-align: top;\n",
       "    }\n",
       "\n",
       "    .dataframe thead th {\n",
       "        text-align: right;\n",
       "    }\n",
       "</style>\n",
       "<table border=\"1\" class=\"dataframe\">\n",
       "  <thead>\n",
       "    <tr style=\"text-align: right;\">\n",
       "      <th></th>\n",
       "      <th>status</th>\n",
       "    </tr>\n",
       "  </thead>\n",
       "  <tbody>\n",
       "    <tr>\n",
       "      <th>0</th>\n",
       "      <td>Table ST_ADPKD1 successfully created.</td>\n",
       "    </tr>\n",
       "  </tbody>\n",
       "</table>\n",
       "</div>"
      ],
      "text/plain": [
       "                                  status\n",
       "0  Table ST_ADPKD1 successfully created."
      ]
     },
     "execution_count": 15,
     "metadata": {},
     "output_type": "execute_result"
    }
   ],
   "source": [
    "\n",
    "%%read_sql\n",
    "create or replace table st_adpkd1 as\n",
    "select \n",
    "    left(encrypted_key_1, 8)||left(encrypted_key_2, 8) as patient_id,\n",
    "    icd9,\n",
    "    HIPAA_ICD9,\n",
    "    icd10,\n",
    "    HIPAA_ICD10,\n",
    "    recordeddttm,\n",
    "    left(recordeddttm, 4) as year\n",
    "    \n",
    "from RWD_DB.RWD.albatross_EHR_problems\n",
    "where \n",
    "   icd10 in ('Q611','Q6119', 'Q612', 'Q613')\n",
    "or ICD9 in ('75314', '75313', '75314')"
   ]
  },
  {
   "cell_type": "markdown",
   "metadata": {},
   "source": [
    "## Grouping albatross information"
   ]
  },
  {
   "cell_type": "code",
   "execution_count": 16,
   "metadata": {},
   "outputs": [
    {
     "data": {
      "text/html": [
       "<div>\n",
       "<style scoped>\n",
       "    .dataframe tbody tr th:only-of-type {\n",
       "        vertical-align: middle;\n",
       "    }\n",
       "\n",
       "    .dataframe tbody tr th {\n",
       "        vertical-align: top;\n",
       "    }\n",
       "\n",
       "    .dataframe thead th {\n",
       "        text-align: right;\n",
       "    }\n",
       "</style>\n",
       "<table border=\"1\" class=\"dataframe\">\n",
       "  <thead>\n",
       "    <tr style=\"text-align: right;\">\n",
       "      <th></th>\n",
       "      <th>COUNT (DISTINCT PATIENT_ID)</th>\n",
       "    </tr>\n",
       "  </thead>\n",
       "  <tbody>\n",
       "    <tr>\n",
       "      <th>0</th>\n",
       "      <td>20530</td>\n",
       "    </tr>\n",
       "  </tbody>\n",
       "</table>\n",
       "</div>"
      ],
      "text/plain": [
       "   COUNT (DISTINCT PATIENT_ID)\n",
       "0                        20530"
      ]
     },
     "execution_count": 16,
     "metadata": {},
     "output_type": "execute_result"
    }
   ],
   "source": [
    "snow.select (\"select count (distinct patient_id) from st_adpkd1\")"
   ]
  },
  {
   "cell_type": "markdown",
   "metadata": {},
   "source": [
    "# Raven medical claims\n",
    "Using medical claims because of better coverage and completeness of records"
   ]
  },
  {
   "cell_type": "markdown",
   "metadata": {},
   "source": [
    "## Fetching relevant diagnosis patients from the diagnosis table\n",
    "('Q611','Q6119', 'Q612', 'Q613', '75314', '75313', '75314')"
   ]
  },
  {
   "cell_type": "code",
   "execution_count": 17,
   "metadata": {},
   "outputs": [
    {
     "name": "stdout",
     "output_type": "stream",
     "text": [
      "Query started at 04:47:40 PM India Standard Time; Query executed in 8.89 m"
     ]
    },
    {
     "data": {
      "text/html": [
       "<div>\n",
       "<style scoped>\n",
       "    .dataframe tbody tr th:only-of-type {\n",
       "        vertical-align: middle;\n",
       "    }\n",
       "\n",
       "    .dataframe tbody tr th {\n",
       "        vertical-align: top;\n",
       "    }\n",
       "\n",
       "    .dataframe thead th {\n",
       "        text-align: right;\n",
       "    }\n",
       "</style>\n",
       "<table border=\"1\" class=\"dataframe\">\n",
       "  <thead>\n",
       "    <tr style=\"text-align: right;\">\n",
       "      <th></th>\n",
       "      <th>status</th>\n",
       "    </tr>\n",
       "  </thead>\n",
       "  <tbody>\n",
       "    <tr>\n",
       "      <th>0</th>\n",
       "      <td>Table ST_ADPKD_DIAG successfully created.</td>\n",
       "    </tr>\n",
       "  </tbody>\n",
       "</table>\n",
       "</div>"
      ],
      "text/plain": [
       "                                      status\n",
       "0  Table ST_ADPKD_DIAG successfully created."
      ]
     },
     "execution_count": 17,
     "metadata": {},
     "output_type": "execute_result"
    }
   ],
   "source": [
    "%%read_sql\n",
    "create or replace table ST_ADPKD_diag as\n",
    "select\n",
    "left(encrypted_key_1, 8)||left(encrypted_key_2, 8) as patient_id,\n",
    "claim_number,\n",
    "diagnosis,\n",
    "diagnosis_sequence,\n",
    "year_of_service\n",
    "from\n",
    "RWD_DB.RWD.RAVEN_CLAIMS_SUBMITS_DIAGNOSIS\n",
    "where\n",
    "diagnosis in ('Q611','Q6119', 'Q612', 'Q613', '75314', '75313', '75314')\n",
    "and year_of_service > '2016-12-31'\n",
    "and year_of_service < '2018-01-01'"
   ]
  },
  {
   "cell_type": "code",
   "execution_count": 18,
   "metadata": {},
   "outputs": [
    {
     "data": {
      "text/html": [
       "<div>\n",
       "<style scoped>\n",
       "    .dataframe tbody tr th:only-of-type {\n",
       "        vertical-align: middle;\n",
       "    }\n",
       "\n",
       "    .dataframe tbody tr th {\n",
       "        vertical-align: top;\n",
       "    }\n",
       "\n",
       "    .dataframe thead th {\n",
       "        text-align: right;\n",
       "    }\n",
       "</style>\n",
       "<table border=\"1\" class=\"dataframe\">\n",
       "  <thead>\n",
       "    <tr style=\"text-align: right;\">\n",
       "      <th></th>\n",
       "      <th>COUNT (DISTINCT PATIENT_ID)</th>\n",
       "    </tr>\n",
       "  </thead>\n",
       "  <tbody>\n",
       "    <tr>\n",
       "      <th>0</th>\n",
       "      <td>61885</td>\n",
       "    </tr>\n",
       "  </tbody>\n",
       "</table>\n",
       "</div>"
      ],
      "text/plain": [
       "   COUNT (DISTINCT PATIENT_ID)\n",
       "0                        61885"
      ]
     },
     "execution_count": 18,
     "metadata": {},
     "output_type": "execute_result"
    }
   ],
   "source": [
    "snow.select (\"select count (distinct patient_id) from ST_ADPKD_diag\")"
   ]
  },
  {
   "cell_type": "markdown",
   "metadata": {},
   "source": [
    "## Fetch patients matching the diag/claim in diag table"
   ]
  },
  {
   "cell_type": "code",
   "execution_count": 21,
   "metadata": {},
   "outputs": [
    {
     "name": "stdout",
     "output_type": "stream",
     "text": [
      "Query started at 05:07:33 PM India Standard Time; Query executed in 2.43 m"
     ]
    },
    {
     "data": {
      "text/html": [
       "<div>\n",
       "<style scoped>\n",
       "    .dataframe tbody tr th:only-of-type {\n",
       "        vertical-align: middle;\n",
       "    }\n",
       "\n",
       "    .dataframe tbody tr th {\n",
       "        vertical-align: top;\n",
       "    }\n",
       "\n",
       "    .dataframe thead th {\n",
       "        text-align: right;\n",
       "    }\n",
       "</style>\n",
       "<table border=\"1\" class=\"dataframe\">\n",
       "  <thead>\n",
       "    <tr style=\"text-align: right;\">\n",
       "      <th></th>\n",
       "      <th>status</th>\n",
       "    </tr>\n",
       "  </thead>\n",
       "  <tbody>\n",
       "    <tr>\n",
       "      <th>0</th>\n",
       "      <td>Table ST_ADPKD_PTS successfully created.</td>\n",
       "    </tr>\n",
       "  </tbody>\n",
       "</table>\n",
       "</div>"
      ],
      "text/plain": [
       "                                     status\n",
       "0  Table ST_ADPKD_PTS successfully created."
      ]
     },
     "execution_count": 21,
     "metadata": {},
     "output_type": "execute_result"
    }
   ],
   "source": [
    "%%read_sql\n",
    "create or replace table ST_ADPKD_pts as\n",
    "select\n",
    "'XXXXXXXXXXXXXXXX' as patient_id,\n",
    "claim_number,\n",
    "patient_gender,\n",
    "patient_dob\n",
    "from RWD_DB.RWD.RAVEN_CLAIMS_SUBMITS_PATIENT \n",
    "where patient_dob > '2014-12-31'"
   ]
  },
  {
   "cell_type": "code",
   "execution_count": 22,
   "metadata": {},
   "outputs": [
    {
     "name": "stdout",
     "output_type": "stream",
     "text": [
      "Query started at 05:10:31 PM India Standard Time; Query executed in 0.05 mQuery started at 05:10:34 PM India Standard Time; Query executed in 0.10 mQuery started at 05:10:40 PM India Standard Time; Query executed in 0.04 m"
     ]
    },
    {
     "data": {
      "text/html": [
       "<div>\n",
       "<style scoped>\n",
       "    .dataframe tbody tr th:only-of-type {\n",
       "        vertical-align: middle;\n",
       "    }\n",
       "\n",
       "    .dataframe tbody tr th {\n",
       "        vertical-align: top;\n",
       "    }\n",
       "\n",
       "    .dataframe thead th {\n",
       "        text-align: right;\n",
       "    }\n",
       "</style>\n",
       "<table border=\"1\" class=\"dataframe\">\n",
       "  <thead>\n",
       "    <tr style=\"text-align: right;\">\n",
       "      <th></th>\n",
       "      <th>status</th>\n",
       "    </tr>\n",
       "  </thead>\n",
       "  <tbody>\n",
       "    <tr>\n",
       "      <th>0</th>\n",
       "      <td>Statement executed successfully.</td>\n",
       "    </tr>\n",
       "  </tbody>\n",
       "</table>\n",
       "</div>"
      ],
      "text/plain": [
       "                             status\n",
       "0  Statement executed successfully."
      ]
     },
     "execution_count": 22,
     "metadata": {},
     "output_type": "execute_result"
    }
   ],
   "source": [
    "%%read_sql\n",
    "begin;\n",
    "update ST_ADPKD_diag a\n",
    "set a.patient_id = b.patient_id\n",
    "from ST_ADPKD_pts b\n",
    "where a.claim_number = b.claim_number;\n",
    "commit;"
   ]
  },
  {
   "cell_type": "code",
   "execution_count": 23,
   "metadata": {},
   "outputs": [
    {
     "name": "stdout",
     "output_type": "stream",
     "text": [
      "Query started at 05:11:25 PM India Standard Time; Query executed in 0.05 m"
     ]
    },
    {
     "data": {
      "text/html": [
       "<div>\n",
       "<style scoped>\n",
       "    .dataframe tbody tr th:only-of-type {\n",
       "        vertical-align: middle;\n",
       "    }\n",
       "\n",
       "    .dataframe tbody tr th {\n",
       "        vertical-align: top;\n",
       "    }\n",
       "\n",
       "    .dataframe thead th {\n",
       "        text-align: right;\n",
       "    }\n",
       "</style>\n",
       "<table border=\"1\" class=\"dataframe\">\n",
       "  <thead>\n",
       "    <tr style=\"text-align: right;\">\n",
       "      <th></th>\n",
       "      <th>COUNT(PATIENT_ID)</th>\n",
       "      <th>COUNT(DISTINCT PATIENT_ID)</th>\n",
       "      <th>null_pt_id</th>\n",
       "      <th>faulty_pt_id</th>\n",
       "    </tr>\n",
       "  </thead>\n",
       "  <tbody>\n",
       "    <tr>\n",
       "      <th>0</th>\n",
       "      <td>223518</td>\n",
       "      <td>61120</td>\n",
       "      <td>4070</td>\n",
       "      <td>4353</td>\n",
       "    </tr>\n",
       "  </tbody>\n",
       "</table>\n",
       "</div>"
      ],
      "text/plain": [
       "   COUNT(PATIENT_ID)  COUNT(DISTINCT PATIENT_ID)  null_pt_id  faulty_pt_id\n",
       "0             223518                       61120        4070          4353"
      ]
     },
     "execution_count": 23,
     "metadata": {},
     "output_type": "execute_result"
    }
   ],
   "source": [
    "%%read_sql\n",
    "select\n",
    "count(patient_id),\n",
    "count(distinct patient_id),\n",
    "sum(case\n",
    "when patient_id = 'XXXXXXXXXXXXXXXX'\n",
    "then 1\n",
    "else 0\n",
    "end) as null_pt_id,\n",
    "sum(case\n",
    "when left(patient_id, 5) = 'XXX -'\n",
    "then 1\n",
    "else 0\n",
    "end) as faulty_pt_id\n",
    "from ST_ADPKD_diag"
   ]
  },
  {
   "cell_type": "markdown",
   "metadata": {},
   "source": [
    "## Pharmacy table relevant columns"
   ]
  },
  {
   "cell_type": "code",
   "execution_count": 25,
   "metadata": {},
   "outputs": [
    {
     "name": "stdout",
     "output_type": "stream",
     "text": [
      "Query started at 05:26:31 PM India Standard TimeInitiating login request with your identity provider. A browser window should have opened for you to complete the login. If you can't see it, check existing browser windows, or your OS settings. Press CTRL+C to abort and try again...\n",
      "; Query executed in 2.55 m"
     ]
    },
    {
     "data": {
      "text/html": [
       "<div>\n",
       "<style scoped>\n",
       "    .dataframe tbody tr th:only-of-type {\n",
       "        vertical-align: middle;\n",
       "    }\n",
       "\n",
       "    .dataframe tbody tr th {\n",
       "        vertical-align: top;\n",
       "    }\n",
       "\n",
       "    .dataframe thead th {\n",
       "        text-align: right;\n",
       "    }\n",
       "</style>\n",
       "<table border=\"1\" class=\"dataframe\">\n",
       "  <thead>\n",
       "    <tr style=\"text-align: right;\">\n",
       "      <th></th>\n",
       "      <th>status</th>\n",
       "    </tr>\n",
       "  </thead>\n",
       "  <tbody>\n",
       "    <tr>\n",
       "      <th>0</th>\n",
       "      <td>Table ST_ADPKD_PHARMA successfully created.</td>\n",
       "    </tr>\n",
       "  </tbody>\n",
       "</table>\n",
       "</div>"
      ],
      "text/plain": [
       "                                        status\n",
       "0  Table ST_ADPKD_PHARMA successfully created."
      ]
     },
     "execution_count": 25,
     "metadata": {},
     "output_type": "execute_result"
    }
   ],
   "source": [
    "%%read_sql\n",
    "create or replace table ST_ADPKD_PHARMA as\n",
    "select\n",
    "'XXXXXXXXXXXXXXXX' as patient_id,\n",
    "claim_number,\n",
    "PRODUCT_OR_SERVICE_ID\n",
    "\n",
    "from RWD_DB.RWD.RAVEN_PHARMACY\n",
    "\n",
    "where claim_number in (select distinct claim_number from ST_ADPKD_diag)\n",
    "and PRODUCT_OR_SERVICE_ID in ('46602002105','75839016905','46602002005','59148002050','59148002150')"
   ]
  },
  {
   "cell_type": "markdown",
   "metadata": {},
   "source": [
    "## Updating diagnosis table"
   ]
  },
  {
   "cell_type": "code",
   "execution_count": 26,
   "metadata": {},
   "outputs": [
    {
     "name": "stdout",
     "output_type": "stream",
     "text": [
      "Query started at 05:30:38 PM India Standard Time; Query executed in 0.04 mQuery started at 05:30:41 PM India Standard Time; Query executed in 0.05 mQuery started at 05:30:44 PM India Standard Time; Query executed in 0.14 m"
     ]
    },
    {
     "data": {
      "text/html": [
       "<div>\n",
       "<style scoped>\n",
       "    .dataframe tbody tr th:only-of-type {\n",
       "        vertical-align: middle;\n",
       "    }\n",
       "\n",
       "    .dataframe tbody tr th {\n",
       "        vertical-align: top;\n",
       "    }\n",
       "\n",
       "    .dataframe thead th {\n",
       "        text-align: right;\n",
       "    }\n",
       "</style>\n",
       "<table border=\"1\" class=\"dataframe\">\n",
       "  <thead>\n",
       "    <tr style=\"text-align: right;\">\n",
       "      <th></th>\n",
       "      <th>status</th>\n",
       "    </tr>\n",
       "  </thead>\n",
       "  <tbody>\n",
       "    <tr>\n",
       "      <th>0</th>\n",
       "      <td>Statement executed successfully.</td>\n",
       "    </tr>\n",
       "  </tbody>\n",
       "</table>\n",
       "</div>"
      ],
      "text/plain": [
       "                             status\n",
       "0  Statement executed successfully."
      ]
     },
     "execution_count": 26,
     "metadata": {},
     "output_type": "execute_result"
    }
   ],
   "source": [
    "%%read_sql\n",
    "begin;\n",
    "update ST_ADPKD_diag a\n",
    "set a.patient_id = b.patient_id\n",
    "from ST_ADPKD_PHARMA b\n",
    "where a.claim_number = b.claim_number;\n",
    "commit;"
   ]
  },
  {
   "cell_type": "code",
   "execution_count": 27,
   "metadata": {},
   "outputs": [
    {
     "name": "stdout",
     "output_type": "stream",
     "text": [
      "Query started at 05:30:53 PM India Standard Time; Query executed in 0.08 m"
     ]
    },
    {
     "data": {
      "text/html": [
       "<div>\n",
       "<style scoped>\n",
       "    .dataframe tbody tr th:only-of-type {\n",
       "        vertical-align: middle;\n",
       "    }\n",
       "\n",
       "    .dataframe tbody tr th {\n",
       "        vertical-align: top;\n",
       "    }\n",
       "\n",
       "    .dataframe thead th {\n",
       "        text-align: right;\n",
       "    }\n",
       "</style>\n",
       "<table border=\"1\" class=\"dataframe\">\n",
       "  <thead>\n",
       "    <tr style=\"text-align: right;\">\n",
       "      <th></th>\n",
       "      <th>COUNT(PATIENT_ID)</th>\n",
       "      <th>COUNT(DISTINCT PATIENT_ID)</th>\n",
       "      <th>null_pt_id</th>\n",
       "      <th>faulty_pt_id</th>\n",
       "    </tr>\n",
       "  </thead>\n",
       "  <tbody>\n",
       "    <tr>\n",
       "      <th>0</th>\n",
       "      <td>223518</td>\n",
       "      <td>61120</td>\n",
       "      <td>4070</td>\n",
       "      <td>4353</td>\n",
       "    </tr>\n",
       "  </tbody>\n",
       "</table>\n",
       "</div>"
      ],
      "text/plain": [
       "   COUNT(PATIENT_ID)  COUNT(DISTINCT PATIENT_ID)  null_pt_id  faulty_pt_id\n",
       "0             223518                       61120        4070          4353"
      ]
     },
     "execution_count": 27,
     "metadata": {},
     "output_type": "execute_result"
    }
   ],
   "source": [
    "%%read_sql\n",
    "select\n",
    "count(patient_id),\n",
    "count(distinct patient_id),\n",
    "sum(case\n",
    "when patient_id = 'XXXXXXXXXXXXXXXX'\n",
    "then 1\n",
    "else 0\n",
    "end) as null_pt_id,\n",
    "sum(case\n",
    "when left(patient_id, 5) = 'XXX -'\n",
    "then 1\n",
    "else 0\n",
    "end) as faulty_pt_id\n",
    "from ST_ADPKD_diag"
   ]
  },
  {
   "cell_type": "markdown",
   "metadata": {},
   "source": [
    "## Final counts"
   ]
  },
  {
   "cell_type": "code",
   "execution_count": 28,
   "metadata": {},
   "outputs": [
    {
     "data": {
      "text/html": [
       "<div>\n",
       "<style scoped>\n",
       "    .dataframe tbody tr th:only-of-type {\n",
       "        vertical-align: middle;\n",
       "    }\n",
       "\n",
       "    .dataframe tbody tr th {\n",
       "        vertical-align: top;\n",
       "    }\n",
       "\n",
       "    .dataframe thead th {\n",
       "        text-align: right;\n",
       "    }\n",
       "</style>\n",
       "<table border=\"1\" class=\"dataframe\">\n",
       "  <thead>\n",
       "    <tr style=\"text-align: right;\">\n",
       "      <th></th>\n",
       "      <th>patient_id</th>\n",
       "      <th>claim_number</th>\n",
       "      <th>diagnosis</th>\n",
       "      <th>diagnosis_sequence</th>\n",
       "      <th>year_of_service</th>\n",
       "    </tr>\n",
       "  </thead>\n",
       "  <tbody>\n",
       "    <tr>\n",
       "      <th>0</th>\n",
       "      <td>uKjXyaManSvAYplx</td>\n",
       "      <td>295698000000204945</td>\n",
       "      <td>Q613</td>\n",
       "      <td>1</td>\n",
       "      <td>2017-09-30</td>\n",
       "    </tr>\n",
       "    <tr>\n",
       "      <th>1</th>\n",
       "      <td>WuyNuKiItsqe9Sai</td>\n",
       "      <td>con_EP062718764334324</td>\n",
       "      <td>Q613</td>\n",
       "      <td>2</td>\n",
       "      <td>2017-07-24</td>\n",
       "    </tr>\n",
       "    <tr>\n",
       "      <th>2</th>\n",
       "      <td>Vw+aqQVqoTyJp6RZ</td>\n",
       "      <td>295625000000414235</td>\n",
       "      <td>Q613</td>\n",
       "      <td>6</td>\n",
       "      <td>2017-10-29</td>\n",
       "    </tr>\n",
       "    <tr>\n",
       "      <th>3</th>\n",
       "      <td>SO6IBInaXZAPT1C1</td>\n",
       "      <td>vul_95d41e26-2786-44e8-bc95-2fd31e6034fd</td>\n",
       "      <td>Q612</td>\n",
       "      <td>2</td>\n",
       "      <td>2017-04-13</td>\n",
       "    </tr>\n",
       "    <tr>\n",
       "      <th>4</th>\n",
       "      <td>sqyPWk2GogYuxxCE</td>\n",
       "      <td>vul_cbafea1f-cb67-4df1-beea-7c40d57ca5cf</td>\n",
       "      <td>Q613</td>\n",
       "      <td>2</td>\n",
       "      <td>2017-04-02</td>\n",
       "    </tr>\n",
       "  </tbody>\n",
       "</table>\n",
       "</div>"
      ],
      "text/plain": [
       "         patient_id                              claim_number diagnosis  \\\n",
       "0  uKjXyaManSvAYplx                        295698000000204945      Q613   \n",
       "1  WuyNuKiItsqe9Sai                     con_EP062718764334324      Q613   \n",
       "2  Vw+aqQVqoTyJp6RZ                        295625000000414235      Q613   \n",
       "3  SO6IBInaXZAPT1C1  vul_95d41e26-2786-44e8-bc95-2fd31e6034fd      Q612   \n",
       "4  sqyPWk2GogYuxxCE  vul_cbafea1f-cb67-4df1-beea-7c40d57ca5cf      Q613   \n",
       "\n",
       "  diagnosis_sequence year_of_service  \n",
       "0                  1      2017-09-30  \n",
       "1                  2      2017-07-24  \n",
       "2                  6      2017-10-29  \n",
       "3                  2      2017-04-13  \n",
       "4                  2      2017-04-02  "
      ]
     },
     "execution_count": 28,
     "metadata": {},
     "output_type": "execute_result"
    }
   ],
   "source": [
    "snow.select (\"select * from ST_ADPKD_diag limit 5\")"
   ]
  },
  {
   "cell_type": "code",
   "execution_count": 30,
   "metadata": {},
   "outputs": [
    {
     "data": {
      "text/html": [
       "<div>\n",
       "<style scoped>\n",
       "    .dataframe tbody tr th:only-of-type {\n",
       "        vertical-align: middle;\n",
       "    }\n",
       "\n",
       "    .dataframe tbody tr th {\n",
       "        vertical-align: top;\n",
       "    }\n",
       "\n",
       "    .dataframe thead th {\n",
       "        text-align: right;\n",
       "    }\n",
       "</style>\n",
       "<table border=\"1\" class=\"dataframe\">\n",
       "  <thead>\n",
       "    <tr style=\"text-align: right;\">\n",
       "      <th></th>\n",
       "      <th>patient_id</th>\n",
       "      <th>claim_number</th>\n",
       "      <th>patient_gender</th>\n",
       "      <th>patient_dob</th>\n",
       "    </tr>\n",
       "  </thead>\n",
       "  <tbody>\n",
       "    <tr>\n",
       "      <th>0</th>\n",
       "      <td>XXXXXXXXXXXXXXXX</td>\n",
       "      <td>vul_591167965</td>\n",
       "      <td>M</td>\n",
       "      <td>2017-01-01</td>\n",
       "    </tr>\n",
       "    <tr>\n",
       "      <th>1</th>\n",
       "      <td>XXXXXXXXXXXXXXXX</td>\n",
       "      <td>con_EP061316715177348</td>\n",
       "      <td>M</td>\n",
       "      <td>2016-01-01</td>\n",
       "    </tr>\n",
       "    <tr>\n",
       "      <th>2</th>\n",
       "      <td>XXXXXXXXXXXXXXXX</td>\n",
       "      <td>con_EP021717735411680</td>\n",
       "      <td>F</td>\n",
       "      <td>2017-01-01</td>\n",
       "    </tr>\n",
       "    <tr>\n",
       "      <th>3</th>\n",
       "      <td>XXXXXXXXXXXXXXXX</td>\n",
       "      <td>con_EP122215743506481</td>\n",
       "      <td>M</td>\n",
       "      <td>2015-01-01</td>\n",
       "    </tr>\n",
       "    <tr>\n",
       "      <th>4</th>\n",
       "      <td>XXXXXXXXXXXXXXXX</td>\n",
       "      <td>con_EI062515271173154</td>\n",
       "      <td>M</td>\n",
       "      <td>2015-01-01</td>\n",
       "    </tr>\n",
       "  </tbody>\n",
       "</table>\n",
       "</div>"
      ],
      "text/plain": [
       "         patient_id           claim_number patient_gender patient_dob\n",
       "0  XXXXXXXXXXXXXXXX          vul_591167965              M  2017-01-01\n",
       "1  XXXXXXXXXXXXXXXX  con_EP061316715177348              M  2016-01-01\n",
       "2  XXXXXXXXXXXXXXXX  con_EP021717735411680              F  2017-01-01\n",
       "3  XXXXXXXXXXXXXXXX  con_EP122215743506481              M  2015-01-01\n",
       "4  XXXXXXXXXXXXXXXX  con_EI062515271173154              M  2015-01-01"
      ]
     },
     "execution_count": 30,
     "metadata": {},
     "output_type": "execute_result"
    }
   ],
   "source": [
    "snow.select (\"select * from ST_ADPKD_PTS limit 5\")"
   ]
  },
  {
   "cell_type": "code",
   "execution_count": 31,
   "metadata": {},
   "outputs": [
    {
     "name": "stdout",
     "output_type": "stream",
     "text": [
      "Query started at 05:36:57 PM India Standard Time; Query executed in 12.47 m"
     ]
    },
    {
     "data": {
      "text/html": [
       "<div>\n",
       "<style scoped>\n",
       "    .dataframe tbody tr th:only-of-type {\n",
       "        vertical-align: middle;\n",
       "    }\n",
       "\n",
       "    .dataframe tbody tr th {\n",
       "        vertical-align: top;\n",
       "    }\n",
       "\n",
       "    .dataframe thead th {\n",
       "        text-align: right;\n",
       "    }\n",
       "</style>\n",
       "<table border=\"1\" class=\"dataframe\">\n",
       "  <thead>\n",
       "    <tr style=\"text-align: right;\">\n",
       "      <th></th>\n",
       "      <th>status</th>\n",
       "    </tr>\n",
       "  </thead>\n",
       "  <tbody>\n",
       "    <tr>\n",
       "      <th>0</th>\n",
       "      <td>Table ST_ADPKD_PHARMA successfully created.</td>\n",
       "    </tr>\n",
       "  </tbody>\n",
       "</table>\n",
       "</div>"
      ],
      "text/plain": [
       "                                        status\n",
       "0  Table ST_ADPKD_PHARMA successfully created."
      ]
     },
     "execution_count": 31,
     "metadata": {},
     "output_type": "execute_result"
    }
   ],
   "source": [
    "%%read_sql\n",
    "create or replace table ST_ADPKD_PHARMA as\n",
    "select\n",
    "left(encrypted_key_1, 8)||left(encrypted_key_2, 8) as patient_id,\n",
    "claim_number,\n",
    "PRODUCT_OR_SERVICE_ID\n",
    "\n",
    "from RWD_DB.RWD.RAVEN_PHARMACY\n",
    "\n",
    "where claim_number in (select distinct claim_number from ST_ADPKD_diag)\n",
    "and PRODUCT_OR_SERVICE_ID in ('46602002105','75839016905','46602002005','59148002050','59148002150')"
   ]
  },
  {
   "cell_type": "code",
   "execution_count": 32,
   "metadata": {},
   "outputs": [
    {
     "data": {
      "text/html": [
       "<div>\n",
       "<style scoped>\n",
       "    .dataframe tbody tr th:only-of-type {\n",
       "        vertical-align: middle;\n",
       "    }\n",
       "\n",
       "    .dataframe tbody tr th {\n",
       "        vertical-align: top;\n",
       "    }\n",
       "\n",
       "    .dataframe thead th {\n",
       "        text-align: right;\n",
       "    }\n",
       "</style>\n",
       "<table border=\"1\" class=\"dataframe\">\n",
       "  <thead>\n",
       "    <tr style=\"text-align: right;\">\n",
       "      <th></th>\n",
       "      <th>COUNT (DISTINCT PATIENT_ID)</th>\n",
       "    </tr>\n",
       "  </thead>\n",
       "  <tbody>\n",
       "    <tr>\n",
       "      <th>0</th>\n",
       "      <td>0</td>\n",
       "    </tr>\n",
       "  </tbody>\n",
       "</table>\n",
       "</div>"
      ],
      "text/plain": [
       "   COUNT (DISTINCT PATIENT_ID)\n",
       "0                            0"
      ]
     },
     "execution_count": 32,
     "metadata": {},
     "output_type": "execute_result"
    }
   ],
   "source": [
    "snow.select (\"select count (distinct patient_id) from ST_ADPKD_PHARMA\")"
   ]
  },
  {
   "cell_type": "code",
   "execution_count": 33,
   "metadata": {},
   "outputs": [
    {
     "name": "stdout",
     "output_type": "stream",
     "text": [
      "Query started at 05:54:20 PM India Standard Time; Query executed in 6.46 m"
     ]
    },
    {
     "data": {
      "text/html": [
       "<div>\n",
       "<style scoped>\n",
       "    .dataframe tbody tr th:only-of-type {\n",
       "        vertical-align: middle;\n",
       "    }\n",
       "\n",
       "    .dataframe tbody tr th {\n",
       "        vertical-align: top;\n",
       "    }\n",
       "\n",
       "    .dataframe thead th {\n",
       "        text-align: right;\n",
       "    }\n",
       "</style>\n",
       "<table border=\"1\" class=\"dataframe\">\n",
       "  <thead>\n",
       "    <tr style=\"text-align: right;\">\n",
       "      <th></th>\n",
       "      <th>status</th>\n",
       "    </tr>\n",
       "  </thead>\n",
       "  <tbody>\n",
       "    <tr>\n",
       "      <th>0</th>\n",
       "      <td>Table ST_ADPKD_PHARMA1 successfully created.</td>\n",
       "    </tr>\n",
       "  </tbody>\n",
       "</table>\n",
       "</div>"
      ],
      "text/plain": [
       "                                         status\n",
       "0  Table ST_ADPKD_PHARMA1 successfully created."
      ]
     },
     "execution_count": 33,
     "metadata": {},
     "output_type": "execute_result"
    }
   ],
   "source": [
    "%%read_sql\n",
    "create or replace table ST_ADPKD_PHARMA1 as\n",
    "select\n",
    "left(encrypted_key_1, 8)||left(encrypted_key_2, 8) as patient_id,\n",
    "claim_number,\n",
    "PRODUCT_OR_SERVICE_ID\n",
    "\n",
    "from RWD_DB.RWD.RAVEN_PHARMACY\n",
    "\n",
    "where PRODUCT_OR_SERVICE_ID in ('46602002105','75839016905','46602002005','59148002050','59148002150')"
   ]
  },
  {
   "cell_type": "code",
   "execution_count": 35,
   "metadata": {},
   "outputs": [
    {
     "data": {
      "text/html": [
       "<div>\n",
       "<style scoped>\n",
       "    .dataframe tbody tr th:only-of-type {\n",
       "        vertical-align: middle;\n",
       "    }\n",
       "\n",
       "    .dataframe tbody tr th {\n",
       "        vertical-align: top;\n",
       "    }\n",
       "\n",
       "    .dataframe thead th {\n",
       "        text-align: right;\n",
       "    }\n",
       "</style>\n",
       "<table border=\"1\" class=\"dataframe\">\n",
       "  <thead>\n",
       "    <tr style=\"text-align: right;\">\n",
       "      <th></th>\n",
       "      <th>COUNT (DISTINCT PATIENT_ID)</th>\n",
       "    </tr>\n",
       "  </thead>\n",
       "  <tbody>\n",
       "    <tr>\n",
       "      <th>0</th>\n",
       "      <td>6692</td>\n",
       "    </tr>\n",
       "  </tbody>\n",
       "</table>\n",
       "</div>"
      ],
      "text/plain": [
       "   COUNT (DISTINCT PATIENT_ID)\n",
       "0                         6692"
      ]
     },
     "execution_count": 35,
     "metadata": {},
     "output_type": "execute_result"
    }
   ],
   "source": [
    "snow.select (\"select count (distinct patient_id) from ST_ADPKD_PHARMA1\")"
   ]
  },
  {
   "cell_type": "code",
   "execution_count": null,
   "metadata": {},
   "outputs": [],
   "source": []
  }
 ],
 "metadata": {
  "kernelspec": {
   "display_name": "Python 3",
   "language": "python",
   "name": "python3"
  },
  "language_info": {
   "codemirror_mode": {
    "name": "ipython",
    "version": 3
   },
   "file_extension": ".py",
   "mimetype": "text/x-python",
   "name": "python",
   "nbconvert_exporter": "python",
   "pygments_lexer": "ipython3",
   "version": "3.6.5"
  },
  "toc": {
   "base_numbering": 1,
   "nav_menu": {},
   "number_sections": true,
   "sideBar": true,
   "skip_h1_title": false,
   "title_cell": "Table of Contents",
   "title_sidebar": "Contents",
   "toc_cell": false,
   "toc_position": {
    "height": "calc(100% - 180px)",
    "left": "10px",
    "top": "150px",
    "width": "384px"
   },
   "toc_section_display": true,
   "toc_window_display": true
  }
 },
 "nbformat": 4,
 "nbformat_minor": 2
}
